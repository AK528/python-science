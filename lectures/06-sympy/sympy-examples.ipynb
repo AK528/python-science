{
 "metadata": {
  "name": "sympy-examples"
 },
 "nbformat": 3,
 "nbformat_minor": 0,
 "worksheets": [
  {
   "cells": [
    {
     "cell_type": "heading",
     "level": 1,
     "metadata": {},
     "source": [
      "SymPy examples"
     ]
    },
    {
     "cell_type": "raw",
     "metadata": {},
     "source": [
      "sources:\n",
      "http://docs.sympy.org/latest/tutorial/\n",
      "http://nbviewer.ipython.org/github/ipython/ipython/blob/master/examples/notebooks/SymPy%20Examples.ipynb"
     ]
    },
    {
     "cell_type": "code",
     "collapsed": false,
     "input": [
      "from __future__ import division\n",
      "import sympy as sym\n",
      "\n",
      "# make things look pretty in the notebook\n",
      "from sympy.interactive import printing\n",
      "printing.init_printing()\n",
      "\n",
      "import math"
     ],
     "language": "python",
     "metadata": {},
     "outputs": [],
     "prompt_number": 1
    },
    {
     "cell_type": "heading",
     "level": 3,
     "metadata": {},
     "source": [
      "basic symbolic manipulation"
     ]
    },
    {
     "cell_type": "code",
     "collapsed": false,
     "input": [
      "print math.sqrt(2)"
     ],
     "language": "python",
     "metadata": {},
     "outputs": [
      {
       "output_type": "stream",
       "stream": "stdout",
       "text": [
        "1.41421356237\n"
       ]
      }
     ],
     "prompt_number": 2
    },
    {
     "cell_type": "code",
     "collapsed": false,
     "input": [
      "print sym.sqrt(2)"
     ],
     "language": "python",
     "metadata": {},
     "outputs": [
      {
       "output_type": "stream",
       "stream": "stdout",
       "text": [
        "sqrt(2)\n"
       ]
      }
     ],
     "prompt_number": 3
    },
    {
     "cell_type": "code",
     "collapsed": false,
     "input": [
      "print sym.sqrt(8)"
     ],
     "language": "python",
     "metadata": {},
     "outputs": [
      {
       "output_type": "stream",
       "stream": "stdout",
       "text": [
        "2*sqrt(2)\n"
       ]
      }
     ],
     "prompt_number": 4
    },
    {
     "cell_type": "raw",
     "metadata": {},
     "source": [
      "We can do symbolic math not just on numbers, but we can tell SymPy what to treat as a variable"
     ]
    },
    {
     "cell_type": "code",
     "collapsed": false,
     "input": [
      "from sympy import symbols\n",
      "x, y, z = sym.symbols(\"x y z\")"
     ],
     "language": "python",
     "metadata": {},
     "outputs": [],
     "prompt_number": 5
    },
    {
     "cell_type": "code",
     "collapsed": false,
     "input": [
      "expr = x + 2*y\n",
      "expr"
     ],
     "language": "python",
     "metadata": {},
     "outputs": [
      {
       "latex": [
        "$$x + 2 y$$"
       ],
       "output_type": "pyout",
       "png": "[encoded data removed]",
       "prompt_number": 6,
       "text": [
        "x + 2\u22c5y"
       ]
      }
     ],
     "prompt_number": 6
    },
    {
     "cell_type": "code",
     "collapsed": false,
     "input": [
      "expr - 1"
     ],
     "language": "python",
     "metadata": {},
     "outputs": [
      {
       "latex": [
        "$$x + 2 y - 1$$"
       ],
       "output_type": "pyout",
       "png": "[encoded data removed]",
       "prompt_number": 7,
       "text": [
        "x + 2\u22c5y - 1"
       ]
      }
     ],
     "prompt_number": 7
    },
    {
     "cell_type": "code",
     "collapsed": false,
     "input": [
      "expr - y"
     ],
     "language": "python",
     "metadata": {},
     "outputs": [
      {
       "latex": [
        "$$x + y$$"
       ],
       "output_type": "pyout",
       "png": "[encoded data removed]",
       "prompt_number": 8,
       "text": [
        "x + y"
       ]
      }
     ],
     "prompt_number": 8
    },
    {
     "cell_type": "code",
     "collapsed": false,
     "input": [
      "f = x*expr\n",
      "f"
     ],
     "language": "python",
     "metadata": {},
     "outputs": [
      {
       "latex": [
        "$$x \\left(x + 2 y\\right)$$"
       ],
       "output_type": "pyout",
       "png": "[encoded data removed]",
       "prompt_number": 9,
       "text": [
        "x\u22c5(x + 2\u22c5y)"
       ]
      }
     ],
     "prompt_number": 9
    },
    {
     "cell_type": "code",
     "collapsed": false,
     "input": [
      "g = sym.expand(f)\n",
      "g"
     ],
     "language": "python",
     "metadata": {},
     "outputs": [
      {
       "latex": [
        "$$x^{2} + 2 x y$$"
       ],
       "output_type": "pyout",
       "png": "[encoded data removed]",
       "prompt_number": 10,
       "text": [
        " 2        \n",
        "x  + 2\u22c5x\u22c5y"
       ]
      }
     ],
     "prompt_number": 10
    },
    {
     "cell_type": "code",
     "collapsed": false,
     "input": [
      "sym.factor(g)"
     ],
     "language": "python",
     "metadata": {},
     "outputs": [
      {
       "latex": [
        "$$x \\left(x + 2 y\\right)$$"
       ],
       "output_type": "pyout",
       "png": "[encoded data removed]",
       "prompt_number": 11,
       "text": [
        "x\u22c5(x + 2\u22c5y)"
       ]
      }
     ],
     "prompt_number": 11
    },
    {
     "cell_type": "heading",
     "level": 3,
     "metadata": {},
     "source": [
      "Using SymPy interactively"
     ]
    },
    {
     "cell_type": "raw",
     "metadata": {},
     "source": [
      "you can tell SymPy to setup some sane defaults that make an interactive session nicer"
     ]
    },
    {
     "cell_type": "code",
     "collapsed": false,
     "input": [
      "from sympy import init_session\n",
      "init_session()"
     ],
     "language": "python",
     "metadata": {},
     "outputs": [
      {
       "output_type": "stream",
       "stream": "stdout",
       "text": [
        "\n",
        "Welcome to pylab, a matplotlib-based Python environment [backend: TkAgg].\n",
        "For more information, type 'help(pylab)'.\n"
       ]
      },
      {
       "output_type": "stream",
       "stream": "stdout",
       "text": [
        "IPython console for SymPy 0.7.5 (Python 2.7.5-64-bit) (ground types: python)\n",
        "\n",
        "These commands were executed:\n",
        ">>> from __future__ import division\n",
        ">>> from sympy import *\n",
        ">>> x, y, z, t = symbols('x y z t')\n",
        ">>> k, m, n = symbols('k m n', integer=True)\n",
        ">>> f, g, h = symbols('f g h', cls=Function)\n",
        "\n",
        "Documentation can be found at http://www.sympy.org\n"
       ]
      }
     ],
     "prompt_number": 12
    },
    {
     "cell_type": "heading",
     "level": 3,
     "metadata": {},
     "source": [
      "substitution"
     ]
    },
    {
     "cell_type": "code",
     "collapsed": false,
     "input": [
      "expr = sin(x*2*pi)\n",
      "expr"
     ],
     "language": "python",
     "metadata": {},
     "outputs": [
      {
       "latex": [
        "$$\\sin{\\left (2 \\pi x \\right )}$$"
       ],
       "output_type": "pyout",
       "png": "[encoded data removed]",
       "prompt_number": 16,
       "text": [
        "sin(2\u22c5\u03c0\u22c5x)"
       ]
      }
     ],
     "prompt_number": 16
    },
    {
     "cell_type": "code",
     "collapsed": false,
     "input": [
      "expr.subs(x,1)"
     ],
     "language": "python",
     "metadata": {},
     "outputs": [
      {
       "latex": [
        "$$0$$"
       ],
       "output_type": "pyout",
       "png": "[encoded data removed]",
       "prompt_number": 14,
       "text": [
        "0"
       ]
      }
     ],
     "prompt_number": 14
    },
    {
     "cell_type": "code",
     "collapsed": false,
     "input": [
      "expr.subs(x,0.25)"
     ],
     "language": "python",
     "metadata": {},
     "outputs": [
      {
       "latex": [
        "$$1$$"
       ],
       "output_type": "pyout",
       "png": "[encoded data removed]",
       "prompt_number": 15,
       "text": [
        "1"
       ]
      }
     ],
     "prompt_number": 15
    },
    {
     "cell_type": "raw",
     "metadata": {},
     "source": [
      "python and sympy: sympy symbols are just objects and when you do operations on two sympy objects the result is a sympy object.  When you combine a sympy and python object, the result is also a sympy object.  But now we need to be careful when doing fractions.  For instance doing x + 1/2 will first compute 1/3 in python (giving 0 or 0.333... depending on the division operator) and then add it to the sympy x symbol.  The Rational() function makes this all happen in sympy"
     ]
    },
    {
     "cell_type": "code",
     "collapsed": false,
     "input": [
      "f = expr + Rational(1,3)\n",
      "f"
     ],
     "language": "python",
     "metadata": {},
     "outputs": [
      {
       "latex": [
        "$$\\sin{\\left (2 \\pi x \\right )} + \\frac{1}{3}$$"
       ],
       "output_type": "pyout",
       "png": "[encoded data removed]",
       "prompt_number": 18,
       "text": [
        "sin(2\u22c5\u03c0\u22c5x) + 1/3"
       ]
      }
     ],
     "prompt_number": 18
    },
    {
     "cell_type": "code",
     "collapsed": false,
     "input": [
      "expr + 1/3"
     ],
     "language": "python",
     "metadata": {},
     "outputs": [
      {
       "latex": [
        "$$\\sin{\\left (2 \\pi x \\right )} + 0.333333333333333$$"
       ],
       "output_type": "pyout",
       "png": "[encoded data removed]",
       "prompt_number": 19,
       "text": [
        "sin(2\u22c5\u03c0\u22c5x) + 0.333333333333333"
       ]
      }
     ],
     "prompt_number": 19
    },
    {
     "cell_type": "code",
     "collapsed": false,
     "input": [],
     "language": "python",
     "metadata": {},
     "outputs": []
    },
    {
     "cell_type": "code",
     "collapsed": false,
     "input": [],
     "language": "python",
     "metadata": {},
     "outputs": []
    },
    {
     "cell_type": "code",
     "collapsed": false,
     "input": [
      "Rational(3,2)*pi + exp(I*x) / (x**2 + y)\n"
     ],
     "language": "python",
     "metadata": {},
     "outputs": []
    },
    {
     "cell_type": "code",
     "collapsed": false,
     "input": [
      "from sympy import *\n",
      "(1/cos(x)).series(x, 0, 6)\n"
     ],
     "language": "python",
     "metadata": {},
     "outputs": [
      {
       "latex": [
        "$$1 + \\frac{x^{2}}{2} + \\frac{5 x^{4}}{24} + \\mathcal{O}\\left(x^{6}\\right)$$"
       ],
       "output_type": "pyout",
       "png": "[encoded data removed]",
       "prompt_number": 21,
       "text": [
        "     2      4        \n",
        "    x    5\u22c5x     \u239b 6\u239e\n",
        "1 + \u2500\u2500 + \u2500\u2500\u2500\u2500 + O\u239dx \u23a0\n",
        "    2     24         "
       ]
      }
     ],
     "prompt_number": 21
    },
    {
     "cell_type": "code",
     "collapsed": false,
     "input": [
      "diff(cos(x**2)**2 / (1+x), x)\n"
     ],
     "language": "python",
     "metadata": {},
     "outputs": []
    },
    {
     "cell_type": "code",
     "collapsed": false,
     "input": [],
     "language": "python",
     "metadata": {},
     "outputs": []
    }
   ],
   "metadata": {}
  }
 ]
}