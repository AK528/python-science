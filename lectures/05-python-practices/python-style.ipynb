{
 "metadata": {
  "name": "python-style"
 },
 "nbformat": 3,
 "nbformat_minor": 0,
 "worksheets": [
  {
   "cells": [
    {
     "cell_type": "heading",
     "level": 1,
     "metadata": {},
     "source": [
      "Python Style (from the PEP-0008)"
     ]
    },
    {
     "cell_type": "raw",
     "metadata": {},
     "source": [
      "This notebook shows the various code snippets from the PEP-0008 style guide: http://legacy.python.org/dev/peps/pep-0008/"
     ]
    },
    {
     "cell_type": "heading",
     "level": 3,
     "metadata": {},
     "source": [
      "code lay-out"
     ]
    },
    {
     "cell_type": "heading",
     "level": 4,
     "metadata": {},
     "source": [
      "indentation"
     ]
    },
    {
     "cell_type": "raw",
     "metadata": {},
     "source": [
      "Intentation should use 4 spaces per indentation level (and NOT tabs).  Python 3 does not allow for a mixture of tabs and spaces.  Note that a lot of editors will map the tab key into a sequence of spaces\n",
      "\n",
      "Continuation lines should align wrapped elements either vertically inside parentheses, brackets, or braces, or using a hanging indent (with no arguments on the first line)\n",
      "\n",
      "note: to prevent ipython from throwing errors that some things are not defined, not all the code is in a code cell."
     ]
    },
    {
     "cell_type": "raw",
     "metadata": {},
     "source": [
      "# Aligned with opening delimiter\n",
      "foo = long_function_name(var_one, var_two,\n",
      "                         var_three, var_four)\n",
      "\n",
      "# More indentation included to distinguish this from the rest.\n",
      "def long_function_name(\n",
      "        var_one, var_two, var_three,\n",
      "        var_four):\n",
      "    print(var_one)\n",
      "    \n",
      "# Note that the following is not allowed since you cannot distinguish \n",
      "# between the function body and the arguments\n",
      "def long_function_name(\n",
      "    var_one, var_two, var_three,\n",
      "    var_four):\n",
      "    print(var_one)\n"
     ]
    },
    {
     "cell_type": "heading",
     "level": 2,
     "metadata": {},
     "source": [
      "line length"
     ]
    },
    {
     "cell_type": "raw",
     "metadata": {},
     "source": [
      "Lines should be a maximum of 79 characters.  \n",
      "\n",
      "The 80-column terminal goes back to the early terminals and page-widths for printers and is pretty much a good standard for any language.\n",
      "\n",
      "Comments and docstrings should be limited to 72-characters\n",
      "\n",
      "Implied line continuation is automatic inside paranthesis, brackets"
     ]
    },
    {
     "cell_type": "code",
     "collapsed": false,
     "input": [],
     "language": "python",
     "metadata": {},
     "outputs": []
    }
   ],
   "metadata": {}
  }
 ]
}