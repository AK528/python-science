{
 "cells": [
  {
   "cell_type": "code",
   "execution_count": 3,
   "metadata": {
    "collapsed": false,
    "deletable": true,
    "editable": true
   },
   "outputs": [],
   "source": [
    "import numpy as np\n",
    "%matplotlib inline\n",
    "import matplotlib.pyplot as plt"
   ]
  },
  {
   "cell_type": "markdown",
   "metadata": {
    "deletable": true,
    "editable": true
   },
   "source": [
    "# Root Finding"
   ]
  },
  {
   "cell_type": "code",
   "execution_count": 4,
   "metadata": {
    "collapsed": true,
    "deletable": true,
    "editable": true
   },
   "outputs": [],
   "source": [
    "from scipy import integrate"
   ]
  },
  {
   "cell_type": "markdown",
   "metadata": {
    "deletable": true,
    "editable": true
   },
   "source": [
    "## Q1: "
   ]
  },
  {
   "cell_type": "code",
   "execution_count": null,
   "metadata": {
    "collapsed": true,
    "deletable": true,
    "editable": true
   },
   "outputs": [],
   "source": []
  },
  {
   "cell_type": "markdown",
   "metadata": {
    "deletable": true,
    "editable": true
   },
   "source": [
    "# FFTs"
   ]
  },
  {
   "cell_type": "code",
   "execution_count": 5,
   "metadata": {
    "collapsed": true,
    "deletable": true,
    "editable": true
   },
   "outputs": [],
   "source": [
    "from scipy.integrate import ode"
   ]
  },
  {
   "cell_type": "markdown",
   "metadata": {
    "deletable": true,
    "editable": true
   },
   "source": [
    "## Q2: FFT of chaotic pendulum\n",
    "\n",
    "Last time we looked at ODEs and the chaotic pendulum, and were interested in writing a method to integrate the pendulum in time.\n",
    "\n",
    "Here we want to examine its behavior in frequency space.  The code below will integrate the chaotic pendulum using a fixed dt, which makes it suitable for taking the FFT."
   ]
  },
  {
   "cell_type": "code",
   "execution_count": 12,
   "metadata": {
    "collapsed": false,
    "deletable": true,
    "editable": true
   },
   "outputs": [],
   "source": [
    "def rhs(t, Y, q, omega_d, b):\n",
    "    \"\"\" damped driven pendulum system derivatives.  Here, Y = (theta, omega) are\n",
    "        the solution variables. \"\"\"\n",
    "    f = np.zeros_like(Y)\n",
    "        \n",
    "    f[0] = Y[1]\n",
    "    f[1] = -q*Y[1] - np.sin(Y[0]) + b*np.cos(omega_d*t)\n",
    "\n",
    "    return f\n",
    "\n",
    "def restrict_theta(theta):\n",
    "    \"\"\" convert theta to be restricted to lie between -pi and pi\"\"\"\n",
    "    tnew = theta + np.pi\n",
    "    tnew += -2.0*np.pi*np.floor(tnew/(2.0*np.pi))\n",
    "    tnew -= np.pi\n",
    "    return tnew\n",
    "\n",
    "def int_pendulum(theta0, q, omega_d, b, tend, dt):\n",
    "    \"\"\" integrate the pendulum with a fixed timestep, dt\"\"\"\n",
    "    r = ode(rhs)\n",
    "    r.set_integrator(\"dopri5\", nsteps=150000, first_step=dt, max_step=dt, dfactor=1.0)\n",
    "\n",
    "    sol = []\n",
    "    r.set_solout(lambda t, y: sol.append([t, *y]))\n",
    "\n",
    "    t0 = 0.0\n",
    "    omega0 = 0.0\n",
    "    r.set_initial_value((theta0, omega0), t0)\n",
    "\n",
    "    r.set_f_params(q, omega_d, b)\n",
    "\n",
    "    r.integrate(tend)\n",
    "    return np.array(sol)\n",
    "\n"
   ]
  },
  {
   "cell_type": "markdown",
   "metadata": {},
   "source": [
    "The call below will give an undamped pendulum.  For a small amplitude, since we have $L = g$ in our pendulum, the period is simply $T = 2\\pi$, and the frequency is $\\nu_k = 1/(2\\pi)$.  We plot things in terms of angular frequency, $\\omega_k = 2\\pi \\nu_k$, so all the power will be at $\\omega_k = 1$."
   ]
  },
  {
   "cell_type": "code",
   "execution_count": 49,
   "metadata": {
    "collapsed": false
   },
   "outputs": [],
   "source": [
    "s = int_pendulum(np.radians(10), 0.0, 0.6666, 0.0, 200.0, 0.1)"
   ]
  },
  {
   "cell_type": "markdown",
   "metadata": {},
   "source": [
    "Your task is to complete the power spectrum routine below to calculate the FFT of theta"
   ]
  },
  {
   "cell_type": "code",
   "execution_count": 50,
   "metadata": {
    "collapsed": false
   },
   "outputs": [],
   "source": [
    "def power_spectrum(t, theta0):\n",
    "    \"\"\" return the power spectrum of theta.  For the frequency\n",
    "        component, return it in terms of omega \"\"\"\n",
    "\n",
    "    theta = restrict_theta(theta0)\n",
    "\n",
    "    N = len(t)    \n",
    "    F = (2.0/N)*np.fft.rfft(theta)\n",
    "\n",
    "    k = np.fft.rfftfreq(N)\n",
    "    kfreq = 2.0*np.pi*k*N/max(t)\n",
    "\n",
    "    return kfreq, F"
   ]
  },
  {
   "cell_type": "code",
   "execution_count": 51,
   "metadata": {
    "collapsed": true
   },
   "outputs": [],
   "source": [
    "omega, F = power_spectrum(s[:,0], s[:,1])"
   ]
  },
  {
   "cell_type": "code",
   "execution_count": 52,
   "metadata": {
    "collapsed": false
   },
   "outputs": [
    {
     "data": {
      "text/plain": [
       "(0.0, 2.0)"
      ]
     },
     "execution_count": 52,
     "metadata": {},
     "output_type": "execute_result"
    },
    {
     "data": {
      "image/png": "[encoded data removed]",
      "text/plain": [
       "<matplotlib.figure.Figure at 0x7f7b70ede208>"
      ]
     },
     "metadata": {},
     "output_type": "display_data"
    }
   ],
   "source": [
    "plt.plot(omega, np.abs(F)**2)\n",
    "plt.xlim(0.0, 2.0)"
   ]
  },
  {
   "cell_type": "code",
   "execution_count": 47,
   "metadata": {
    "collapsed": true
   },
   "outputs": [],
   "source": [
    "s = int_pendulum(np.radians(60), 0.5, 0.6666, 1.6, 200.0, 0.1)"
   ]
  },
  {
   "cell_type": "code",
   "execution_count": 48,
   "metadata": {
    "collapsed": false
   },
   "outputs": [
    {
     "data": {
      "text/plain": [
       "(0.0, 2.0)"
      ]
     },
     "execution_count": 48,
     "metadata": {},
     "output_type": "execute_result"
    },
    {
     "data": {
      "image/png": "[encoded data removed]",
      "text/plain": [
       "<matplotlib.figure.Figure at 0x7f7ba9dd07f0>"
      ]
     },
     "metadata": {},
     "output_type": "display_data"
    }
   ],
   "source": [
    "omega, F = power_spectrum(s[:,0], s[:,1])\n",
    "plt.plot(omega, np.abs(F)**2)\n",
    "plt.xlim(0.0, 2.0)"
   ]
  },
  {
   "cell_type": "markdown",
   "metadata": {
    "deletable": true,
    "editable": true
   },
   "source": [
    "# Fitting"
   ]
  },
  {
   "cell_type": "markdown",
   "metadata": {
    "deletable": true,
    "editable": true
   },
   "source": [
    "## Q3: Let's find the errors on our fit\n",
    "\n",
    "We looked at fits, but not what the errors are on the fit.  Look at `scipy.optimize.curve_fit()`.  This is a simplified wrapper on the least squares fitting.  It can return the convariance matrix, the diagonals of which can give the error of the fit for the parameters.  \n",
    "\n",
    "Make up some data that models a non-linear function (by introducing some random noise) and perform a fit and find the errors on the parameters."
   ]
  },
  {
   "cell_type": "markdown",
   "metadata": {
    "deletable": true,
    "editable": true
   },
   "source": []
  },
  {
   "cell_type": "code",
   "execution_count": null,
   "metadata": {
    "collapsed": true
   },
   "outputs": [],
   "source": [
    "s = int_pendulum(np.radians(60), 0.5, 0.6666, 1.5, 200.0)"
   ]
  }
 ],
 "metadata": {
  "kernelspec": {
   "display_name": "Python 3",
   "language": "python",
   "name": "python3"
  },
  "language_info": {
   "codemirror_mode": {
    "name": "ipython",
    "version": 3
   },
   "file_extension": ".py",
   "mimetype": "text/x-python",
   "name": "python",
   "nbconvert_exporter": "python",
   "pygments_lexer": "ipython3",
   "version": "3.5.3"
  }
 },
 "nbformat": 4,
 "nbformat_minor": 2
}
