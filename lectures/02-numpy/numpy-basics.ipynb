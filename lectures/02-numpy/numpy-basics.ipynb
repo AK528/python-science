{
 "metadata": {
  "name": "numpy-basics"
 },
 "nbformat": 3,
 "nbformat_minor": 0,
 "worksheets": [
  {
   "cells": [
    {
     "cell_type": "heading",
     "level": 1,
     "metadata": {},
     "source": [
      "Array Creation and Properties"
     ]
    },
    {
     "cell_type": "raw",
     "metadata": {},
     "source": [
      "this notebook is based on the SciPy NumPy tutorial"
     ]
    },
    {
     "cell_type": "code",
     "collapsed": false,
     "input": [
      "import numpy as np"
     ],
     "language": "python",
     "metadata": {},
     "outputs": [],
     "prompt_number": 1
    },
    {
     "cell_type": "code",
     "collapsed": false,
     "input": [
      "a = np.arange(15).reshape(3,5)\n",
      "\n",
      "print a"
     ],
     "language": "python",
     "metadata": {},
     "outputs": [
      {
       "output_type": "stream",
       "stream": "stdout",
       "text": [
        "[[ 0  1  2  3  4]\n",
        " [ 5  6  7  8  9]\n",
        " [10 11 12 13 14]]\n"
       ]
      }
     ],
     "prompt_number": 2
    },
    {
     "cell_type": "code",
     "collapsed": false,
     "input": [
      "print a.ndim\n",
      "print a.shape\n",
      "print a.size\n",
      "print a.dtype\n",
      "print a.itemsize\n",
      "print type(a)"
     ],
     "language": "python",
     "metadata": {},
     "outputs": [
      {
       "output_type": "stream",
       "stream": "stdout",
       "text": [
        "2\n",
        "(3, 5)\n",
        "15\n",
        "int64\n",
        "8\n",
        "<type 'numpy.ndarray'>\n"
       ]
      }
     ],
     "prompt_number": 3
    },
    {
     "cell_type": "raw",
     "metadata": {},
     "source": [
      "we can create an array from a list"
     ]
    },
    {
     "cell_type": "code",
     "collapsed": false,
     "input": [
      "b = np.array( [1.0, 2.0, 3.0, 4.0] )\n",
      "print b\n",
      "print b.dtype"
     ],
     "language": "python",
     "metadata": {},
     "outputs": [
      {
       "output_type": "stream",
       "stream": "stdout",
       "text": [
        "[ 1.  2.  3.  4.]\n",
        "float64\n"
       ]
      }
     ],
     "prompt_number": 4
    },
    {
     "cell_type": "raw",
     "metadata": {},
     "source": [
      "we can create a multi-dimensional array of a specified size initialized all to 0 easily.  There is also an analogous ones() and empty() array routine."
     ]
    },
    {
     "cell_type": "code",
     "collapsed": false,
     "input": [
      "c = np.zeros( (10,7), dtype=np.float64)\n",
      "print c"
     ],
     "language": "python",
     "metadata": {},
     "outputs": [
      {
       "output_type": "stream",
       "stream": "stdout",
       "text": [
        "[[ 0.  0.  0.  0.  0.  0.  0.]\n",
        " [ 0.  0.  0.  0.  0.  0.  0.]\n",
        " [ 0.  0.  0.  0.  0.  0.  0.]\n",
        " [ 0.  0.  0.  0.  0.  0.  0.]\n",
        " [ 0.  0.  0.  0.  0.  0.  0.]\n",
        " [ 0.  0.  0.  0.  0.  0.  0.]\n",
        " [ 0.  0.  0.  0.  0.  0.  0.]\n",
        " [ 0.  0.  0.  0.  0.  0.  0.]\n",
        " [ 0.  0.  0.  0.  0.  0.  0.]\n",
        " [ 0.  0.  0.  0.  0.  0.  0.]]\n"
       ]
      }
     ],
     "prompt_number": 5
    },
    {
     "cell_type": "raw",
     "metadata": {},
     "source": [
      "linspace (and logspace) create arrays with evenly space (in log) numbers.  For logspace, you specify the start and ending powers (base**start to base**stop)"
     ]
    },
    {
     "cell_type": "code",
     "collapsed": false,
     "input": [
      "d = np.linspace(0, 1, 10, endpoint=False)\n",
      "print d"
     ],
     "language": "python",
     "metadata": {},
     "outputs": [
      {
       "output_type": "stream",
       "stream": "stdout",
       "text": [
        "[ 0.   0.1  0.2  0.3  0.4  0.5  0.6  0.7  0.8  0.9]\n"
       ]
      }
     ],
     "prompt_number": 6
    },
    {
     "cell_type": "code",
     "collapsed": false,
     "input": [
      "e = np.logspace(-1, 2, 15, endpoint=False, base=10)\n",
      "print e"
     ],
     "language": "python",
     "metadata": {},
     "outputs": [
      {
       "output_type": "stream",
       "stream": "stdout",
       "text": [
        "[  0.1          0.15848932   0.25118864   0.39810717   0.63095734   1.\n",
        "   1.58489319   2.51188643   3.98107171   6.30957344  10.          15.84893192\n",
        "  25.11886432  39.81071706  63.09573445]\n"
       ]
      }
     ],
     "prompt_number": 7
    },
    {
     "cell_type": "raw",
     "metadata": {},
     "source": [
      "we can also initialize an array based on a function"
     ]
    },
    {
     "cell_type": "code",
     "collapsed": false,
     "input": [
      "f = np.fromfunction(lambda i, j: i + j, (3, 3), dtype=int)\n",
      "f"
     ],
     "language": "python",
     "metadata": {},
     "outputs": [
      {
       "output_type": "pyout",
       "prompt_number": 8,
       "text": [
        "array([[0, 1, 2],\n",
        "       [1, 2, 3],\n",
        "       [2, 3, 4]])"
       ]
      }
     ],
     "prompt_number": 8
    },
    {
     "cell_type": "code",
     "collapsed": false,
     "input": [
      "def myFun(x,y): \n",
      "    return 10*x+y\n",
      "\n",
      "g = np.fromfunction(myFun, (5,4), dtype=int)\n",
      "g"
     ],
     "language": "python",
     "metadata": {},
     "outputs": [
      {
       "output_type": "pyout",
       "prompt_number": 9,
       "text": [
        "array([[ 0,  1,  2,  3],\n",
        "       [10, 11, 12, 13],\n",
        "       [20, 21, 22, 23],\n",
        "       [30, 31, 32, 33],\n",
        "       [40, 41, 42, 43]])"
       ]
      }
     ],
     "prompt_number": 9
    },
    {
     "cell_type": "heading",
     "level": 1,
     "metadata": {},
     "source": [
      "Array Operations"
     ]
    },
    {
     "cell_type": "raw",
     "metadata": {},
     "source": [
      "most operations will work on an entire array at once"
     ]
    },
    {
     "cell_type": "code",
     "collapsed": false,
     "input": [
      "a = np.arange(12).reshape(3,4)\n",
      "print a"
     ],
     "language": "python",
     "metadata": {},
     "outputs": [
      {
       "output_type": "stream",
       "stream": "stdout",
       "text": [
        "[[ 0  1  2  3]\n",
        " [ 4  5  6  7]\n",
        " [ 8  9 10 11]]\n"
       ]
      }
     ],
     "prompt_number": 10
    },
    {
     "cell_type": "code",
     "collapsed": false,
     "input": [
      "print a.sum(axis=0)"
     ],
     "language": "python",
     "metadata": {},
     "outputs": [
      {
       "output_type": "stream",
       "stream": "stdout",
       "text": [
        "[12 15 18 21]\n"
       ]
      }
     ],
     "prompt_number": 11
    },
    {
     "cell_type": "code",
     "collapsed": false,
     "input": [
      "print a.sum()"
     ],
     "language": "python",
     "metadata": {},
     "outputs": [
      {
       "output_type": "stream",
       "stream": "stdout",
       "text": [
        "66\n"
       ]
      }
     ],
     "prompt_number": 12
    },
    {
     "cell_type": "code",
     "collapsed": false,
     "input": [
      "print a.min(), a.max()"
     ],
     "language": "python",
     "metadata": {},
     "outputs": [
      {
       "output_type": "stream",
       "stream": "stdout",
       "text": [
        "0 11\n"
       ]
      }
     ],
     "prompt_number": 13
    },
    {
     "cell_type": "heading",
     "level": 3,
     "metadata": {},
     "source": [
      "universal functions"
     ]
    },
    {
     "cell_type": "code",
     "collapsed": false,
     "input": [
      "b = a*np.pi/12.0\n",
      "print b"
     ],
     "language": "python",
     "metadata": {},
     "outputs": [
      {
       "output_type": "stream",
       "stream": "stdout",
       "text": [
        "[[ 0.          0.26179939  0.52359878  0.78539816]\n",
        " [ 1.04719755  1.30899694  1.57079633  1.83259571]\n",
        " [ 2.0943951   2.35619449  2.61799388  2.87979327]]\n"
       ]
      }
     ],
     "prompt_number": 14
    },
    {
     "cell_type": "code",
     "collapsed": false,
     "input": [
      "c = np.cos(b)\n",
      "print c"
     ],
     "language": "python",
     "metadata": {},
     "outputs": [
      {
       "output_type": "stream",
       "stream": "stdout",
       "text": [
        "[[  1.00000000e+00   9.65925826e-01   8.66025404e-01   7.07106781e-01]\n",
        " [  5.00000000e-01   2.58819045e-01   6.12323400e-17  -2.58819045e-01]\n",
        " [ -5.00000000e-01  -7.07106781e-01  -8.66025404e-01  -9.65925826e-01]]\n"
       ]
      }
     ],
     "prompt_number": 15
    },
    {
     "cell_type": "code",
     "collapsed": false,
     "input": [
      "d = b + c "
     ],
     "language": "python",
     "metadata": {},
     "outputs": [],
     "prompt_number": 16
    },
    {
     "cell_type": "code",
     "collapsed": false,
     "input": [
      "print d"
     ],
     "language": "python",
     "metadata": {},
     "outputs": [
      {
       "output_type": "stream",
       "stream": "stdout",
       "text": [
        "[[ 1.          1.22772521  1.38962418  1.49250494]\n",
        " [ 1.54719755  1.56781598  1.57079633  1.57377667]\n",
        " [ 1.5943951   1.64908771  1.75196847  1.91386744]]\n"
       ]
      }
     ],
     "prompt_number": 17
    },
    {
     "cell_type": "heading",
     "level": 1,
     "metadata": {},
     "source": [
      "Slicing"
     ]
    },
    {
     "cell_type": "raw",
     "metadata": {},
     "source": [
      "slicing works very similarly to how we saw with strings"
     ]
    },
    {
     "cell_type": "code",
     "collapsed": false,
     "input": [
      "a = np.fromfunction(myFun, (5,4),dtype=int)\n",
      "print a\n",
      "print \" \"\n",
      "\n",
      "print a[1,1]\n",
      "print \" \"\n",
      "\n",
      "print a[0:2,0:2]\n",
      "print \" \"\n",
      "\n",
      "print a[:,1]\n",
      "print \" \"\n",
      "\n",
      "print a.flatten()"
     ],
     "language": "python",
     "metadata": {},
     "outputs": [
      {
       "output_type": "stream",
       "stream": "stdout",
       "text": [
        "[[ 0  1  2  3]\n",
        " [10 11 12 13]\n",
        " [20 21 22 23]\n",
        " [30 31 32 33]\n",
        " [40 41 42 43]]\n",
        " \n",
        "11\n",
        " \n",
        "[[ 0  1]\n",
        " [10 11]]\n",
        " \n",
        "[ 1 11 21 31 41]\n",
        " \n",
        "[ 0  1  2  3 10 11 12 13 20 21 22 23 30 31 32 33 40 41 42 43]\n"
       ]
      }
     ],
     "prompt_number": 18
    },
    {
     "cell_type": "raw",
     "metadata": {},
     "source": [
      "we can also iterate -- this is done over the first axis"
     ]
    },
    {
     "cell_type": "code",
     "collapsed": false,
     "input": [
      "for row in a:\n",
      "    print row\n"
     ],
     "language": "python",
     "metadata": {},
     "outputs": [
      {
       "output_type": "stream",
       "stream": "stdout",
       "text": [
        "[0 1 2 3]\n",
        "[10 11 12 13]\n",
        "[20 21 22 23]\n",
        "[30 31 32 33]\n",
        "[40 41 42 43]\n"
       ]
      }
     ],
     "prompt_number": 19
    },
    {
     "cell_type": "raw",
     "metadata": {},
     "source": [
      "or element by element"
     ]
    },
    {
     "cell_type": "code",
     "collapsed": false,
     "input": [
      "for e in a.flat:\n",
      "    print e"
     ],
     "language": "python",
     "metadata": {},
     "outputs": [
      {
       "output_type": "stream",
       "stream": "stdout",
       "text": [
        "0\n",
        "1\n",
        "2\n",
        "3\n",
        "10\n",
        "11\n",
        "12\n",
        "13\n",
        "20\n",
        "21\n",
        "22\n",
        "23\n",
        "30\n",
        "31\n",
        "32\n",
        "33\n",
        "40\n",
        "41\n",
        "42\n",
        "43\n"
       ]
      }
     ],
     "prompt_number": 20
    },
    {
     "cell_type": "heading",
     "level": 1,
     "metadata": {},
     "source": [
      "Copying Arrays"
     ]
    },
    {
     "cell_type": "raw",
     "metadata": {},
     "source": [
      "simply using \"=\" does not make a copy, but much like with lists, you will just have multiple names pointing to the same ndarray object"
     ]
    },
    {
     "cell_type": "code",
     "collapsed": false,
     "input": [
      "a = np.arange(10)\n",
      "print a\n"
     ],
     "language": "python",
     "metadata": {},
     "outputs": [
      {
       "output_type": "stream",
       "stream": "stdout",
       "text": [
        "[0 1 2 3 4 5 6 7 8 9]\n"
       ]
      }
     ],
     "prompt_number": 21
    },
    {
     "cell_type": "code",
     "collapsed": false,
     "input": [
      "b = a\n",
      "b is a"
     ],
     "language": "python",
     "metadata": {},
     "outputs": [
      {
       "output_type": "pyout",
       "prompt_number": 22,
       "text": [
        "True"
       ]
      }
     ],
     "prompt_number": 22
    },
    {
     "cell_type": "code",
     "collapsed": false,
     "input": [
      "b.shape = (2,5)\n",
      "print b\n",
      "a.shape"
     ],
     "language": "python",
     "metadata": {},
     "outputs": [
      {
       "output_type": "stream",
       "stream": "stdout",
       "text": [
        "[[0 1 2 3 4]\n",
        " [5 6 7 8 9]]\n"
       ]
      },
      {
       "output_type": "pyout",
       "prompt_number": 23,
       "text": [
        "(2, 5)"
       ]
      }
     ],
     "prompt_number": 23
    },
    {
     "cell_type": "raw",
     "metadata": {},
     "source": [
      "a shallow copy creates a new view into the array -- the data is the same, but the array properties can be different"
     ]
    },
    {
     "cell_type": "code",
     "collapsed": false,
     "input": [
      "a = np.arange(12)\n",
      "c = a[:]\n",
      "a.shape = (3,4)\n",
      "\n",
      "print a\n",
      "print c"
     ],
     "language": "python",
     "metadata": {},
     "outputs": [
      {
       "output_type": "stream",
       "stream": "stdout",
       "text": [
        "[[ 0  1  2  3]\n",
        " [ 4  5  6  7]\n",
        " [ 8  9 10 11]]\n",
        "[ 0  1  2  3  4  5  6  7  8  9 10 11]\n"
       ]
      }
     ],
     "prompt_number": 24
    },
    {
     "cell_type": "code",
     "collapsed": false,
     "input": [
      "c[1] = -1\n",
      "print a"
     ],
     "language": "python",
     "metadata": {},
     "outputs": [
      {
       "output_type": "stream",
       "stream": "stdout",
       "text": [
        "[[ 0 -1  2  3]\n",
        " [ 4  5  6  7]\n",
        " [ 8  9 10 11]]\n"
       ]
      }
     ],
     "prompt_number": 25
    },
    {
     "cell_type": "code",
     "collapsed": false,
     "input": [
      "print c is a\n",
      "print c.base is a\n",
      "print c.flags.owndata"
     ],
     "language": "python",
     "metadata": {},
     "outputs": [
      {
       "output_type": "stream",
       "stream": "stdout",
       "text": [
        "False\n",
        "True\n",
        "False\n"
       ]
      }
     ],
     "prompt_number": 26
    },
    {
     "cell_type": "raw",
     "metadata": {},
     "source": [
      "to make a copy of the data of the array that you can deal with independently of the original, you need a deep copy"
     ]
    },
    {
     "cell_type": "code",
     "collapsed": false,
     "input": [
      "d = a.copy()\n",
      "d[:,:] = 0.0\n",
      "\n",
      "print a\n",
      "print d\n"
     ],
     "language": "python",
     "metadata": {},
     "outputs": [
      {
       "output_type": "stream",
       "stream": "stdout",
       "text": [
        "[[ 0 -1  2  3]\n",
        " [ 4  5  6  7]\n",
        " [ 8  9 10 11]]\n",
        "[[0 0 0 0]\n",
        " [0 0 0 0]\n",
        " [0 0 0 0]]\n"
       ]
      }
     ],
     "prompt_number": 27
    },
    {
     "cell_type": "heading",
     "level": 1,
     "metadata": {},
     "source": [
      "Boolean Indexing"
     ]
    },
    {
     "cell_type": "code",
     "collapsed": false,
     "input": [
      "a = np.arange(12).reshape(3,4)"
     ],
     "language": "python",
     "metadata": {},
     "outputs": [],
     "prompt_number": 28
    },
    {
     "cell_type": "code",
     "collapsed": false,
     "input": [
      "b = a > 4\n",
      "b"
     ],
     "language": "python",
     "metadata": {},
     "outputs": [
      {
       "output_type": "pyout",
       "prompt_number": 29,
       "text": [
        "array([[False, False, False, False],\n",
        "       [False,  True,  True,  True],\n",
        "       [ True,  True,  True,  True]], dtype=bool)"
       ]
      }
     ],
     "prompt_number": 29
    },
    {
     "cell_type": "code",
     "collapsed": false,
     "input": [
      "a[b] = 0\n",
      "a"
     ],
     "language": "python",
     "metadata": {},
     "outputs": [
      {
       "output_type": "pyout",
       "prompt_number": 30,
       "text": [
        "array([[0, 1, 2, 3],\n",
        "       [4, 0, 0, 0],\n",
        "       [0, 0, 0, 0]])"
       ]
      }
     ],
     "prompt_number": 30
    },
    {
     "cell_type": "code",
     "collapsed": false,
     "input": [
      "a[a == 0] = -1\n",
      "a"
     ],
     "language": "python",
     "metadata": {},
     "outputs": [
      {
       "output_type": "pyout",
       "prompt_number": 31,
       "text": [
        "array([[-1,  1,  2,  3],\n",
        "       [ 4, -1, -1, -1],\n",
        "       [-1, -1, -1, -1]])"
       ]
      }
     ],
     "prompt_number": 31
    },
    {
     "cell_type": "heading",
     "level": 1,
     "metadata": {},
     "source": [
      "Avoiding Loops"
     ]
    },
    {
     "cell_type": "heading",
     "level": 3,
     "metadata": {},
     "source": [
      "start by initialize coordinate arrays and a Gaussian function"
     ]
    },
    {
     "cell_type": "code",
     "collapsed": false,
     "input": [
      "# create 1-d x and y arrays -- we define the coordinate values such that\n",
      "# they are centered in the bin\n",
      "N = 32\n",
      "xmin = ymin = 0.0\n",
      "xmax = ymax = 1.0\n",
      "\n",
      "x = (np.arange(N)+0.5)*(xmax - xmin)/N + xmin\n",
      "y = x.copy()\n",
      "\n",
      "x2d = np.repeat(x, N)\n",
      "x2d.shape = (N, N)\n",
      "\n",
      "y2d = np.repeat(y, N)\n",
      "y2d.shape = (N, N)\n",
      "y2d = np.transpose(y2d)\n",
      "\n",
      "print x2d\n",
      "print y2d\n"
     ],
     "language": "python",
     "metadata": {},
     "outputs": [
      {
       "output_type": "stream",
       "stream": "stdout",
       "text": [
        "[[ 0.015625  0.015625  0.015625 ...,  0.015625  0.015625  0.015625]\n",
        " [ 0.046875  0.046875  0.046875 ...,  0.046875  0.046875  0.046875]\n",
        " [ 0.078125  0.078125  0.078125 ...,  0.078125  0.078125  0.078125]\n",
        " ..., \n",
        " [ 0.921875  0.921875  0.921875 ...,  0.921875  0.921875  0.921875]\n",
        " [ 0.953125  0.953125  0.953125 ...,  0.953125  0.953125  0.953125]\n",
        " [ 0.984375  0.984375  0.984375 ...,  0.984375  0.984375  0.984375]]\n",
        "[[ 0.015625  0.046875  0.078125 ...,  0.921875  0.953125  0.984375]\n",
        " [ 0.015625  0.046875  0.078125 ...,  0.921875  0.953125  0.984375]\n",
        " [ 0.015625  0.046875  0.078125 ...,  0.921875  0.953125  0.984375]\n",
        " ..., \n",
        " [ 0.015625  0.046875  0.078125 ...,  0.921875  0.953125  0.984375]\n",
        " [ 0.015625  0.046875  0.078125 ...,  0.921875  0.953125  0.984375]\n",
        " [ 0.015625  0.046875  0.078125 ...,  0.921875  0.953125  0.984375]]\n"
       ]
      }
     ],
     "prompt_number": 55
    },
    {
     "cell_type": "raw",
     "metadata": {},
     "source": [
      "Here we initialize an array with a Gaussian"
     ]
    },
    {
     "cell_type": "code",
     "collapsed": false,
     "input": [
      "g = np.exp(-((x2d-0.5)**2 + (y2d-0.5)**2)/0.2**2)\n",
      "print g\n"
     ],
     "language": "python",
     "metadata": {},
     "outputs": [
      {
       "output_type": "stream",
       "stream": "stdout",
       "text": [
        "[[  8.04100059e-06   1.67261841e-05   3.31343050e-05 ...,   3.31343050e-05\n",
        "    1.67261841e-05   8.04100059e-06]\n",
        " [  1.67261841e-05   3.47923410e-05   6.89230749e-05 ...,   6.89230749e-05\n",
        "    3.47923410e-05   1.67261841e-05]\n",
        " [  3.31343050e-05   6.89230749e-05   1.36535517e-04 ...,   1.36535517e-04\n",
        "    6.89230749e-05   3.31343050e-05]\n",
        " ..., \n",
        " [  3.31343050e-05   6.89230749e-05   1.36535517e-04 ...,   1.36535517e-04\n",
        "    6.89230749e-05   3.31343050e-05]\n",
        " [  1.67261841e-05   3.47923410e-05   6.89230749e-05 ...,   6.89230749e-05\n",
        "    3.47923410e-05   1.67261841e-05]\n",
        " [  8.04100059e-06   1.67261841e-05   3.31343050e-05 ...,   3.31343050e-05\n",
        "    1.67261841e-05   8.04100059e-06]]\n"
       ]
      }
     ],
     "prompt_number": 56
    },
    {
     "cell_type": "code",
     "collapsed": false,
     "input": [
      "%pylab inline"
     ],
     "language": "python",
     "metadata": {},
     "outputs": [
      {
       "output_type": "stream",
       "stream": "stdout",
       "text": [
        "\n",
        "Welcome to pylab, a matplotlib-based Python environment [backend: module://IPython.zmq.pylab.backend_inline].\n",
        "For more information, type 'help(pylab)'.\n"
       ]
      }
     ],
     "prompt_number": 57
    },
    {
     "cell_type": "code",
     "collapsed": false,
     "input": [
      "imshow(g, interpolation=\"nearest\")"
     ],
     "language": "python",
     "metadata": {},
     "outputs": [
      {
       "output_type": "pyout",
       "prompt_number": 58,
       "text": [
        "<matplotlib.image.AxesImage at 0x3c375d0>"
       ]
      },
      {
       "output_type": "display_data",
       "png": "[encoded data removed]"
      }
     ],
     "prompt_number": 58
    },
    {
     "cell_type": "heading",
     "level": 3,
     "metadata": {},
     "source": [
      "Numerical differencing on NumPy arrays"
     ]
    },
    {
     "cell_type": "markdown",
     "metadata": {},
     "source": [
      "Now we want to construct\n",
      "\n",
      "$$\\nabla^2 g \\cdot \\Delta x^2$$\n",
      "\n",
      "using differences between adjacent cells (think about the Calculus definition of a derivative)\n",
      "\n",
      "$$\\nabla^2 g \\cdot \\Delta x^2 \\sim {g_{i-1,j} + g_{i+1,j} - 2 g_{i,j}} + {g_{i,j-1} + g_{i,j+1} - 2 g_{i,j}}$$\n",
      "\n",
      "We'll do this two different ways---the first is with explicit loops and the second is using NumPy slice notation"
     ]
    },
    {
     "cell_type": "code",
     "collapsed": false,
     "input": [
      "d2g = np.zeros((N,N), dtype=np.float64)\n"
     ],
     "language": "python",
     "metadata": {},
     "outputs": [],
     "prompt_number": 59
    },
    {
     "cell_type": "code",
     "collapsed": false,
     "input": [
      "i = 1\n",
      "while i < N-1:\n",
      "    j = 1\n",
      "    while j < N-1:\n",
      "        d2g[i,j] = g[i+1,j] + g[i-1,j] + g[i,j+1] + g[i,j-1] - 4*g[i,j]\n",
      "        j += 1\n",
      "    i += 1\n",
      "\n",
      "imshow(d2g, interpolation=\"nearest\")"
     ],
     "language": "python",
     "metadata": {},
     "outputs": [
      {
       "output_type": "pyout",
       "prompt_number": 60,
       "text": [
        "<matplotlib.image.AxesImage at 0x3ee2450>"
       ]
      },
      {
       "output_type": "display_data",
       "png": "[encoded data removed]"
      }
     ],
     "prompt_number": 60
    },
    {
     "cell_type": "code",
     "collapsed": false,
     "input": [
      "d2gb = np.zeros((N,N), dtype=np.float64)\n",
      "print d2gb.shape"
     ],
     "language": "python",
     "metadata": {},
     "outputs": [
      {
       "output_type": "stream",
       "stream": "stdout",
       "text": [
        "(32, 32)\n"
       ]
      }
     ],
     "prompt_number": 61
    },
    {
     "cell_type": "code",
     "collapsed": false,
     "input": [
      "d2gb[1:N-1,1:N-1] = g[2:N,1:N-1] + g[0:N-2,1:N-1] + g[1:N-1,2:N] + g[1:N-1,0:N-2] - 4*g[1:N-1,1:N-1]"
     ],
     "language": "python",
     "metadata": {},
     "outputs": [],
     "prompt_number": 62
    },
    {
     "cell_type": "code",
     "collapsed": false,
     "input": [
      "print np.max(d2g - d2gb)"
     ],
     "language": "python",
     "metadata": {},
     "outputs": [
      {
       "output_type": "stream",
       "stream": "stdout",
       "text": [
        "0.0\n"
       ]
      }
     ],
     "prompt_number": 63
    },
    {
     "cell_type": "heading",
     "level": 3,
     "metadata": {},
     "source": [
      " let's take this further, and try to radially bin the data"
     ]
    },
    {
     "cell_type": "code",
     "collapsed": false,
     "input": [
      "rmin = 0\n",
      "rmax = np.sqrt(xmax**2 + ymax**2)\n",
      "\n",
      "nbins = np.int(np.sqrt(N**2 + N**2))"
     ],
     "language": "python",
     "metadata": {},
     "outputs": [],
     "prompt_number": 64
    },
    {
     "cell_type": "code",
     "collapsed": false,
     "input": [
      "# bins will hold the edges, so there is one more value than actual bin\n",
      "# bin_centers holds the center value of the bin\n",
      "bins = np.linspace(rmin, rmax, nbins+1)\n",
      "bin_centers = 0.5*(bins[1:] + bins[:-1])"
     ],
     "language": "python",
     "metadata": {},
     "outputs": [],
     "prompt_number": 65
    },
    {
     "cell_type": "code",
     "collapsed": false,
     "input": [
      "# radius of each zone\n",
      "xc = 0.5*(xmin + xmax)\n",
      "yc = 0.5*(ymin + ymax)\n",
      "\n",
      "r = np.sqrt( (x2d-xc)**2 + (y2d-yc)**2 )"
     ],
     "language": "python",
     "metadata": {},
     "outputs": [],
     "prompt_number": 66
    },
    {
     "cell_type": "code",
     "collapsed": false,
     "input": [
      "# bin the radii -- digitize returns an array with the same shape \n",
      "# as the input array but with elements of the array specifying\n",
      "# which bin that location belongs to (it gives i such that\n",
      "# bins[i-1] <= x < bins[i]).  The value of whichbin will be 1 \n",
      "# if we are located in the bin defined by bins[0] to bins[1].  \n",
      "# This means that whichbin[0] will be 0.\n",
      "whichbin = np.digitize(r.flat, bins)"
     ],
     "language": "python",
     "metadata": {},
     "outputs": [],
     "prompt_number": 67
    },
    {
     "cell_type": "code",
     "collapsed": false,
     "input": [
      "# bincount counts the number of occurrences of each non-negative\n",
      "# integer value in whichbin.\n",
      "ncount = np.bincount(whichbin)"
     ],
     "language": "python",
     "metadata": {},
     "outputs": [],
     "prompt_number": 68
    },
    {
     "cell_type": "code",
     "collapsed": false,
     "input": [
      "# now bin our function\n",
      "g_bin = np.zeros(len(ncount)-1, dtype=np.float64)\n",
      "\n",
      "n = 1\n",
      "while (n < len(ncount)):\n",
      "    # there is no whichbin == 0 -- that corresponds to the left edge\n",
      "    g_bin[n-1] = np.sum(g.flat[whichbin==n])/np.sum(ncount[n])\n",
      "    n += 1"
     ],
     "language": "python",
     "metadata": {},
     "outputs": [],
     "prompt_number": 69
    },
    {
     "cell_type": "code",
     "collapsed": false,
     "input": [
      "bin_centers = bin_centers[0:len(ncount)-1]"
     ],
     "language": "python",
     "metadata": {},
     "outputs": [],
     "prompt_number": 70
    },
    {
     "cell_type": "code",
     "collapsed": false,
     "input": [
      "scatter(bin_centers, g_bin)"
     ],
     "language": "python",
     "metadata": {},
     "outputs": [
      {
       "output_type": "pyout",
       "prompt_number": 71,
       "text": [
        "<matplotlib.collections.PathCollection at 0x3fcfd90>"
       ]
      },
      {
       "output_type": "display_data",
       "png": "[encoded data removed]"
      }
     ],
     "prompt_number": 71
    },
    {
     "cell_type": "code",
     "collapsed": false,
     "input": [],
     "language": "python",
     "metadata": {},
     "outputs": []
    }
   ],
   "metadata": {}
  }
 ]
}