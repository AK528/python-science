{
 "cells": [
  {
   "cell_type": "code",
   "execution_count": 1,
   "metadata": {
    "collapsed": true
   },
   "outputs": [],
   "source": [
    "from __future__ import print_function"
   ]
  },
  {
   "cell_type": "markdown",
   "metadata": {},
   "source": [
    "# Modules"
   ]
  },
  {
   "cell_type": "markdown",
   "metadata": {},
   "source": [
    "Here we import our own module called `myprofile` (we have it in the same directory as this notebook)"
   ]
  },
  {
   "cell_type": "code",
   "execution_count": 3,
   "metadata": {
    "collapsed": false
   },
   "outputs": [],
   "source": [
    "import myprofile"
   ]
  },
  {
   "cell_type": "markdown",
   "metadata": {},
   "source": [
    "We have a docstring at the top -- the comments there are what appear when we ask for help"
   ]
  },
  {
   "cell_type": "code",
   "execution_count": 5,
   "metadata": {
    "collapsed": false
   },
   "outputs": [
    {
     "name": "stdout",
     "output_type": "stream",
     "text": [
      "Help on module myprofile:\n",
      "\n",
      "NAME\n",
      "    myprofile\n",
      "\n",
      "DESCRIPTION\n",
      "    A very simple profiling class.  Define some timers and methods\n",
      "    to start and stop them.  Nesting of timers is tracked so we can\n",
      "    pretty print the profiling information.\n",
      "    \n",
      "    # define a timer object, labeled 'my timer'\n",
      "    a = timer('my timer')\n",
      "    \n",
      "    This will add 'my timer' to the list of keys in the 'my timer'\n",
      "    dictionary.  Subsequent calls to the timer class constructor\n",
      "    will have no effect.\n",
      "    \n",
      "    # start timing the 'my timer' block of code\n",
      "    a.begin()\n",
      "    \n",
      "    ... do stuff here ...\n",
      "    \n",
      "    # end the timing of the 'my timer' block of code\n",
      "    a.end()\n",
      "    \n",
      "    for best results, the block of code timed should be large\n",
      "    enough to offset the overhead of the timer class method\n",
      "    calls.\n",
      "    \n",
      "    Multiple timers can be instanciated and nested.  The stackCount\n",
      "    global parameter keeps count of the level of nesting, and the\n",
      "    timerNesting data structure stores the nesting level for each\n",
      "    defined timer.\n",
      "    \n",
      "    timeReport() is called at the end to print out a summary of the\n",
      "    timing.\n",
      "    \n",
      "    At present, no enforcement is done to ensure proper nesting.\n",
      "\n",
      "CLASSES\n",
      "    builtins.object\n",
      "        timer\n",
      "    \n",
      "    class timer(builtins.object)\n",
      "     |  Methods defined here:\n",
      "     |  \n",
      "     |  __init__(self, name)\n",
      "     |  \n",
      "     |  begin(self)\n",
      "     |  \n",
      "     |  end(self)\n",
      "     |  \n",
      "     |  ----------------------------------------------------------------------\n",
      "     |  Data descriptors defined here:\n",
      "     |  \n",
      "     |  __dict__\n",
      "     |      dictionary for instance variables (if defined)\n",
      "     |  \n",
      "     |  __weakref__\n",
      "     |      list of weak references to the object (if defined)\n",
      "\n",
      "FUNCTIONS\n",
      "    timeReport()\n",
      "\n",
      "DATA\n",
      "    print_function = _Feature((2, 6, 0, 'alpha', 2), (3, 0, 0, 'alpha', 0)...\n",
      "    stackCount = 0\n",
      "    timerNesting = {}\n",
      "    timerOrder = []\n",
      "    timers = {}\n",
      "\n",
      "FILE\n",
      "    /home/zingale/classes/python_science/lectures/01-python/myprofile.py\n",
      "\n",
      "\n"
     ]
    }
   ],
   "source": [
    "help(myprofile)"
   ]
  },
  {
   "cell_type": "markdown",
   "metadata": {},
   "source": [
    "This module simply provides a way to time routines (python and ipython have built-in methods for this too)"
   ]
  },
  {
   "cell_type": "code",
   "execution_count": 7,
   "metadata": {
    "collapsed": false
   },
   "outputs": [
    {
     "name": "stdout",
     "output_type": "stream",
     "text": [
      "main loop:  0.0028603076934814453\n",
      "332833500.0\n"
     ]
    }
   ],
   "source": [
    "t = myprofile.timer(\"main loop\")\n",
    "t.begin()\n",
    "\n",
    "n = 0\n",
    "sum = 0.0\n",
    "while (n < 1000):\n",
    "    sum += n**2\n",
    "    n += 1\n",
    "\n",
    "\n",
    "t.end()\n",
    "myprofile.timeReport()\n",
    "\n",
    "print(sum)"
   ]
  },
  {
   "cell_type": "markdown",
   "metadata": {},
   "source": [
    "In the file `myprofile.py`, you will see a block of code under\n",
    "\n",
    "```\n",
    "if __name__ == \"__main__\":\n",
    "```\n",
    "\n",
    "That code is executed if the file is run directly, either from the commandline as:\n",
    "\n",
    "`python myprofile.py`\n",
    "\n",
    "for through the `%run` magic"
   ]
  },
  {
   "cell_type": "code",
   "execution_count": 9,
   "metadata": {
    "collapsed": false
   },
   "outputs": [
    {
     "name": "stdout",
     "output_type": "stream",
     "text": [
      "1:  10.010079145431519\n",
      "2:  25.018166065216064\n",
      "   3:  20.014001846313477\n"
     ]
    }
   ],
   "source": [
    "%run myprofile"
   ]
  },
  {
   "cell_type": "code",
   "execution_count": 4,
   "metadata": {
    "collapsed": false
   },
   "outputs": [],
   "source": []
  },
  {
   "cell_type": "code",
   "execution_count": 4,
   "metadata": {
    "collapsed": false
   },
   "outputs": [],
   "source": []
  },
  {
   "cell_type": "code",
   "execution_count": null,
   "metadata": {
    "collapsed": false
   },
   "outputs": [],
   "source": []
  }
 ],
 "metadata": {
  "kernelspec": {
   "display_name": "Python 3",
   "language": "python",
   "name": "python3"
  },
  "language_info": {
   "codemirror_mode": {
    "name": "ipython",
    "version": 3
   },
   "file_extension": ".py",
   "mimetype": "text/x-python",
   "name": "python",
   "nbconvert_exporter": "python",
   "pygments_lexer": "ipython3",
   "version": "3.4.3"
  }
 },
 "nbformat": 4,
 "nbformat_minor": 0
}
