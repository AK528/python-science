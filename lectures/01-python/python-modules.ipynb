{
 "metadata": {
  "name": "",
  "signature": "sha256:cc9fbf3e5cec529cadee08855ddbcb754839ac1eafb7d3e87e42b9cfa21a73c6"
 },
 "nbformat": 3,
 "nbformat_minor": 0,
 "worksheets": [
  {
   "cells": [
    {
     "cell_type": "code",
     "collapsed": false,
     "input": [
      "import profile"
     ],
     "language": "python",
     "metadata": {},
     "outputs": [],
     "prompt_number": 1
    },
    {
     "cell_type": "code",
     "collapsed": false,
     "input": [
      "help(profile)"
     ],
     "language": "python",
     "metadata": {},
     "outputs": [
      {
       "output_type": "stream",
       "stream": "stdout",
       "text": [
        "Help on module profile:\n",
        "\n",
        "NAME\n",
        "    profile\n",
        "\n",
        "FILE\n",
        "    /home/zingale/classes/python_science/lectures/01-python/profile.py\n",
        "\n",
        "DESCRIPTION\n",
        "    A very simple profiling class.  Define some timers and methods\n",
        "    to start and stop them.  Nesting of timers is tracked so we can\n",
        "    pretty print the profiling information.\n",
        "    \n",
        "    # define a timer object, labeled 'my timer'\n",
        "    a = timer('my timer')\n",
        "    \n",
        "    This will add 'my timer' to the list of keys in the 'my timer'\n",
        "    dictionary.  Subsequent calls to the timer class constructor\n",
        "    will have no effect.\n",
        "    \n",
        "    # start timing the 'my timer' block of code\n",
        "    a.begin()\n",
        "    \n",
        "    ... do stuff here ...\n",
        "    \n",
        "    # end the timing of the 'my timer' block of code\n",
        "    a.end()\n",
        "    \n",
        "    for best results, the block of code timed should be large\n",
        "    enough to offset the overhead of the timer class method\n",
        "    calls.\n",
        "    \n",
        "    Multiple timers can be instanciated and nested.  The stackCount\n",
        "    global parameter keeps count of the level of nesting, and the\n",
        "    timerNesting data structure stores the nesting level for each\n",
        "    defined timer.\n",
        "    \n",
        "    timeReport() is called at the end to print out a summary of the\n",
        "    timing.\n",
        "    \n",
        "    At present, no enforcement is done to ensure proper nesting.\n",
        "\n",
        "CLASSES\n",
        "    timer\n",
        "    \n",
        "    class timer\n",
        "     |  Methods defined here:\n",
        "     |  \n",
        "     |  __init__(self, name)\n",
        "     |  \n",
        "     |  begin(self)\n",
        "     |  \n",
        "     |  end(self)\n",
        "\n",
        "FUNCTIONS\n",
        "    timeReport()\n",
        "\n",
        "DATA\n",
        "    stackCount = 0\n",
        "    timerNesting = {}\n",
        "    timerOrder = []\n",
        "    timers = {}\n",
        "\n",
        "\n"
       ]
      }
     ],
     "prompt_number": 2
    },
    {
     "cell_type": "code",
     "collapsed": false,
     "input": [
      "t = profile.timer(\"main loop\")\n",
      "t.begin()\n",
      "\n",
      "n = 0\n",
      "sum = 0.0\n",
      "while (n < 1000):\n",
      "    sum += n**2\n",
      "    n += 1\n",
      "\n",
      "\n",
      "t.end()\n",
      "profile.timeReport()\n",
      "\n",
      "print sum"
     ],
     "language": "python",
     "metadata": {},
     "outputs": [
      {
       "output_type": "stream",
       "stream": "stdout",
       "text": [
        "main loop:  0.00133609771729\n",
        "332833500.0\n"
       ]
      }
     ],
     "prompt_number": 3
    },
    {
     "cell_type": "code",
     "collapsed": false,
     "input": [
      "%run profile"
     ],
     "language": "python",
     "metadata": {},
     "outputs": [
      {
       "output_type": "stream",
       "stream": "stdout",
       "text": [
        "1:  10.01009202\n",
        "2:  25.0252840519\n",
        "   3:  20.0201430321\n"
       ]
      }
     ],
     "prompt_number": 4
    },
    {
     "cell_type": "code",
     "collapsed": false,
     "input": [],
     "language": "python",
     "metadata": {},
     "outputs": [],
     "prompt_number": 4
    },
    {
     "cell_type": "code",
     "collapsed": false,
     "input": [],
     "language": "python",
     "metadata": {},
     "outputs": [],
     "prompt_number": 4
    },
    {
     "cell_type": "code",
     "collapsed": false,
     "input": [],
     "language": "python",
     "metadata": {},
     "outputs": []
    }
   ],
   "metadata": {}
  }
 ]
}