{
 "metadata": {
  "name": "ipython-advanced-datatypes"
 },
 "nbformat": 3,
 "nbformat_minor": 0,
 "worksheets": [
  {
   "cells": [
    {
     "cell_type": "heading",
     "level": 1,
     "metadata": {},
     "source": [
      "Lists"
     ]
    },
    {
     "cell_type": "raw",
     "metadata": {},
     "source": [
      "Lists group together data -- the data can be a mix of integers, floating point or complex #s, strings, or other objects (including other lists)"
     ]
    },
    {
     "cell_type": "code",
     "collapsed": false,
     "input": [
      "a = [1, 2.0, \"my list\", 4]"
     ],
     "language": "python",
     "metadata": {},
     "outputs": [],
     "prompt_number": 1
    },
    {
     "cell_type": "code",
     "collapsed": false,
     "input": [
      "print a"
     ],
     "language": "python",
     "metadata": {},
     "outputs": [
      {
       "output_type": "stream",
       "stream": "stdout",
       "text": [
        "[1, 2.0, 'my list', 4]\n"
       ]
      }
     ],
     "prompt_number": 2
    },
    {
     "cell_type": "code",
     "collapsed": false,
     "input": [
      "print a[2]     # remember, 0-based indexing"
     ],
     "language": "python",
     "metadata": {},
     "outputs": [
      {
       "output_type": "stream",
       "stream": "stdout",
       "text": [
        "my list\n"
       ]
      }
     ],
     "prompt_number": 3
    },
    {
     "cell_type": "code",
     "collapsed": false,
     "input": [
      "print a*2"
     ],
     "language": "python",
     "metadata": {},
     "outputs": [
      {
       "output_type": "stream",
       "stream": "stdout",
       "text": [
        "[1, 2.0, 'my list', 4, 1, 2.0, 'my list', 4]\n"
       ]
      }
     ],
     "prompt_number": 4
    },
    {
     "cell_type": "code",
     "collapsed": false,
     "input": [
      "print len(a)"
     ],
     "language": "python",
     "metadata": {},
     "outputs": [
      {
       "output_type": "stream",
       "stream": "stdout",
       "text": [
        "4\n"
       ]
      }
     ],
     "prompt_number": 5
    },
    {
     "cell_type": "raw",
     "metadata": {},
     "source": [
      "you can change elements in a list easily"
     ]
    },
    {
     "cell_type": "code",
     "collapsed": false,
     "input": [
      "a[1] = -2.0\n",
      "a"
     ],
     "language": "python",
     "metadata": {},
     "outputs": [
      {
       "output_type": "pyout",
       "prompt_number": 6,
       "text": [
        "[1, -2.0, 'my list', 4]"
       ]
      }
     ],
     "prompt_number": 6
    },
    {
     "cell_type": "code",
     "collapsed": false,
     "input": [
      "a[0:1] = [-1, -2.1]   # this will put two items in the spot where 1 existed before\n",
      "a"
     ],
     "language": "python",
     "metadata": {},
     "outputs": [
      {
       "output_type": "pyout",
       "prompt_number": 7,
       "text": [
        "[-1, -2.1, -2.0, 'my list', 4]"
       ]
      }
     ],
     "prompt_number": 7
    },
    {
     "cell_type": "raw",
     "metadata": {},
     "source": [
      "there are lots of methods that work on lists"
     ]
    },
    {
     "cell_type": "code",
     "collapsed": false,
     "input": [
      "a.append(6)\n",
      "a"
     ],
     "language": "python",
     "metadata": {},
     "outputs": [
      {
       "output_type": "pyout",
       "prompt_number": 8,
       "text": [
        "[-1, -2.1, -2.0, 'my list', 4, 6]"
       ]
      }
     ],
     "prompt_number": 8
    },
    {
     "cell_type": "code",
     "collapsed": false,
     "input": [
      "a.pop()\n",
      "a"
     ],
     "language": "python",
     "metadata": {},
     "outputs": [
      {
       "output_type": "pyout",
       "prompt_number": 9,
       "text": [
        "[-1, -2.1, -2.0, 'my list', 4]"
       ]
      }
     ],
     "prompt_number": 9
    },
    {
     "cell_type": "raw",
     "metadata": {},
     "source": [
      "copying may seem a little counterintuitive at first"
     ]
    },
    {
     "cell_type": "code",
     "collapsed": false,
     "input": [
      "b = a  # this is just a pointer, both a and b refer to the same list object in memory\n",
      "print a\n",
      "a[0] = \"changed\"\n",
      "print b"
     ],
     "language": "python",
     "metadata": {},
     "outputs": [
      {
       "output_type": "stream",
       "stream": "stdout",
       "text": [
        "[-1, -2.1, -2.0, 'my list', 4]\n",
        "['changed', -2.1, -2.0, 'my list', 4]\n"
       ]
      }
     ],
     "prompt_number": 10
    },
    {
     "cell_type": "raw",
     "metadata": {},
     "source": [
      "if you want to create a new object in memory that is a copy of another, then you can index the list"
     ]
    },
    {
     "cell_type": "code",
     "collapsed": false,
     "input": [
      "c = list(a)   # you can also do c = a[:], which basically slices the entire list\n",
      "a[1] = \"two\"\n",
      "print a\n",
      "print b\n",
      "print c"
     ],
     "language": "python",
     "metadata": {},
     "outputs": [
      {
       "output_type": "stream",
       "stream": "stdout",
       "text": [
        "['changed', 'two', -2.0, 'my list', 4]\n",
        "['changed', 'two', -2.0, 'my list', 4]\n",
        "['changed', -2.1, -2.0, 'my list', 4]\n"
       ]
      }
     ],
     "prompt_number": 11
    },
    {
     "cell_type": "raw",
     "metadata": {},
     "source": [
      "Note: this is what is referred to as a shallow copy.  If the original list had any special objects in it (like another list), then the new copy and the old copy will still point to that same object.  There is a deep copy method when you really want everything to be unique in memory.\n",
      "\n",
      "When in doubt, use the id() function to figure out where in memory an object lies"
     ]
    },
    {
     "cell_type": "code",
     "collapsed": false,
     "input": [
      "print id(a), id(b), id(c)"
     ],
     "language": "python",
     "metadata": {},
     "outputs": [
      {
       "output_type": "stream",
       "stream": "stdout",
       "text": [
        "43635200 43635200 43616016\n"
       ]
      }
     ],
     "prompt_number": 12
    },
    {
     "cell_type": "code",
     "collapsed": false,
     "input": [],
     "language": "python",
     "metadata": {},
     "outputs": []
    }
   ],
   "metadata": {}
  }
 ]
}