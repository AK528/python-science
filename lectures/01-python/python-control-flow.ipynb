{
 "metadata": {
  "name": "python-control-flow"
 },
 "nbformat": 3,
 "nbformat_minor": 0,
 "worksheets": [
  {
   "cells": [
    {
     "cell_type": "raw",
     "metadata": {},
     "source": [
      "A simple while loop -- notice the indentation to denote the block that is part of the loop."
     ]
    },
    {
     "cell_type": "code",
     "collapsed": false,
     "input": [
      "n = 0\n",
      "while n < 10:\n",
      "    print n\n",
      "    n += 1\n"
     ],
     "language": "python",
     "metadata": {},
     "outputs": [
      {
       "output_type": "stream",
       "stream": "stdout",
       "text": [
        "0\n",
        "1\n",
        "2\n",
        "3\n",
        "4\n",
        "5\n",
        "6\n",
        "7\n",
        "8\n",
        "9\n"
       ]
      }
     ],
     "prompt_number": 1
    },
    {
     "cell_type": "raw",
     "metadata": {},
     "source": [
      "if allows for branching.  python does not have a select/case statement"
     ]
    },
    {
     "cell_type": "code",
     "collapsed": false,
     "input": [
      "x = 10\n",
      "if x < 0:\n",
      "    print \"negative\"\n",
      "elif x == 0:\n",
      "    print \"zero\"\n",
      "else:\n",
      "    print \"positive\"\n"
     ],
     "language": "python",
     "metadata": {},
     "outputs": [
      {
       "output_type": "stream",
       "stream": "stdout",
       "text": [
        "positive\n"
       ]
      }
     ],
     "prompt_number": 2
    },
    {
     "cell_type": "raw",
     "metadata": {},
     "source": [
      "it's easy to loop over items in a list"
     ]
    },
    {
     "cell_type": "code",
     "collapsed": false,
     "input": [
      "alist = [1, 2.0, \"three\", 4]\n",
      "for a in alist:\n",
      "    print a\n"
     ],
     "language": "python",
     "metadata": {},
     "outputs": [
      {
       "output_type": "stream",
       "stream": "stdout",
       "text": [
        "1\n",
        "2.0\n",
        "three\n",
        "4\n"
       ]
      }
     ],
     "prompt_number": 3
    },
    {
     "cell_type": "raw",
     "metadata": {},
     "source": [
      "and break out of the loop when you find what you're looking for"
     ]
    },
    {
     "cell_type": "code",
     "collapsed": false,
     "input": [
      "n = 0\n",
      "for a in alist:\n",
      "    if a == \"three\":\n",
      "        break\n",
      "    else:\n",
      "        n += 1\n",
      "\n",
      "print n\n"
     ],
     "language": "python",
     "metadata": {},
     "outputs": [
      {
       "output_type": "stream",
       "stream": "stdout",
       "text": [
        "2\n"
       ]
      }
     ],
     "prompt_number": 4
    },
    {
     "cell_type": "raw",
     "metadata": {},
     "source": [
      "(for that example, however, there is a simpler way)"
     ]
    },
    {
     "cell_type": "code",
     "collapsed": false,
     "input": [
      "print alist.index(\"three\")"
     ],
     "language": "python",
     "metadata": {},
     "outputs": [
      {
       "output_type": "stream",
       "stream": "stdout",
       "text": [
        "2\n"
       ]
      }
     ],
     "prompt_number": 5
    },
    {
     "cell_type": "raw",
     "metadata": {},
     "source": [
      "for dictionaries, you can also loop over the elements"
     ]
    },
    {
     "cell_type": "code",
     "collapsed": false,
     "input": [
      "myDict = {\"key1\":1, \"key2\":2, \"key3\":3}\n",
      "\n",
      "for k, v in myDict.iteritems():\n",
      "    print \"key = %s, value = %s\" % (`k`, `v`)    # notice how we do the formatting here\n"
     ],
     "language": "python",
     "metadata": {},
     "outputs": [
      {
       "output_type": "stream",
       "stream": "stdout",
       "text": [
        "key = 'key3', value = 3\n",
        "key = 'key2', value = 2\n",
        "key = 'key1', value = 1\n"
       ]
      }
     ],
     "prompt_number": 6
    },
    {
     "cell_type": "code",
     "collapsed": false,
     "input": [],
     "language": "python",
     "metadata": {},
     "outputs": []
    }
   ],
   "metadata": {}
  }
 ]
}