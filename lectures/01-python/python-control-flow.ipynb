{
 "cells": [
  {
   "cell_type": "code",
   "execution_count": 1,
   "metadata": {
    "collapsed": true
   },
   "outputs": [],
   "source": [
    "from __future__ import print_function"
   ]
  },
  {
   "cell_type": "markdown",
   "metadata": {},
   "source": [
    "_We'll work through this notebook together in class_"
   ]
  },
  {
   "cell_type": "markdown",
   "metadata": {},
   "source": [
    "## Lists, Tuples, and Dictionaries Review"
   ]
  },
  {
   "cell_type": "markdown",
   "metadata": {},
   "source": [
    "In the notebooks we looked over at home, we were introduced to a few different data structures that allow us to group data together.  So far, we haven't learned how to take action depending on values, but we'll see that soon."
   ]
  },
  {
   "cell_type": "markdown",
   "metadata": {},
   "source": [
    "A compact way we saw to fill a list was via a list comprehension:"
   ]
  },
  {
   "cell_type": "code",
   "execution_count": 2,
   "metadata": {
    "collapsed": false
   },
   "outputs": [
    {
     "data": {
      "text/plain": [
       "[0, 1, 4, 9, 16, 25, 36, 49, 64, 81]"
      ]
     },
     "execution_count": 2,
     "metadata": {},
     "output_type": "execute_result"
    }
   ],
   "source": [
    "a = [x**2 for x in range(10)]\n",
    "a"
   ]
  },
  {
   "cell_type": "markdown",
   "metadata": {},
   "source": [
    "dictionaries hold a key and value:"
   ]
  },
  {
   "cell_type": "code",
   "execution_count": 3,
   "metadata": {
    "collapsed": false
   },
   "outputs": [
    {
     "data": {
      "text/plain": [
       "{'one': 1, 'three': 3, 'two': 2}"
      ]
     },
     "execution_count": 3,
     "metadata": {},
     "output_type": "execute_result"
    }
   ],
   "source": [
    "b = {\"one\": 1, \"two\": 2, \"three\": 3}\n",
    "b"
   ]
  },
  {
   "cell_type": "markdown",
   "metadata": {},
   "source": [
    "We had a bit of a discussion of tuples on our slack, and how they differ from lists.  The most obvious way is that they are immutable.  Often we'll see tuples used to store related data that should all be interpreted together.  A good example is a Cartesian point, (x,y).  Here's a list of points:"
   ]
  },
  {
   "cell_type": "code",
   "execution_count": 4,
   "metadata": {
    "collapsed": false
   },
   "outputs": [
    {
     "data": {
      "text/plain": [
       "[(1, 2), (2, 3), (3, 4)]"
      ]
     },
     "execution_count": 4,
     "metadata": {},
     "output_type": "execute_result"
    }
   ],
   "source": [
    "points = []\n",
    "points.append((1,2))\n",
    "points.append((2,3))\n",
    "points.append((3,4))\n",
    "points"
   ]
  },
  {
   "cell_type": "markdown",
   "metadata": {},
   "source": [
    "we can even generate these for a curve using a list comprehension:"
   ]
  },
  {
   "cell_type": "code",
   "execution_count": 5,
   "metadata": {
    "collapsed": false
   },
   "outputs": [
    {
     "data": {
      "text/plain": [
       "[(0, 5),\n",
       " (1, 7),\n",
       " (2, 9),\n",
       " (3, 11),\n",
       " (4, 13),\n",
       " (5, 15),\n",
       " (6, 17),\n",
       " (7, 19),\n",
       " (8, 21),\n",
       " (9, 23)]"
      ]
     },
     "execution_count": 5,
     "metadata": {},
     "output_type": "execute_result"
    }
   ],
   "source": [
    "points = [(x, 2*x + 5) for x in range(10)]\n",
    "points"
   ]
  },
  {
   "cell_type": "markdown",
   "metadata": {},
   "source": [
    "## Control Flow"
   ]
  },
  {
   "cell_type": "markdown",
   "metadata": {},
   "source": [
    "To write a program, we need the ability to iterate and take action based on the values of a variable.  This includes if-tests and loops.\n",
    "\n",
    "Python uses whitespace to denote a block of code."
   ]
  },
  {
   "cell_type": "markdown",
   "metadata": {},
   "source": [
    "### While Loop"
   ]
  },
  {
   "cell_type": "markdown",
   "metadata": {},
   "source": [
    "A simple while loop -- notice the indentation to denote the block that is part of the loop.\n",
    "\n",
    "Here we also use the compact `+=` operator: `n += 1` is the same as `n = n + 1`"
   ]
  },
  {
   "cell_type": "code",
   "execution_count": 6,
   "metadata": {
    "collapsed": false
   },
   "outputs": [
    {
     "name": "stdout",
     "output_type": "stream",
     "text": [
      "0\n",
      "1\n",
      "2\n",
      "3\n",
      "4\n",
      "5\n",
      "6\n",
      "7\n",
      "8\n",
      "9\n"
     ]
    }
   ],
   "source": [
    "n = 0\n",
    "while n < 10:\n",
    "    print(n)\n",
    "    n += 1"
   ]
  },
  {
   "cell_type": "markdown",
   "metadata": {},
   "source": [
    "This was a very simple example.  But often we'll use the `range()` function in this situation.  Note that `range()` can take a stride."
   ]
  },
  {
   "cell_type": "code",
   "execution_count": 7,
   "metadata": {
    "collapsed": false
   },
   "outputs": [
    {
     "name": "stdout",
     "output_type": "stream",
     "text": [
      "2\n",
      "4\n",
      "6\n",
      "8\n"
     ]
    }
   ],
   "source": [
    "for n in range(2, 10, 2):\n",
    "    print(n)"
   ]
  },
  {
   "cell_type": "code",
   "execution_count": 8,
   "metadata": {
    "collapsed": false
   },
   "outputs": [
    {
     "name": "stdout",
     "output_type": "stream",
     "text": [
      "[0, 1, 2, 3, 4, 5, 6, 7, 8, 9]\n"
     ]
    }
   ],
   "source": [
    "print(list(range(10)))"
   ]
  },
  {
   "cell_type": "code",
   "execution_count": 9,
   "metadata": {
    "collapsed": false
   },
   "outputs": [
    {
     "name": "stdout",
     "output_type": "stream",
     "text": [
      "Help on class range in module builtins:\n",
      "\n",
      "class range(object)\n",
      " |  range(stop) -> range object\n",
      " |  range(start, stop[, step]) -> range object\n",
      " |  \n",
      " |  Return an object that produces a sequence of integers from start (inclusive)\n",
      " |  to stop (exclusive) by step.  range(i, j) produces i, i+1, i+2, ..., j-1.\n",
      " |  start defaults to 0, and stop is omitted!  range(4) produces 0, 1, 2, 3.\n",
      " |  These are exactly the valid indices for a list of 4 elements.\n",
      " |  When step is given, it specifies the increment (or decrement).\n",
      " |  \n",
      " |  Methods defined here:\n",
      " |  \n",
      " |  __contains__(self, key, /)\n",
      " |      Return key in self.\n",
      " |  \n",
      " |  __eq__(self, value, /)\n",
      " |      Return self==value.\n",
      " |  \n",
      " |  __ge__(self, value, /)\n",
      " |      Return self>=value.\n",
      " |  \n",
      " |  __getattribute__(self, name, /)\n",
      " |      Return getattr(self, name).\n",
      " |  \n",
      " |  __getitem__(self, key, /)\n",
      " |      Return self[key].\n",
      " |  \n",
      " |  __gt__(self, value, /)\n",
      " |      Return self>value.\n",
      " |  \n",
      " |  __hash__(self, /)\n",
      " |      Return hash(self).\n",
      " |  \n",
      " |  __iter__(self, /)\n",
      " |      Implement iter(self).\n",
      " |  \n",
      " |  __le__(self, value, /)\n",
      " |      Return self<=value.\n",
      " |  \n",
      " |  __len__(self, /)\n",
      " |      Return len(self).\n",
      " |  \n",
      " |  __lt__(self, value, /)\n",
      " |      Return self<value.\n",
      " |  \n",
      " |  __ne__(self, value, /)\n",
      " |      Return self!=value.\n",
      " |  \n",
      " |  __new__(*args, **kwargs) from builtins.type\n",
      " |      Create and return a new object.  See help(type) for accurate signature.\n",
      " |  \n",
      " |  __reduce__(...)\n",
      " |      helper for pickle\n",
      " |  \n",
      " |  __repr__(self, /)\n",
      " |      Return repr(self).\n",
      " |  \n",
      " |  __reversed__(...)\n",
      " |      Return a reverse iterator.\n",
      " |  \n",
      " |  count(...)\n",
      " |      rangeobject.count(value) -> integer -- return number of occurrences of value\n",
      " |  \n",
      " |  index(...)\n",
      " |      rangeobject.index(value, [start, [stop]]) -> integer -- return index of value.\n",
      " |      Raise ValueError if the value is not present.\n",
      " |  \n",
      " |  ----------------------------------------------------------------------\n",
      " |  Data descriptors defined here:\n",
      " |  \n",
      " |  start\n",
      " |  \n",
      " |  step\n",
      " |  \n",
      " |  stop\n",
      "\n"
     ]
    }
   ],
   "source": [
    "help(range)"
   ]
  },
  {
   "cell_type": "markdown",
   "metadata": {},
   "source": [
    "### `if` Statements"
   ]
  },
  {
   "cell_type": "markdown",
   "metadata": {},
   "source": [
    "`if` allows for branching.  python does not have a select/case statement like some other languages, but `if`, `elif`, and `else` can reproduce any branching functionality you might need."
   ]
  },
  {
   "cell_type": "code",
   "execution_count": 10,
   "metadata": {
    "collapsed": false
   },
   "outputs": [
    {
     "name": "stdout",
     "output_type": "stream",
     "text": [
      "zero\n"
     ]
    }
   ],
   "source": [
    "x = 0\n",
    "\n",
    "if x < 0:\n",
    "    print(\"negative\")\n",
    "elif x == 0:\n",
    "    print(\"zero\")\n",
    "else:\n",
    "    print(\"positive\")\n"
   ]
  },
  {
   "cell_type": "markdown",
   "metadata": {},
   "source": [
    "### Iterating Over Elements"
   ]
  },
  {
   "cell_type": "markdown",
   "metadata": {},
   "source": [
    "it's easy to loop over items in a list or any _iterable_ object.  The `in` operator is the key here."
   ]
  },
  {
   "cell_type": "code",
   "execution_count": 11,
   "metadata": {
    "collapsed": false
   },
   "outputs": [
    {
     "name": "stdout",
     "output_type": "stream",
     "text": [
      "1\n",
      "2.0\n",
      "three\n",
      "4\n"
     ]
    }
   ],
   "source": [
    "alist = [1, 2.0, \"three\", 4]\n",
    "for a in alist:\n",
    "    print(a)"
   ]
  },
  {
   "cell_type": "code",
   "execution_count": 12,
   "metadata": {
    "collapsed": false
   },
   "outputs": [
    {
     "name": "stdout",
     "output_type": "stream",
     "text": [
      "t\n",
      "h\n",
      "i\n",
      "s\n",
      " \n",
      "i\n",
      "s\n",
      " \n",
      "a\n",
      " \n",
      "s\n",
      "t\n",
      "r\n",
      "i\n",
      "n\n",
      "g\n"
     ]
    }
   ],
   "source": [
    "for c in \"this is a string\":\n",
    "    print(c)"
   ]
  },
  {
   "cell_type": "markdown",
   "metadata": {},
   "source": [
    "We can combine loops and if-tests to do more complex logic, like break out of the loop when you find what you're looking for"
   ]
  },
  {
   "cell_type": "code",
   "execution_count": 13,
   "metadata": {
    "collapsed": false
   },
   "outputs": [
    {
     "name": "stdout",
     "output_type": "stream",
     "text": [
      "2\n"
     ]
    }
   ],
   "source": [
    "n = 0\n",
    "for a in alist:\n",
    "    if a == \"three\":\n",
    "        break\n",
    "    else:\n",
    "        n += 1\n",
    "\n",
    "print(n)\n"
   ]
  },
  {
   "cell_type": "markdown",
   "metadata": {},
   "source": [
    "(for that example, however, there is a simpler way)"
   ]
  },
  {
   "cell_type": "code",
   "execution_count": 14,
   "metadata": {
    "collapsed": false
   },
   "outputs": [
    {
     "name": "stdout",
     "output_type": "stream",
     "text": [
      "2\n"
     ]
    }
   ],
   "source": [
    "print(alist.index(\"three\"))"
   ]
  },
  {
   "cell_type": "markdown",
   "metadata": {},
   "source": [
    "for dictionaries, you can also loop over the elements"
   ]
  },
  {
   "cell_type": "code",
   "execution_count": 15,
   "metadata": {
    "collapsed": false
   },
   "outputs": [
    {
     "name": "stdout",
     "output_type": "stream",
     "text": [
      "key = key1, value = 1\n",
      "key = key3, value = 3\n",
      "key = key2, value = 2\n"
     ]
    }
   ],
   "source": [
    "my_dict = {\"key1\":1, \"key2\":2, \"key3\":3}\n",
    "\n",
    "for k, v in my_dict.items():\n",
    "    print(\"key = {}, value = {}\".format(k, v))    # notice how we do the formatting here\n"
   ]
  },
  {
   "cell_type": "code",
   "execution_count": 16,
   "metadata": {
    "collapsed": false
   },
   "outputs": [
    {
     "name": "stdout",
     "output_type": "stream",
     "text": [
      "key1 1\n",
      "key2 2\n",
      "key3 3\n"
     ]
    }
   ],
   "source": [
    "for k in sorted(my_dict):\n",
    "    print(k, my_dict[k])"
   ]
  },
  {
   "cell_type": "markdown",
   "metadata": {},
   "source": [
    "sometimes we want to loop over a list element and know its index -- `enumerate()` helps here:"
   ]
  },
  {
   "cell_type": "code",
   "execution_count": 17,
   "metadata": {
    "collapsed": false
   },
   "outputs": [
    {
     "name": "stdout",
     "output_type": "stream",
     "text": [
      "0 1\n",
      "1 2.0\n",
      "2 three\n",
      "3 4\n"
     ]
    }
   ],
   "source": [
    "for n, a in enumerate(alist):\n",
    "    print(n, a)"
   ]
  },
  {
   "cell_type": "code",
   "execution_count": 18,
   "metadata": {
    "collapsed": false
   },
   "outputs": [
    {
     "name": "stdout",
     "output_type": "stream",
     "text": [
      "Help on class enumerate in module builtins:\n",
      "\n",
      "class enumerate(object)\n",
      " |  enumerate(iterable[, start]) -> iterator for index, value of iterable\n",
      " |  \n",
      " |  Return an enumerate object.  iterable must be another object that supports\n",
      " |  iteration.  The enumerate object yields pairs containing a count (from\n",
      " |  start, which defaults to zero) and a value yielded by the iterable argument.\n",
      " |  enumerate is useful for obtaining an indexed list:\n",
      " |      (0, seq[0]), (1, seq[1]), (2, seq[2]), ...\n",
      " |  \n",
      " |  Methods defined here:\n",
      " |  \n",
      " |  __getattribute__(self, name, /)\n",
      " |      Return getattr(self, name).\n",
      " |  \n",
      " |  __iter__(self, /)\n",
      " |      Implement iter(self).\n",
      " |  \n",
      " |  __new__(*args, **kwargs) from builtins.type\n",
      " |      Create and return a new object.  See help(type) for accurate signature.\n",
      " |  \n",
      " |  __next__(self, /)\n",
      " |      Implement next(self).\n",
      " |  \n",
      " |  __reduce__(...)\n",
      " |      Return state information for pickling.\n",
      "\n"
     ]
    }
   ],
   "source": [
    "help(enumerate)"
   ]
  },
  {
   "cell_type": "markdown",
   "metadata": {},
   "source": [
    "## In-class Exercises"
   ]
  },
  {
   "cell_type": "markdown",
   "metadata": {},
   "source": [
    "## Q 1\n",
    "\n",
    "We can use the `input()` function to ask for input from the prompt (note: in python 2 the function was called `raw_input()`).\n",
    "\n",
    "Create an empty list and use a while loop to ask the user for input and append their input to the list.  Keep looping until 10 items are added to the list"
   ]
  },
  {
   "cell_type": "code",
   "execution_count": null,
   "metadata": {
    "collapsed": false
   },
   "outputs": [],
   "source": []
  },
  {
   "cell_type": "markdown",
   "metadata": {},
   "source": [
    "## Q 2\n",
    "\n",
    "Here's some text (the Gettysburg Address).  Our goal is to count how many times each word repeats.  We'll do a brute force method first, and then we'll look a ways to do it more efficiently (and compactly)."
   ]
  },
  {
   "cell_type": "code",
   "execution_count": 19,
   "metadata": {
    "collapsed": true
   },
   "outputs": [],
   "source": [
    "gettysburg_address = \"\"\"\n",
    "Four score and seven years ago our fathers brought forth on this continent, \n",
    "a new nation, conceived in Liberty, and dedicated to the proposition that \n",
    "all men are created equal.\n",
    "\n",
    "Now we are engaged in a great civil war, testing whether that nation, or \n",
    "any nation so conceived and so dedicated, can long endure. We are met on\n",
    "a great battle-field of that war. We have come to dedicate a portion of\n",
    "that field, as a final resting place for those who here gave their lives\n",
    "that that nation might live. It is altogether fitting and proper that we\n",
    "should do this.\n",
    "\n",
    "But, in a larger sense, we can not dedicate -- we can not consecrate -- we\n",
    "can not hallow -- this ground. The brave men, living and dead, who struggled\n",
    "here, have consecrated it, far above our poor power to add or detract.  The\n",
    "world will little note, nor long remember what we say here, but it can never\n",
    "forget what they did here. It is for us the living, rather, to be dedicated\n",
    "here to the unfinished work which they who fought here have thus far so nobly\n",
    "advanced. It is rather for us to be here dedicated to the great task remaining\n",
    "before us -- that from these honored dead we take increased devotion to that\n",
    "cause for which they gave the last full measure of devotion -- that we here\n",
    "highly resolve that these dead shall not have died in vain -- that this\n",
    "nation, under God, shall have a new birth of freedom -- and that government\n",
    "of the people, by the people, for the people, shall not perish from the earth.\n",
    "\"\"\""
   ]
  },
  {
   "cell_type": "markdown",
   "metadata": {},
   "source": [
    "A useful operation on a string is the split it.  The `split()` method will, by default, split by spaces, so it will split this into words, producing a list:"
   ]
  },
  {
   "cell_type": "code",
   "execution_count": 20,
   "metadata": {
    "collapsed": true
   },
   "outputs": [],
   "source": [
    "ga = gettysburg_address.split()"
   ]
  },
  {
   "cell_type": "code",
   "execution_count": 21,
   "metadata": {
    "collapsed": false
   },
   "outputs": [
    {
     "data": {
      "text/plain": [
       "['Four',\n",
       " 'score',\n",
       " 'and',\n",
       " 'seven',\n",
       " 'years',\n",
       " 'ago',\n",
       " 'our',\n",
       " 'fathers',\n",
       " 'brought',\n",
       " 'forth',\n",
       " 'on',\n",
       " 'this',\n",
       " 'continent,',\n",
       " 'a',\n",
       " 'new',\n",
       " 'nation,',\n",
       " 'conceived',\n",
       " 'in',\n",
       " 'Liberty,',\n",
       " 'and',\n",
       " 'dedicated',\n",
       " 'to',\n",
       " 'the',\n",
       " 'proposition',\n",
       " 'that',\n",
       " 'all',\n",
       " 'men',\n",
       " 'are',\n",
       " 'created',\n",
       " 'equal.',\n",
       " 'Now',\n",
       " 'we',\n",
       " 'are',\n",
       " 'engaged',\n",
       " 'in',\n",
       " 'a',\n",
       " 'great',\n",
       " 'civil',\n",
       " 'war,',\n",
       " 'testing',\n",
       " 'whether',\n",
       " 'that',\n",
       " 'nation,',\n",
       " 'or',\n",
       " 'any',\n",
       " 'nation',\n",
       " 'so',\n",
       " 'conceived',\n",
       " 'and',\n",
       " 'so',\n",
       " 'dedicated,',\n",
       " 'can',\n",
       " 'long',\n",
       " 'endure.',\n",
       " 'We',\n",
       " 'are',\n",
       " 'met',\n",
       " 'on',\n",
       " 'a',\n",
       " 'great',\n",
       " 'battle-field',\n",
       " 'of',\n",
       " 'that',\n",
       " 'war.',\n",
       " 'We',\n",
       " 'have',\n",
       " 'come',\n",
       " 'to',\n",
       " 'dedicate',\n",
       " 'a',\n",
       " 'portion',\n",
       " 'of',\n",
       " 'that',\n",
       " 'field,',\n",
       " 'as',\n",
       " 'a',\n",
       " 'final',\n",
       " 'resting',\n",
       " 'place',\n",
       " 'for',\n",
       " 'those',\n",
       " 'who',\n",
       " 'here',\n",
       " 'gave',\n",
       " 'their',\n",
       " 'lives',\n",
       " 'that',\n",
       " 'that',\n",
       " 'nation',\n",
       " 'might',\n",
       " 'live.',\n",
       " 'It',\n",
       " 'is',\n",
       " 'altogether',\n",
       " 'fitting',\n",
       " 'and',\n",
       " 'proper',\n",
       " 'that',\n",
       " 'we',\n",
       " 'should',\n",
       " 'do',\n",
       " 'this.',\n",
       " 'But,',\n",
       " 'in',\n",
       " 'a',\n",
       " 'larger',\n",
       " 'sense,',\n",
       " 'we',\n",
       " 'can',\n",
       " 'not',\n",
       " 'dedicate',\n",
       " '--',\n",
       " 'we',\n",
       " 'can',\n",
       " 'not',\n",
       " 'consecrate',\n",
       " '--',\n",
       " 'we',\n",
       " 'can',\n",
       " 'not',\n",
       " 'hallow',\n",
       " '--',\n",
       " 'this',\n",
       " 'ground.',\n",
       " 'The',\n",
       " 'brave',\n",
       " 'men,',\n",
       " 'living',\n",
       " 'and',\n",
       " 'dead,',\n",
       " 'who',\n",
       " 'struggled',\n",
       " 'here,',\n",
       " 'have',\n",
       " 'consecrated',\n",
       " 'it,',\n",
       " 'far',\n",
       " 'above',\n",
       " 'our',\n",
       " 'poor',\n",
       " 'power',\n",
       " 'to',\n",
       " 'add',\n",
       " 'or',\n",
       " 'detract.',\n",
       " 'The',\n",
       " 'world',\n",
       " 'will',\n",
       " 'little',\n",
       " 'note,',\n",
       " 'nor',\n",
       " 'long',\n",
       " 'remember',\n",
       " 'what',\n",
       " 'we',\n",
       " 'say',\n",
       " 'here,',\n",
       " 'but',\n",
       " 'it',\n",
       " 'can',\n",
       " 'never',\n",
       " 'forget',\n",
       " 'what',\n",
       " 'they',\n",
       " 'did',\n",
       " 'here.',\n",
       " 'It',\n",
       " 'is',\n",
       " 'for',\n",
       " 'us',\n",
       " 'the',\n",
       " 'living,',\n",
       " 'rather,',\n",
       " 'to',\n",
       " 'be',\n",
       " 'dedicated',\n",
       " 'here',\n",
       " 'to',\n",
       " 'the',\n",
       " 'unfinished',\n",
       " 'work',\n",
       " 'which',\n",
       " 'they',\n",
       " 'who',\n",
       " 'fought',\n",
       " 'here',\n",
       " 'have',\n",
       " 'thus',\n",
       " 'far',\n",
       " 'so',\n",
       " 'nobly',\n",
       " 'advanced.',\n",
       " 'It',\n",
       " 'is',\n",
       " 'rather',\n",
       " 'for',\n",
       " 'us',\n",
       " 'to',\n",
       " 'be',\n",
       " 'here',\n",
       " 'dedicated',\n",
       " 'to',\n",
       " 'the',\n",
       " 'great',\n",
       " 'task',\n",
       " 'remaining',\n",
       " 'before',\n",
       " 'us',\n",
       " '--',\n",
       " 'that',\n",
       " 'from',\n",
       " 'these',\n",
       " 'honored',\n",
       " 'dead',\n",
       " 'we',\n",
       " 'take',\n",
       " 'increased',\n",
       " 'devotion',\n",
       " 'to',\n",
       " 'that',\n",
       " 'cause',\n",
       " 'for',\n",
       " 'which',\n",
       " 'they',\n",
       " 'gave',\n",
       " 'the',\n",
       " 'last',\n",
       " 'full',\n",
       " 'measure',\n",
       " 'of',\n",
       " 'devotion',\n",
       " '--',\n",
       " 'that',\n",
       " 'we',\n",
       " 'here',\n",
       " 'highly',\n",
       " 'resolve',\n",
       " 'that',\n",
       " 'these',\n",
       " 'dead',\n",
       " 'shall',\n",
       " 'not',\n",
       " 'have',\n",
       " 'died',\n",
       " 'in',\n",
       " 'vain',\n",
       " '--',\n",
       " 'that',\n",
       " 'this',\n",
       " 'nation,',\n",
       " 'under',\n",
       " 'God,',\n",
       " 'shall',\n",
       " 'have',\n",
       " 'a',\n",
       " 'new',\n",
       " 'birth',\n",
       " 'of',\n",
       " 'freedom',\n",
       " '--',\n",
       " 'and',\n",
       " 'that',\n",
       " 'government',\n",
       " 'of',\n",
       " 'the',\n",
       " 'people,',\n",
       " 'by',\n",
       " 'the',\n",
       " 'people,',\n",
       " 'for',\n",
       " 'the',\n",
       " 'people,',\n",
       " 'shall',\n",
       " 'not',\n",
       " 'perish',\n",
       " 'from',\n",
       " 'the',\n",
       " 'earth.']"
      ]
     },
     "execution_count": 21,
     "metadata": {},
     "output_type": "execute_result"
    }
   ],
   "source": [
    "ga"
   ]
  },
  {
   "cell_type": "markdown",
   "metadata": {},
   "source": [
    "Now, the next problem is that some of these still have punctuation.  In particular, we see \"`.`\", \"`,`\", and \"`--`\".\n",
    "\n",
    "When considering a word, we can get rid of these by using the `replace()` method:"
   ]
  },
  {
   "cell_type": "code",
   "execution_count": 22,
   "metadata": {
    "collapsed": false
   },
   "outputs": [
    {
     "data": {
      "text/plain": [
       "'end'"
      ]
     },
     "execution_count": 22,
     "metadata": {},
     "output_type": "execute_result"
    }
   ],
   "source": [
    "a = \"end.,\"\n",
    "b = a.replace(\".\", \"\").replace(\",\", \"\")\n",
    "b"
   ]
  },
  {
   "cell_type": "markdown",
   "metadata": {},
   "source": [
    "Another problem is case -- we want to count \"but\" and \"But\" as the same.  Strings have a `lower()` method that can be used to covert a string:"
   ]
  },
  {
   "cell_type": "code",
   "execution_count": 23,
   "metadata": {
    "collapsed": false
   },
   "outputs": [
    {
     "data": {
      "text/plain": [
       "False"
      ]
     },
     "execution_count": 23,
     "metadata": {},
     "output_type": "execute_result"
    }
   ],
   "source": [
    "a = \"But\"\n",
    "b = \"but\"\n",
    "a == b"
   ]
  },
  {
   "cell_type": "code",
   "execution_count": 24,
   "metadata": {
    "collapsed": false
   },
   "outputs": [
    {
     "data": {
      "text/plain": [
       "{'key1': 1, 'key2': 2, 'key3': 3}"
      ]
     },
     "execution_count": 24,
     "metadata": {},
     "output_type": "execute_result"
    }
   ],
   "source": [
    "my_dict"
   ]
  },
  {
   "cell_type": "code",
   "execution_count": 25,
   "metadata": {
    "collapsed": false
   },
   "outputs": [
    {
     "data": {
      "text/plain": [
       "False"
      ]
     },
     "execution_count": 25,
     "metadata": {},
     "output_type": "execute_result"
    }
   ],
   "source": [
    "\"key4\" in my_dict"
   ]
  },
  {
   "cell_type": "code",
   "execution_count": 26,
   "metadata": {
    "collapsed": false
   },
   "outputs": [
    {
     "data": {
      "text/plain": [
       "True"
      ]
     },
     "execution_count": 26,
     "metadata": {},
     "output_type": "execute_result"
    }
   ],
   "source": [
    "a.lower() == b.lower()"
   ]
  },
  {
   "cell_type": "markdown",
   "metadata": {},
   "source": [
    "Recall that strings are immutable, so `replace()` produces a new string on output."
   ]
  },
  {
   "cell_type": "markdown",
   "metadata": {},
   "source": [
    "## your task\n",
    "\n",
    "Create a dictionary that uses the unique words as keys and has as a value the number of times that word appears.  \n",
    "\n",
    "Write a loop over the words in the string (using our split version) and do the following:\n",
    "  * remove any punctuation\n",
    "  * convert to lowercase\n",
    "  * test if the word is already a key in the dictionary (using the `in` operator)\n",
    "     - if the key exists, increment the word count for that key\n",
    "     - otherwise, add it to the dictionary with the appropiate count of `1`.\n",
    "\n",
    "At the end, print out the words and a count of how many times they appear"
   ]
  },
  {
   "cell_type": "code",
   "execution_count": 27,
   "metadata": {
    "collapsed": false
   },
   "outputs": [
    {
     "data": {
      "text/plain": [
       "{'--': 7,\n",
       " 'a': 7,\n",
       " 'above': 1,\n",
       " 'add': 1,\n",
       " 'advanced': 1,\n",
       " 'ago': 1,\n",
       " 'all': 1,\n",
       " 'altogether': 1,\n",
       " 'and': 6,\n",
       " 'any': 1,\n",
       " 'are': 3,\n",
       " 'as': 1,\n",
       " 'battle-field': 1,\n",
       " 'be': 2,\n",
       " 'before': 1,\n",
       " 'birth': 1,\n",
       " 'brave': 1,\n",
       " 'brought': 1,\n",
       " 'but': 2,\n",
       " 'by': 1,\n",
       " 'can': 5,\n",
       " 'cause': 1,\n",
       " 'civil': 1,\n",
       " 'come': 1,\n",
       " 'conceived': 2,\n",
       " 'consecrate': 1,\n",
       " 'consecrated': 1,\n",
       " 'continent': 1,\n",
       " 'created': 1,\n",
       " 'dead': 3,\n",
       " 'dedicate': 2,\n",
       " 'dedicated': 4,\n",
       " 'detract': 1,\n",
       " 'devotion': 2,\n",
       " 'did': 1,\n",
       " 'died': 1,\n",
       " 'do': 1,\n",
       " 'earth': 1,\n",
       " 'endure': 1,\n",
       " 'engaged': 1,\n",
       " 'equal': 1,\n",
       " 'far': 2,\n",
       " 'fathers': 1,\n",
       " 'field': 1,\n",
       " 'final': 1,\n",
       " 'fitting': 1,\n",
       " 'for': 5,\n",
       " 'forget': 1,\n",
       " 'forth': 1,\n",
       " 'fought': 1,\n",
       " 'four': 1,\n",
       " 'freedom': 1,\n",
       " 'from': 2,\n",
       " 'full': 1,\n",
       " 'gave': 2,\n",
       " 'god': 1,\n",
       " 'government': 1,\n",
       " 'great': 3,\n",
       " 'ground': 1,\n",
       " 'hallow': 1,\n",
       " 'have': 5,\n",
       " 'here': 8,\n",
       " 'highly': 1,\n",
       " 'honored': 1,\n",
       " 'in': 4,\n",
       " 'increased': 1,\n",
       " 'is': 3,\n",
       " 'it': 5,\n",
       " 'larger': 1,\n",
       " 'last': 1,\n",
       " 'liberty': 1,\n",
       " 'little': 1,\n",
       " 'live': 1,\n",
       " 'lives': 1,\n",
       " 'living': 2,\n",
       " 'long': 2,\n",
       " 'measure': 1,\n",
       " 'men': 2,\n",
       " 'met': 1,\n",
       " 'might': 1,\n",
       " 'nation': 5,\n",
       " 'never': 1,\n",
       " 'new': 2,\n",
       " 'nobly': 1,\n",
       " 'nor': 1,\n",
       " 'not': 5,\n",
       " 'note': 1,\n",
       " 'now': 1,\n",
       " 'of': 5,\n",
       " 'on': 2,\n",
       " 'or': 2,\n",
       " 'our': 2,\n",
       " 'people': 3,\n",
       " 'perish': 1,\n",
       " 'place': 1,\n",
       " 'poor': 1,\n",
       " 'portion': 1,\n",
       " 'power': 1,\n",
       " 'proper': 1,\n",
       " 'proposition': 1,\n",
       " 'rather': 2,\n",
       " 'remaining': 1,\n",
       " 'remember': 1,\n",
       " 'resolve': 1,\n",
       " 'resting': 1,\n",
       " 'say': 1,\n",
       " 'score': 1,\n",
       " 'sense': 1,\n",
       " 'seven': 1,\n",
       " 'shall': 3,\n",
       " 'should': 1,\n",
       " 'so': 3,\n",
       " 'struggled': 1,\n",
       " 'take': 1,\n",
       " 'task': 1,\n",
       " 'testing': 1,\n",
       " 'that': 13,\n",
       " 'the': 11,\n",
       " 'their': 1,\n",
       " 'these': 2,\n",
       " 'they': 3,\n",
       " 'this': 4,\n",
       " 'those': 1,\n",
       " 'thus': 1,\n",
       " 'to': 8,\n",
       " 'under': 1,\n",
       " 'unfinished': 1,\n",
       " 'us': 3,\n",
       " 'vain': 1,\n",
       " 'war': 2,\n",
       " 'we': 10,\n",
       " 'what': 2,\n",
       " 'whether': 1,\n",
       " 'which': 2,\n",
       " 'who': 3,\n",
       " 'will': 1,\n",
       " 'work': 1,\n",
       " 'world': 1,\n",
       " 'years': 1}"
      ]
     },
     "execution_count": 27,
     "metadata": {},
     "output_type": "execute_result"
    }
   ],
   "source": [
    "# your code here\n",
    "words = {}\n",
    "for word in ga:\n",
    "    b = word.replace(\".\", \"\").replace(\",\", \"\").lower()\n",
    "    if b in words:\n",
    "        words[b] += 1\n",
    "    else:\n",
    "        words[b] = 1\n",
    "        \n",
    "words"
   ]
  },
  {
   "cell_type": "markdown",
   "metadata": {},
   "source": [
    "## More compact way\n",
    "\n",
    "We can actually do this a lot more compactly by using another list comprehensions and another python datatype called a set.  A set is a group of items, where each item is unique (e.g., no repetitions)."
   ]
  },
  {
   "cell_type": "markdown",
   "metadata": {},
   "source": [
    "Here's a list comprehension that removes all the punctuation and converts to lower case:"
   ]
  },
  {
   "cell_type": "code",
   "execution_count": 28,
   "metadata": {
    "collapsed": false
   },
   "outputs": [],
   "source": [
    "words = [q.lower().replace(\".\", \"\").replace(\",\", \"\") for q in ga]"
   ]
  },
  {
   "cell_type": "markdown",
   "metadata": {},
   "source": [
    "and by using the `set()` function, we turn the list into a set, removing any duplicates:"
   ]
  },
  {
   "cell_type": "code",
   "execution_count": 29,
   "metadata": {
    "collapsed": true
   },
   "outputs": [],
   "source": [
    "unique_words = set(words)"
   ]
  },
  {
   "cell_type": "markdown",
   "metadata": {},
   "source": [
    "now we can loop over the unique words and use the `count` method of a list to find how many there are"
   ]
  },
  {
   "cell_type": "code",
   "execution_count": 30,
   "metadata": {
    "collapsed": false
   },
   "outputs": [
    {
     "data": {
      "text/plain": [
       "{'--': 7,\n",
       " 'a': 7,\n",
       " 'above': 1,\n",
       " 'add': 1,\n",
       " 'advanced': 1,\n",
       " 'ago': 1,\n",
       " 'all': 1,\n",
       " 'altogether': 1,\n",
       " 'and': 6,\n",
       " 'any': 1,\n",
       " 'are': 3,\n",
       " 'as': 1,\n",
       " 'battle-field': 1,\n",
       " 'be': 2,\n",
       " 'before': 1,\n",
       " 'birth': 1,\n",
       " 'brave': 1,\n",
       " 'brought': 1,\n",
       " 'but': 2,\n",
       " 'by': 1,\n",
       " 'can': 5,\n",
       " 'cause': 1,\n",
       " 'civil': 1,\n",
       " 'come': 1,\n",
       " 'conceived': 2,\n",
       " 'consecrate': 1,\n",
       " 'consecrated': 1,\n",
       " 'continent': 1,\n",
       " 'created': 1,\n",
       " 'dead': 3,\n",
       " 'dedicate': 2,\n",
       " 'dedicated': 4,\n",
       " 'detract': 1,\n",
       " 'devotion': 2,\n",
       " 'did': 1,\n",
       " 'died': 1,\n",
       " 'do': 1,\n",
       " 'earth': 1,\n",
       " 'endure': 1,\n",
       " 'engaged': 1,\n",
       " 'equal': 1,\n",
       " 'far': 2,\n",
       " 'fathers': 1,\n",
       " 'field': 1,\n",
       " 'final': 1,\n",
       " 'fitting': 1,\n",
       " 'for': 5,\n",
       " 'forget': 1,\n",
       " 'forth': 1,\n",
       " 'fought': 1,\n",
       " 'four': 1,\n",
       " 'freedom': 1,\n",
       " 'from': 2,\n",
       " 'full': 1,\n",
       " 'gave': 2,\n",
       " 'god': 1,\n",
       " 'government': 1,\n",
       " 'great': 3,\n",
       " 'ground': 1,\n",
       " 'hallow': 1,\n",
       " 'have': 5,\n",
       " 'here': 8,\n",
       " 'highly': 1,\n",
       " 'honored': 1,\n",
       " 'in': 4,\n",
       " 'increased': 1,\n",
       " 'is': 3,\n",
       " 'it': 5,\n",
       " 'larger': 1,\n",
       " 'last': 1,\n",
       " 'liberty': 1,\n",
       " 'little': 1,\n",
       " 'live': 1,\n",
       " 'lives': 1,\n",
       " 'living': 2,\n",
       " 'long': 2,\n",
       " 'measure': 1,\n",
       " 'men': 2,\n",
       " 'met': 1,\n",
       " 'might': 1,\n",
       " 'nation': 5,\n",
       " 'never': 1,\n",
       " 'new': 2,\n",
       " 'nobly': 1,\n",
       " 'nor': 1,\n",
       " 'not': 5,\n",
       " 'note': 1,\n",
       " 'now': 1,\n",
       " 'of': 5,\n",
       " 'on': 2,\n",
       " 'or': 2,\n",
       " 'our': 2,\n",
       " 'people': 3,\n",
       " 'perish': 1,\n",
       " 'place': 1,\n",
       " 'poor': 1,\n",
       " 'portion': 1,\n",
       " 'power': 1,\n",
       " 'proper': 1,\n",
       " 'proposition': 1,\n",
       " 'rather': 2,\n",
       " 'remaining': 1,\n",
       " 'remember': 1,\n",
       " 'resolve': 1,\n",
       " 'resting': 1,\n",
       " 'say': 1,\n",
       " 'score': 1,\n",
       " 'sense': 1,\n",
       " 'seven': 1,\n",
       " 'shall': 3,\n",
       " 'should': 1,\n",
       " 'so': 3,\n",
       " 'struggled': 1,\n",
       " 'take': 1,\n",
       " 'task': 1,\n",
       " 'testing': 1,\n",
       " 'that': 13,\n",
       " 'the': 11,\n",
       " 'their': 1,\n",
       " 'these': 2,\n",
       " 'they': 3,\n",
       " 'this': 4,\n",
       " 'those': 1,\n",
       " 'thus': 1,\n",
       " 'to': 8,\n",
       " 'under': 1,\n",
       " 'unfinished': 1,\n",
       " 'us': 3,\n",
       " 'vain': 1,\n",
       " 'war': 2,\n",
       " 'we': 10,\n",
       " 'what': 2,\n",
       " 'whether': 1,\n",
       " 'which': 2,\n",
       " 'who': 3,\n",
       " 'will': 1,\n",
       " 'work': 1,\n",
       " 'world': 1,\n",
       " 'years': 1}"
      ]
     },
     "execution_count": 30,
     "metadata": {},
     "output_type": "execute_result"
    }
   ],
   "source": [
    "count = {}\n",
    "for uw in unique_words:\n",
    "    count[uw] = words.count(uw)\n",
    "    \n",
    "count"
   ]
  },
  {
   "cell_type": "code",
   "execution_count": null,
   "metadata": {
    "collapsed": true
   },
   "outputs": [],
   "source": []
  }
 ],
 "metadata": {
  "kernelspec": {
   "display_name": "Python 3",
   "language": "python",
   "name": "python3"
  },
  "language_info": {
   "codemirror_mode": {
    "name": "ipython",
    "version": 3
   },
   "file_extension": ".py",
   "mimetype": "text/x-python",
   "name": "python",
   "nbconvert_exporter": "python",
   "pygments_lexer": "ipython3",
   "version": "3.5.2"
  }
 },
 "nbformat": 4,
 "nbformat_minor": 0
}
