{
 "metadata": {
  "name": "",
  "signature": "sha256:59bf1a70bf4deebf68bc95fd7a05d901cce014dab6d028101e7fdaa29aa16a7a"
 },
 "nbformat": 3,
 "nbformat_minor": 0,
 "worksheets": [
  {
   "cells": [
    {
     "cell_type": "raw",
     "metadata": {},
     "source": [
      "A simple while loop -- notice the indentation to denote the block that is part of the loop."
     ]
    },
    {
     "cell_type": "code",
     "collapsed": false,
     "input": [
      "n = 0\n",
      "while n < 10:\n",
      "    print n\n",
      "    n += 1\n"
     ],
     "language": "python",
     "metadata": {},
     "outputs": [
      {
       "output_type": "stream",
       "stream": "stdout",
       "text": [
        "0\n",
        "1\n",
        "2\n",
        "3\n",
        "4\n",
        "5\n",
        "6\n",
        "7\n",
        "8\n",
        "9\n"
       ]
      }
     ],
     "prompt_number": 1
    },
    {
     "cell_type": "raw",
     "metadata": {},
     "source": [
      "often we'll use range() in this situation"
     ]
    },
    {
     "cell_type": "code",
     "collapsed": false,
     "input": [
      "for n in range(10):\n",
      "    print n"
     ],
     "language": "python",
     "metadata": {},
     "outputs": [
      {
       "output_type": "stream",
       "stream": "stdout",
       "text": [
        "0\n",
        "1\n",
        "2\n",
        "3\n",
        "4\n",
        "5\n",
        "6\n",
        "7\n",
        "8\n",
        "9\n"
       ]
      }
     ],
     "prompt_number": 5
    },
    {
     "cell_type": "raw",
     "metadata": {},
     "source": [
      "if allows for branching.  python does not have a select/case statement"
     ]
    },
    {
     "cell_type": "code",
     "collapsed": false,
     "input": [
      "x = 10\n",
      "if x < 0:\n",
      "    print \"negative\"\n",
      "elif x == 0:\n",
      "    print \"zero\"\n",
      "else:\n",
      "    print \"positive\"\n"
     ],
     "language": "python",
     "metadata": {},
     "outputs": [
      {
       "output_type": "stream",
       "stream": "stdout",
       "text": [
        "positive\n"
       ]
      }
     ],
     "prompt_number": 6
    },
    {
     "cell_type": "raw",
     "metadata": {},
     "source": [
      "it's easy to loop over items in a list"
     ]
    },
    {
     "cell_type": "code",
     "collapsed": false,
     "input": [
      "alist = [1, 2.0, \"three\", 4]\n",
      "for a in alist:\n",
      "    print a\n"
     ],
     "language": "python",
     "metadata": {},
     "outputs": [
      {
       "output_type": "stream",
       "stream": "stdout",
       "text": [
        "1\n",
        "2.0\n",
        "three\n",
        "4\n"
       ]
      }
     ],
     "prompt_number": 7
    },
    {
     "cell_type": "raw",
     "metadata": {},
     "source": [
      "and break out of the loop when you find what you're looking for"
     ]
    },
    {
     "cell_type": "code",
     "collapsed": false,
     "input": [
      "n = 0\n",
      "for a in alist:\n",
      "    if a == \"three\":\n",
      "        break\n",
      "    else:\n",
      "        n += 1\n",
      "\n",
      "print n\n"
     ],
     "language": "python",
     "metadata": {},
     "outputs": [
      {
       "output_type": "stream",
       "stream": "stdout",
       "text": [
        "2\n"
       ]
      }
     ],
     "prompt_number": 8
    },
    {
     "cell_type": "raw",
     "metadata": {},
     "source": [
      "(for that example, however, there is a simpler way)"
     ]
    },
    {
     "cell_type": "code",
     "collapsed": false,
     "input": [
      "print alist.index(\"three\")"
     ],
     "language": "python",
     "metadata": {},
     "outputs": [
      {
       "output_type": "stream",
       "stream": "stdout",
       "text": [
        "2\n"
       ]
      }
     ],
     "prompt_number": 9
    },
    {
     "cell_type": "raw",
     "metadata": {},
     "source": [
      "for dictionaries, you can also loop over the elements"
     ]
    },
    {
     "cell_type": "code",
     "collapsed": false,
     "input": [
      "myDict = {\"key1\":1, \"key2\":2, \"key3\":3}\n",
      "\n",
      "for k, v in myDict.iteritems():\n",
      "    print \"key = %s, value = %s\" % (`k`, `v`)    # notice how we do the formatting here\n"
     ],
     "language": "python",
     "metadata": {},
     "outputs": [
      {
       "output_type": "stream",
       "stream": "stdout",
       "text": [
        "key = 'key3', value = 3\n",
        "key = 'key2', value = 2\n",
        "key = 'key1', value = 1\n"
       ]
      }
     ],
     "prompt_number": 10
    },
    {
     "cell_type": "raw",
     "metadata": {},
     "source": [
      "sometimes we want to loop over a list element and know its index.  enumerate() helps here:"
     ]
    },
    {
     "cell_type": "code",
     "collapsed": false,
     "input": [
      "for n, a in enumerate(alist):\n",
      "    print n, a"
     ],
     "language": "python",
     "metadata": {},
     "outputs": [
      {
       "output_type": "stream",
       "stream": "stdout",
       "text": [
        "0 1\n",
        "1 2.0\n",
        "2 three\n",
        "3 4\n"
       ]
      }
     ],
     "prompt_number": 11
    },
    {
     "cell_type": "code",
     "collapsed": false,
     "input": [
      "help(enumerate)"
     ],
     "language": "python",
     "metadata": {},
     "outputs": [
      {
       "output_type": "stream",
       "stream": "stdout",
       "text": [
        "Help on class enumerate in module __builtin__:\n",
        "\n",
        "class enumerate(object)\n",
        " |  enumerate(iterable[, start]) -> iterator for index, value of iterable\n",
        " |  \n",
        " |  Return an enumerate object.  iterable must be another object that supports\n",
        " |  iteration.  The enumerate object yields pairs containing a count (from\n",
        " |  start, which defaults to zero) and a value yielded by the iterable argument.\n",
        " |  enumerate is useful for obtaining an indexed list:\n",
        " |      (0, seq[0]), (1, seq[1]), (2, seq[2]), ...\n",
        " |  \n",
        " |  Methods defined here:\n",
        " |  \n",
        " |  __getattribute__(...)\n",
        " |      x.__getattribute__('name') <==> x.name\n",
        " |  \n",
        " |  __iter__(...)\n",
        " |      x.__iter__() <==> iter(x)\n",
        " |  \n",
        " |  next(...)\n",
        " |      x.next() -> the next value, or raise StopIteration\n",
        " |  \n",
        " |  ----------------------------------------------------------------------\n",
        " |  Data and other attributes defined here:\n",
        " |  \n",
        " |  __new__ = <built-in method __new__ of type object>\n",
        " |      T.__new__(S, ...) -> a new object with type S, a subtype of T\n",
        "\n"
       ]
      }
     ],
     "prompt_number": 12
    },
    {
     "cell_type": "code",
     "collapsed": false,
     "input": [],
     "language": "python",
     "metadata": {},
     "outputs": []
    }
   ],
   "metadata": {}
  }
 ]
}