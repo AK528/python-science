{
 "metadata": {
  "name": "python-functions"
 },
 "nbformat": 3,
 "nbformat_minor": 0,
 "worksheets": [
  {
   "cells": [
    {
     "cell_type": "heading",
     "level": 1,
     "metadata": {},
     "source": [
      "functions"
     ]
    },
    {
     "cell_type": "code",
     "collapsed": false,
     "input": [
      "def myFun(i):\n",
      "    print \"in the function, here's i:\" , i\n",
      "\n",
      "myFun(10)\n",
      "myFun(5)"
     ],
     "language": "python",
     "metadata": {},
     "outputs": [
      {
       "output_type": "stream",
       "stream": "stdout",
       "text": [
        "in the function, here's i: 10\n",
        "in the function, here's i: 5\n"
       ]
      }
     ],
     "prompt_number": 1
    },
    {
     "cell_type": "raw",
     "metadata": {},
     "source": [
      "functions are one place where scope comes into play.  A function has its own namespace.  If a variable is not defined in that function, then it will look to the namespace from where it was called to see if that variable exists there.  "
     ]
    },
    {
     "cell_type": "code",
     "collapsed": false,
     "input": [
      "globalVar = 10\n",
      "\n",
      "def printFun(string, n):\n",
      "    if n < globalVar:\n",
      "        print string*n\n",
      "    else:\n",
      "        print string*globalVar\n",
      "\n",
      "printFun(\"-\", 5)\n",
      "printFun(\"-\", 20)"
     ],
     "language": "python",
     "metadata": {},
     "outputs": [
      {
       "output_type": "stream",
       "stream": "stdout",
       "text": [
        "-----\n",
        "----------\n"
       ]
      }
     ],
     "prompt_number": 2
    },
    {
     "cell_type": "raw",
     "metadata": {},
     "source": [
      "functions can return values (even multiple values) of any type"
     ]
    },
    {
     "cell_type": "code",
     "collapsed": false,
     "input": [
      "def fib2(n): # return Fibonacci series up to n (from the python tutorial)\n",
      "    \"\"\"Return a list containing the Fibonacci series up to n.\"\"\"\n",
      "    result = []\n",
      "    a, b = 0, 1\n",
      "    while a < n:\n",
      "        result.append(a)    # see below\n",
      "        a, b = b, a+b\n",
      "    return result, len(result)\n",
      "\n",
      "list, n = fib2(250)\n",
      "print n\n",
      "print list"
     ],
     "language": "python",
     "metadata": {},
     "outputs": [
      {
       "output_type": "stream",
       "stream": "stdout",
       "text": [
        "14\n",
        "[0, 1, 1, 2, 3, 5, 8, 13, 21, 34, 55, 89, 144, 233]\n"
       ]
      }
     ],
     "prompt_number": 3
    },
    {
     "cell_type": "raw",
     "metadata": {},
     "source": [
      "Note that this function includes a docstring (just after the function definition).  This is used by the help system"
     ]
    },
    {
     "cell_type": "code",
     "collapsed": false,
     "input": [
      "help(fib2)"
     ],
     "language": "python",
     "metadata": {},
     "outputs": [
      {
       "output_type": "stream",
       "stream": "stdout",
       "text": [
        "Help on function fib2 in module __main__:\n",
        "\n",
        "fib2(n)\n",
        "    Return a list containing the Fibonacci series up to n.\n",
        "\n"
       ]
      }
     ],
     "prompt_number": 4
    },
    {
     "cell_type": "code",
     "collapsed": false,
     "input": [],
     "language": "python",
     "metadata": {},
     "outputs": []
    }
   ],
   "metadata": {}
  }
 ]
}