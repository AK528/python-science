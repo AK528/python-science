{
 "metadata": {
  "name": "",
  "signature": "sha256:f87ca737baee86aa8136c730319119a7c06ba443c4d57ffc7c76d504c388766b"
 },
 "nbformat": 3,
 "nbformat_minor": 0,
 "worksheets": [
  {
   "cells": [
    {
     "cell_type": "heading",
     "level": 1,
     "metadata": {},
     "source": [
      "functions"
     ]
    },
    {
     "cell_type": "code",
     "collapsed": false,
     "input": [
      "def my_fun(i):\n",
      "    print \"in the function, here's i:\" , i\n",
      "\n",
      "my_fun(10)\n",
      "my_fun(5)"
     ],
     "language": "python",
     "metadata": {},
     "outputs": [
      {
       "output_type": "stream",
       "stream": "stdout",
       "text": [
        "in the function, here's i: 10\n",
        "in the function, here's i: 5\n"
       ]
      }
     ],
     "prompt_number": 1
    },
    {
     "cell_type": "raw",
     "metadata": {},
     "source": [
      "functions are one place where scope comes into play.  A function has its own namespace.  If a variable is not defined in that function, then it will look to the namespace from where it was called to see if that variable exists there.  "
     ]
    },
    {
     "cell_type": "code",
     "collapsed": false,
     "input": [
      "global_var = 10\n",
      "\n",
      "def print_fun(string, n):\n",
      "    if n < global_var:\n",
      "        print string*n\n",
      "    else:\n",
      "        print string*global_var\n",
      "\n",
      "print_fun(\"-\", 5)\n",
      "print_fun(\"-\", 20)"
     ],
     "language": "python",
     "metadata": {},
     "outputs": [
      {
       "output_type": "stream",
       "stream": "stdout",
       "text": [
        "-----\n",
        "----------\n"
       ]
      }
     ],
     "prompt_number": 6
    },
    {
     "cell_type": "code",
     "collapsed": false,
     "input": [
      "global_var = 100"
     ],
     "language": "python",
     "metadata": {},
     "outputs": [],
     "prompt_number": 4
    },
    {
     "cell_type": "code",
     "collapsed": false,
     "input": [
      "print_fun(\"-\",50)"
     ],
     "language": "python",
     "metadata": {},
     "outputs": [
      {
       "output_type": "stream",
       "stream": "stdout",
       "text": [
        "--------------------------------------------------\n"
       ]
      }
     ],
     "prompt_number": 5
    },
    {
     "cell_type": "raw",
     "metadata": {},
     "source": [
      "functions always return a value -- if one is not explicitly given, then they return None, otherwise, they can return values (even multiple values) of any type"
     ]
    },
    {
     "cell_type": "code",
     "collapsed": false,
     "input": [
      "a = my_fun(10)\n",
      "print a"
     ],
     "language": "python",
     "metadata": {},
     "outputs": [
      {
       "output_type": "stream",
       "stream": "stdout",
       "text": [
        "in the function, here's i: 10\n",
        "None\n"
       ]
      }
     ],
     "prompt_number": 7
    },
    {
     "cell_type": "code",
     "collapsed": false,
     "input": [
      "def fib2(n): # return Fibonacci series up to n (from the python tutorial)\n",
      "    \"\"\"Return a list containing the Fibonacci series up to n.\"\"\"\n",
      "    result = []\n",
      "    a, b = 0, 1\n",
      "    while a < n:\n",
      "        result.append(a)    # see below\n",
      "        a, b = b, a+b\n",
      "    return result, len(result)\n",
      "\n",
      "list, n = fib2(250)\n",
      "print n\n",
      "print list"
     ],
     "language": "python",
     "metadata": {},
     "outputs": [
      {
       "output_type": "stream",
       "stream": "stdout",
       "text": [
        "14\n",
        "[0, 1, 1, 2, 3, 5, 8, 13, 21, 34, 55, 89, 144, 233]\n"
       ]
      }
     ],
     "prompt_number": 8
    },
    {
     "cell_type": "raw",
     "metadata": {},
     "source": [
      "Note that this function includes a docstring (just after the function definition).  This is used by the help system"
     ]
    },
    {
     "cell_type": "code",
     "collapsed": false,
     "input": [
      "help(fib2)"
     ],
     "language": "python",
     "metadata": {},
     "outputs": [
      {
       "output_type": "stream",
       "stream": "stdout",
       "text": [
        "Help on function fib2 in module __main__:\n",
        "\n",
        "fib2(n)\n",
        "    Return a list containing the Fibonacci series up to n.\n",
        "\n"
       ]
      }
     ],
     "prompt_number": 9
    },
    {
     "cell_type": "raw",
     "metadata": {},
     "source": [
      "you can have optional arguments which provide defaults"
     ]
    },
    {
     "cell_type": "code",
     "collapsed": false,
     "input": [
      "def check_answer(val, correct_answer=\"a\"):\n",
      "    if val == correct_answer:\n",
      "        return True\n",
      "    else:\n",
      "        return False\n",
      "\n",
      "print check_answer(\"a\")\n",
      "print check_answer(\"a\", correct_answer=\"b\")"
     ],
     "language": "python",
     "metadata": {},
     "outputs": []
    },
    {
     "cell_type": "raw",
     "metadata": {},
     "source": [
      "it is important to note that python evaluates the optional arguments once--when the function is defined.  THis means that if you make the default an empty object, for instance, it will persist across all calls."
     ]
    },
    {
     "cell_type": "code",
     "collapsed": false,
     "input": [
      "def f(a, L=[]):\n",
      "    L.append(a)\n",
      "    return L\n",
      "\n",
      "print f(1)\n",
      "print f(2)\n",
      "print f(3)"
     ],
     "language": "python",
     "metadata": {},
     "outputs": []
    },
    {
     "cell_type": "raw",
     "metadata": {},
     "source": [
      "instead do"
     ]
    },
    {
     "cell_type": "code",
     "collapsed": false,
     "input": [
      "def fnew(a, L=None):\n",
      "    if L is None:\n",
      "        L = []\n",
      "    L.append(a)\n",
      "    return L\n",
      "\n",
      "print fnew(1)\n",
      "print fnew(2)\n",
      "print fnew(3)"
     ],
     "language": "python",
     "metadata": {},
     "outputs": []
    },
    {
     "cell_type": "code",
     "collapsed": false,
     "input": [],
     "language": "python",
     "metadata": {},
     "outputs": []
    }
   ],
   "metadata": {}
  }
 ]
}