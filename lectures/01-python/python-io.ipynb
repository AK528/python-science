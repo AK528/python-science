{
 "metadata": {
  "name": "",
  "signature": "sha256:cf529b5fbe0b780881ac272b72d2d7b62f38d08083ef46cacd1d2e0852c34873"
 },
 "nbformat": 3,
 "nbformat_minor": 0,
 "worksheets": [
  {
   "cells": [
    {
     "cell_type": "raw",
     "metadata": {},
     "source": [
      "One of the main things that we want to do in scientific computing is get data into and out of our programs"
     ]
    },
    {
     "cell_type": "heading",
     "level": 1,
     "metadata": {},
     "source": [
      "Print"
     ]
    },
    {
     "cell_type": "code",
     "collapsed": false,
     "input": [
      "x = 1\n",
      "y = 0.0000354\n",
      "z = 3.0\n",
      "s = \"my string\"\n"
     ],
     "language": "python",
     "metadata": {},
     "outputs": [],
     "prompt_number": 1
    },
    {
     "cell_type": "code",
     "collapsed": false,
     "input": [
      "print x"
     ],
     "language": "python",
     "metadata": {},
     "outputs": [
      {
       "output_type": "stream",
       "stream": "stdout",
       "text": [
        "1\n"
       ]
      }
     ],
     "prompt_number": 2
    },
    {
     "cell_type": "heading",
     "level": 3,
     "metadata": {},
     "source": [
      "old print style"
     ]
    },
    {
     "cell_type": "code",
     "collapsed": false,
     "input": [
      "print \"x = %d, y = %6.2g, z = %f, s = %s\" % (x, y, z, s)"
     ],
     "language": "python",
     "metadata": {},
     "outputs": [
      {
       "output_type": "stream",
       "stream": "stdout",
       "text": [
        "x = 1, y = 3.5e-05, z = 3.000000, s = my string\n"
       ]
      }
     ],
     "prompt_number": 3
    },
    {
     "cell_type": "heading",
     "level": 3,
     "metadata": {},
     "source": [
      "newer print style"
     ]
    },
    {
     "cell_type": "raw",
     "metadata": {},
     "source": [
      "{} takes can take arguments.  The first is the index/position/name of the value we want to print"
     ]
    },
    {
     "cell_type": "code",
     "collapsed": false,
     "input": [
      "print \"x = {}, y = {}, z = {}, s = {}\".format(x, y, z, s)"
     ],
     "language": "python",
     "metadata": {},
     "outputs": [
      {
       "output_type": "stream",
       "stream": "stdout",
       "text": [
        "x = 1, y = 3.54e-05, z = 3.0, s = my string\n"
       ]
      }
     ],
     "prompt_number": 4
    },
    {
     "cell_type": "code",
     "collapsed": false,
     "input": [
      "print \"x = {0}, y = {1:6.2g}, z = {2:.3f}, s = {3}\".format(x, y, z, s)"
     ],
     "language": "python",
     "metadata": {},
     "outputs": [
      {
       "output_type": "stream",
       "stream": "stdout",
       "text": [
        "x = 1, y = 3.5e-05, z = 3.000, s = my string\n"
       ]
      }
     ],
     "prompt_number": 5
    },
    {
     "cell_type": "raw",
     "metadata": {},
     "source": [
      "there are other formatting things, like justification, etc.  See the tutorial"
     ]
    },
    {
     "cell_type": "code",
     "collapsed": false,
     "input": [
      "print \"{:^80}\".format(\"centered string\")"
     ],
     "language": "python",
     "metadata": {},
     "outputs": [
      {
       "output_type": "stream",
       "stream": "stdout",
       "text": [
        "                                centered string                                 \n"
       ]
      }
     ],
     "prompt_number": 6
    },
    {
     "cell_type": "heading",
     "level": 1,
     "metadata": {},
     "source": [
      "File I/O"
     ]
    },
    {
     "cell_type": "code",
     "collapsed": false,
     "input": [],
     "language": "python",
     "metadata": {},
     "outputs": []
    },
    {
     "cell_type": "code",
     "collapsed": false,
     "input": [],
     "language": "python",
     "metadata": {},
     "outputs": []
    },
    {
     "cell_type": "raw",
     "metadata": {},
     "source": [
      "as expected, a file is an object"
     ]
    },
    {
     "cell_type": "code",
     "collapsed": false,
     "input": [
      "try: f = open(\"./sample.txt\", \"w\")   # open for writing -- any file of the same name will be overwritten\n",
      "except: \n",
      "    print \"cannot open the file\"\n",
      "\n",
      "print f\n"
     ],
     "language": "python",
     "metadata": {},
     "outputs": [
      {
       "output_type": "stream",
       "stream": "stdout",
       "text": [
        "<open file './sample.txt', mode 'w' at 0x7f1f461c39c0>\n"
       ]
      }
     ],
     "prompt_number": 7
    },
    {
     "cell_type": "code",
     "collapsed": false,
     "input": [
      "f.write(\"this is my first write\\n\")\n",
      "f.close()"
     ],
     "language": "python",
     "metadata": {},
     "outputs": [],
     "prompt_number": 8
    },
    {
     "cell_type": "raw",
     "metadata": {},
     "source": [
      "reading from a file, we go line by line"
     ]
    },
    {
     "cell_type": "code",
     "collapsed": false,
     "input": [
      "try: f = open(\"./test.txt\", \"r\")\n",
      "except:\n",
      "    print \"error: cannot open the file\"\n",
      "    \n",
      "for line in f.readlines():\n",
      "    print line\n"
     ],
     "language": "python",
     "metadata": {},
     "outputs": [
      {
       "output_type": "stream",
       "stream": "stdout",
       "text": [
        "Lorem ipsum dolor sit amet, consectetur adipisicing elit, sed do\n",
        "\n",
        "eiusmod tempor incididunt ut labore et dolore magna aliqua. Ut enim ad\n",
        "\n",
        "minim veniam, quis nostrud exercitation ullamco laboris nisi ut\n",
        "\n",
        "aliquip ex ea commodo consequat. Duis aute irure dolor in\n",
        "\n",
        "reprehenderit in voluptate velit esse cillum dolore eu fugiat nulla\n",
        "\n",
        "pariatur. Excepteur sint occaecat cupidatat non proident, sunt in\n",
        "\n",
        "culpa qui officia deserunt mollit anim id est laborum.\n",
        "\n",
        "\n",
        "\n"
       ]
      }
     ],
     "prompt_number": 9
    },
    {
     "cell_type": "heading",
     "level": 1,
     "metadata": {},
     "source": [
      "CSV Files"
     ]
    },
    {
     "cell_type": "raw",
     "metadata": {},
     "source": [
      "comma-separated values are an easy way to exchange data -- you can generate these from a spreadsheet program.  In the example below, we are assuming that the first line of the spreadsheet/csv file gives the headings that identify the columns.  \n",
      "\n",
      "Note that there is an amazing amount of variation in terms of what can be in a CSV file and what the format is -- the csv module does a good job sorting this all out for you."
     ]
    },
    {
     "cell_type": "code",
     "collapsed": false,
     "input": [
      "class item:\n",
      "    def __init__(self):\n",
      "        self.name = \"\"\n",
      "        self.quantity = 0\n",
      "        self.unitprice = 0.0\n",
      "        self.total = 0.0\n",
      "    \n",
      "import csv\n",
      "\n",
      "reader = csv.reader(open(\"shopping.csv\", \"r\"))\n",
      "\n",
      "headings = None\n",
      "\n",
      "shoppingList = []\n",
      "\n",
      "for row in reader:\n",
      "    if headings == None:\n",
      "        # first row\n",
      "        headings = row\n",
      "    else:\n",
      "        myItem = item()\n",
      "        myItem.name = row[headings.index(\"item\")]\n",
      "        myItem.quantity = row[headings.index(\"quantity\")]\n",
      "        myItem.unitprice = row[headings.index(\"unit price\")]\n",
      "        myItem.total = row[headings.index(\"total\")]\n",
      "        shoppingList.append(myItem)\n",
      "    \n",
      "\n",
      "for i in shoppingList:\n",
      "    print \"item: {}, quantity: {}, unit price: {}, total: {}\".format(i.name, i.quantity, i.unitprice, i.total)\n"
     ],
     "language": "python",
     "metadata": {},
     "outputs": [
      {
       "output_type": "stream",
       "stream": "stdout",
       "text": [
        "item: apples, quantity: 2, unit price: 0.33, total: 0.66\n",
        "item: bananas, quantity: 5, unit price: 0.1, total: 0.5\n",
        "item: milk, quantity: 1, unit price: 2.5, total: 2.5\n",
        "item: soda, quantity: 3, unit price: 1, total: 3\n",
        "item: rolls, quantity: 12, unit price: 0.33, total: 3.96\n",
        "item: eggs, quantity: 1, unit price: 2.5, total: 2.5\n"
       ]
      }
     ],
     "prompt_number": 10
    },
    {
     "cell_type": "heading",
     "level": 1,
     "metadata": {},
     "source": [
      "INI Files"
     ]
    },
    {
     "cell_type": "raw",
     "metadata": {},
     "source": [
      "INI or Config files are a common way of specifying options to a program.  They can take the form (from the ConfigParser page):\n",
      "\n",
      "[My Section]\n",
      "foodir: %(dir)s/whatever\n",
      "dir=frob\n",
      "long: this value continues\n",
      "   in the next line\n",
      "   \n",
      "Here we look at how to read in options and store them in a dictionary of the \n",
      "form dict[\"sec.option\"] = value\n",
      "\n",
      "We'll use a sample .ini file from a regression test suite (VARDEN-tests.ini)"
     ]
    },
    {
     "cell_type": "code",
     "collapsed": false,
     "input": [
      "import ConfigParser\n",
      "\n",
      "options = {}\n",
      "\n",
      "\n",
      "cp = ConfigParser.ConfigParser()\n",
      "cp.optionxform = str    # this makes options case-sensitive\n",
      "cp.read(\"VARDEN-tests.ini\")\n",
      "\n",
      "for sec in cp.sections():\n",
      "    for opt in cp.options(sec):\n",
      "        key = str(sec) + \".\" + str(opt)\n",
      "        value = cp.get(sec,opt)\n",
      "        options[key] = value\n",
      "    \n",
      "for k, v in options.items():\n",
      "    print \"{:32s}: {}\".format(k, v)\n"
     ],
     "language": "python",
     "metadata": {},
     "outputs": [
      {
       "output_type": "stream",
       "stream": "stdout",
       "text": [
        "bubble-3d.compileTest           : 0\n",
        "bubble-restart.dim              : 3\n",
        "bubble-restart.compileTest      : 0\n",
        "bubble-restart.numthreads       : 2\n",
        "bubble-2d.useOMP                : 0\n",
        "bubble-restart.doVis            : 0\n",
        "main.testTopDir                 : /home/regtester/RegTesting/rt-VARDEN/\n",
        "main.COMP                       : g++\n",
        "bubble-restart.inputFile        : inputs-restart-regt\n",
        "main.suiteName                  : VARDEN\n",
        "bubble-2d.buildDir              : varden/test\n",
        "bubble-restart.numprocs         : 3\n",
        "bubble-3d.doVis                 : 0\n",
        "main.sourceTree                 : F_Src\n",
        "bubble-2d.dim                   : 2\n",
        "bubble-3d.useMPI                : 1\n",
        "main.reportActiveTestsOnly      : 1\n",
        "bubble-2d.restartTest           : 0\n",
        "main.numMakeJobs                : 8\n",
        "bubble-2d.numthreads            : 2\n",
        "main.MPIcommand                 : /usr/local/bin/mpiexec -n @nprocs@ @command@\n",
        "bubble-restart.useOMP           : 1\n",
        "bubble-3d.numprocs              : 3\n",
        "bubble-restart.useMPI           : 1\n",
        "bubble-2d.useMPI                : 1\n",
        "bubble-3d.dim                   : 3\n",
        "bubble-3d.numthreads            : 2\n",
        "bubble-restart.buildDir         : varden/test\n",
        "bubble-restart.restartTest      : 1\n",
        "main.MPIhost                    : \n",
        "bubble-2d.compileTest           : 0\n",
        "bubble-3d.useOMP                : 1\n",
        "bubble-2d.doVis                 : 0\n",
        "bubble-2d.numprocs              : 2\n",
        "bubble-3d.inputFile             : inputs_3d-regt\n",
        "main.webTopDir                  : /home/regtester/RegTesting/rt-VARDEN/web\n",
        "main.MAKE                       : make\n",
        "bubble-3d.restartTest           : 0\n",
        "main.sourceDir                  : /home/regtester/RegTesting/VARDEN/\n",
        "main.FCOMP                      : gfortran\n",
        "bubble-2d.inputFile             : inputs_2d-regt\n",
        "bubble-3d.buildDir              : varden/test\n",
        "main.compareToolDir             : /home/regtester/RegTesting/AmrPostprocessing/F_Src\n",
        "main.boxLibDir                  : /home/regtester/RegTesting/BoxLib/\n",
        "bubble-restart.restartFileNum   : 4\n",
        "main.goUpLink                   : 1\n"
       ]
      }
     ],
     "prompt_number": 11
    },
    {
     "cell_type": "code",
     "collapsed": false,
     "input": [],
     "language": "python",
     "metadata": {},
     "outputs": [],
     "prompt_number": 11
    },
    {
     "cell_type": "code",
     "collapsed": false,
     "input": [],
     "language": "python",
     "metadata": {},
     "outputs": []
    }
   ],
   "metadata": {}
  }
 ]
}