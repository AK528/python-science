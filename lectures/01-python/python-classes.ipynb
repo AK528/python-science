{
 "metadata": {
  "name": "python-classes"
 },
 "nbformat": 3,
 "nbformat_minor": 0,
 "worksheets": [
  {
   "cells": [
    {
     "cell_type": "heading",
     "level": 1,
     "metadata": {},
     "source": [
      "Classes"
     ]
    },
    {
     "cell_type": "raw",
     "metadata": {},
     "source": [
      "Classes are the fundamental concept for object oriented programming.  A class defines a data type with both data and functions that can operate on the data.  An object is an instance of a class.  Each object will have its own namespace (separate from other instances of the class and other functions, etc. in your program)."
     ]
    },
    {
     "cell_type": "raw",
     "metadata": {},
     "source": [
      "Here we have a class that represents a projectile.  It has member functions for finding the distance and height of the projectile"
     ]
    },
    {
     "cell_type": "code",
     "collapsed": false,
     "input": [
      "import math\n",
      "\n",
      "class projectile:\n",
      "\n",
      "    # this is called every time a new object is created\n",
      "    def __init__ (self, v=1.0, theta=45, grav=9.81):\n",
      "\n",
      "        self.v = v           # velocity m/s\n",
      "        self.theta = theta   # angle (degrees)\n",
      "        \n",
      "        self.thetaRad = theta*math.pi/180.0\n",
      "        self.vx = v*math.cos(self.thetaRad)\n",
      "        self.vy = v*math.sin(self.thetaRad)\n",
      "\n",
      "        self.g = grav\n",
      "\n",
      "\n",
      "    def height(self):\n",
      "\n",
      "        # how high does this projectile go?\n",
      "        # vf_y^2 = 0 = vi_y^2 - 2 g h\n",
      "        h = self.vy**2/(2.0*self.g)\n",
      "\n",
      "        return h\n",
      "\n",
      "    def distance(self):\n",
      "        \n",
      "        # time of flight up\n",
      "        # vf_y = 0 = vi_y - g t\n",
      "        t = self.vy/self.g\n",
      "\n",
      "        # total time = up + down\n",
      "        t = 2.0*t\n",
      "\n",
      "        d = self.vx*t\n",
      "\n",
      "        return d\n",
      "\n",
      "    def __str__(self):\n",
      "        # a string representation for this class -- so we can print it\n",
      "        str = \" v: %s m/s\\n theta: %s (degrees)\\n height: %s m\\n distance: %s m\\n\" % \\\n",
      "            (`self.v`, `self.theta`, `self.height()`, `self.distance()`)\n",
      "        \n",
      "        return str\n"
     ],
     "language": "python",
     "metadata": {},
     "outputs": [],
     "prompt_number": 1
    },
    {
     "cell_type": "raw",
     "metadata": {},
     "source": [
      "there is a lot going on there.\n",
      "\n",
      "When you instantiate a class, the __init__ method is called.  Note that all method in a class always have \"self\" as the first argument -- this refers to the object that is invoking the method.\n",
      "\n",
      "Here we create a projectile"
     ]
    },
    {
     "cell_type": "code",
     "collapsed": false,
     "input": [
      "p1 = projectile()"
     ],
     "language": "python",
     "metadata": {},
     "outputs": [],
     "prompt_number": 2
    },
    {
     "cell_type": "raw",
     "metadata": {},
     "source": [
      "The class has a special __str__ function that tells python what it should do if you print an object"
     ]
    },
    {
     "cell_type": "code",
     "collapsed": false,
     "input": [
      "print p1"
     ],
     "language": "python",
     "metadata": {},
     "outputs": [
      {
       "output_type": "stream",
       "stream": "stdout",
       "text": [
        " v: 1.0 m/s\n",
        " theta: 45 (degrees)\n",
        " height: 0.025484199796126393 m\n",
        " distance: 0.1019367991845056 m\n",
        "\n"
       ]
      }
     ],
     "prompt_number": 3
    },
    {
     "cell_type": "raw",
     "metadata": {},
     "source": [
      "We can put objects into a list"
     ]
    },
    {
     "cell_type": "code",
     "collapsed": false,
     "input": [
      "projectiles = []\n",
      "projectiles.append(p1)\n",
      "\n",
      "projectiles.append(projectile(v = 100, theta = 70))\n",
      "projectiles.append(projectile(v = 1000, theta = 30))\n",
      "\n",
      "print projectiles"
     ],
     "language": "python",
     "metadata": {},
     "outputs": [
      {
       "output_type": "stream",
       "stream": "stdout",
       "text": [
        "[<__main__.projectile instance at 0x264fa70>, <__main__.projectile instance at 0x264f830>, <__main__.projectile instance at 0x264fd40>]\n"
       ]
      }
     ],
     "prompt_number": 4
    },
    {
     "cell_type": "raw",
     "metadata": {},
     "source": [
      "Then we can loop over these and use them, e.g., call the height method"
     ]
    },
    {
     "cell_type": "code",
     "collapsed": false,
     "input": [
      "print \"heights:\"\n",
      "for p in projectiles:\n",
      "    print p.height()\n"
     ],
     "language": "python",
     "metadata": {},
     "outputs": [
      {
       "output_type": "stream",
       "stream": "stdout",
       "text": [
        "heights:\n",
        "0.0254841997961\n",
        "450.062294373\n",
        "12742.0998981\n"
       ]
      }
     ],
     "prompt_number": 5
    },
    {
     "cell_type": "raw",
     "metadata": {},
     "source": [
      "There are advanced features like inheritance -- a class can be built upon other classes and inherit from them.  We'll look at this as needed."
     ]
    }
   ],
   "metadata": {}
  }
 ]
}