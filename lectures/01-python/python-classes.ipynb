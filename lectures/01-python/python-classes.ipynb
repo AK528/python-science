{
 "metadata": {
  "name": "",
  "signature": "sha256:c0d800674615819fe540723a05085314f8c985b973a3a728e7e1bf7bd9ce790a"
 },
 "nbformat": 3,
 "nbformat_minor": 0,
 "worksheets": [
  {
   "cells": [
    {
     "cell_type": "heading",
     "level": 1,
     "metadata": {},
     "source": [
      "Classes"
     ]
    },
    {
     "cell_type": "raw",
     "metadata": {},
     "source": [
      "Classes are the fundamental concept for object oriented programming.  A class defines a data type with both data and functions that can operate on the data.  An object is an instance of a class.  Each object will have its own namespace (separate from other instances of the class and other functions, etc. in your program)."
     ]
    },
    {
     "cell_type": "raw",
     "metadata": {},
     "source": [
      "simplest example: just a container (like a struct in C)"
     ]
    },
    {
     "cell_type": "code",
     "collapsed": false,
     "input": [
      "class Container:\n",
      "    pass\n",
      "        \n",
      "a = Container()\n",
      "a.x = 1\n",
      "a.y = 2\n",
      "a.z = 3\n",
      "\n",
      "b = Container()\n",
      "b.xyz = 1\n",
      "b.uvw = 2\n",
      "\n",
      "print a.x, a.y, a.z\n",
      "print b.xyz, b.uvw"
     ],
     "language": "python",
     "metadata": {},
     "outputs": [
      {
       "output_type": "stream",
       "stream": "stdout",
       "text": [
        "1 2 3\n",
        "1 2\n"
       ]
      }
     ],
     "prompt_number": 1
    },
    {
     "cell_type": "raw",
     "metadata": {},
     "source": [
      "notice that you don't have to declare what variables are members of the class ahead of time (although, usually that's good practice)"
     ]
    },
    {
     "cell_type": "heading",
     "level": 2,
     "metadata": {},
     "source": [
      "Playing Cards"
     ]
    },
    {
     "cell_type": "raw",
     "metadata": {},
     "source": [
      "here's a simple class that represents a playing card.  Notice that we are using unicode to represent the suits."
     ]
    },
    {
     "cell_type": "code",
     "collapsed": false,
     "input": [
      "class Card:\n",
      "    \n",
      "    def __init__(self, suit=1, rank=2):\n",
      "        if suit < 1 or suit > 4:\n",
      "            print \"invalid suit, setting to 1\"\n",
      "            \n",
      "        self.suit = suit\n",
      "        self.rank = rank\n",
      "        \n",
      "\n",
      "\n",
      "    def value(self):\n",
      "        \"\"\" we want things order primarily by rank then suit \"\"\"\n",
      "        return self.suit + (self.rank-1)*14\n",
      "\n",
      "\n",
      "    def __cmp__(self, other):\n",
      "        return cmp(self.value(), other.value())\n",
      "    \n",
      "\n",
      "    def __unicode__(self):\n",
      "        suits = [u\"\\u2660\",  # spade\n",
      "                 u\"\\u2665\",  # heart\n",
      "                 u\"\\u2666\",  # diamond\n",
      "                 u\"\\u2663\"]  # club\n",
      "        \n",
      "        r = `self.rank`\n",
      "        if self.rank == 11:\n",
      "            r = \"J\"\n",
      "        elif self.rank == 12:\n",
      "            r = \"Q\"\n",
      "        elif self.rank == 13:\n",
      "            r = \"K\"\n",
      "        elif self.rank == 14:\n",
      "            r = \"A\"\n",
      "                \n",
      "        return r +':'+suits[self.suit-1]\n",
      "    \n",
      "    def __str__(self):\n",
      "        return unicode(self).encode('utf-8')\n",
      "        "
     ],
     "language": "python",
     "metadata": {},
     "outputs": [],
     "prompt_number": 2
    },
    {
     "cell_type": "raw",
     "metadata": {},
     "source": [
      "we can create a card easily:"
     ]
    },
    {
     "cell_type": "code",
     "collapsed": false,
     "input": [
      "c1 = Card()\n",
      "c2 = Card(suit=1, rank=13)"
     ],
     "language": "python",
     "metadata": {},
     "outputs": [],
     "prompt_number": 3
    },
    {
     "cell_type": "code",
     "collapsed": false,
     "input": [
      "c3 = Card(suit=0, rank=4)"
     ],
     "language": "python",
     "metadata": {},
     "outputs": [
      {
       "output_type": "stream",
       "stream": "stdout",
       "text": [
        "invalid suit, setting to 1\n"
       ]
      }
     ],
     "prompt_number": 4
    },
    {
     "cell_type": "raw",
     "metadata": {},
     "source": [
      "The __str__ method converts the object into a string that can be printed.  The __unicode__ method is a new python feature."
     ]
    },
    {
     "cell_type": "code",
     "collapsed": false,
     "input": [
      "print c1\n",
      "print c2"
     ],
     "language": "python",
     "metadata": {},
     "outputs": [
      {
       "output_type": "stream",
       "stream": "stdout",
       "text": [
        "2:\u2660\n",
        "K:\u2660\n"
       ]
      }
     ],
     "prompt_number": 5
    },
    {
     "cell_type": "raw",
     "metadata": {},
     "source": [
      "the value method assigns a value to the object that can be used in comparisons, and the __cmp__ method is what does the actual comparing"
     ]
    },
    {
     "cell_type": "code",
     "collapsed": false,
     "input": [
      "print c1 > c2\n",
      "print c1 < c2"
     ],
     "language": "python",
     "metadata": {},
     "outputs": [
      {
       "output_type": "stream",
       "stream": "stdout",
       "text": [
        "False\n",
        "True\n"
       ]
      }
     ],
     "prompt_number": 6
    },
    {
     "cell_type": "raw",
     "metadata": {},
     "source": [
      "classes can use other include other classes as data objects -- here's a deck of cards.  Note that we are using the python random module here."
     ]
    },
    {
     "cell_type": "code",
     "collapsed": false,
     "input": [
      "import random\n",
      "\n",
      "class Deck:\n",
      "    \"\"\" the deck is a collection of cards \"\"\"\n",
      "\n",
      "    def __init__(self):\n",
      "\n",
      "        self.nsuits = 4\n",
      "        self.nranks = 13\n",
      "        self.minrank = 2\n",
      "        self.maxrank = self.minrank + self.nranks - 1\n",
      "\n",
      "        self.cards = []\n",
      "\n",
      "        rank = self.minrank\n",
      "        while (rank <= self.maxrank):\n",
      "\n",
      "            suit = 1\n",
      "            while (suit <= self.nsuits):\n",
      "                current_card = Card(rank=rank, suit=suit)\n",
      "                self.cards.append(current_card)\n",
      "\n",
      "                suit += 1\n",
      "            rank += 1\n",
      "\n",
      "\n",
      "    def shuffle(self):\n",
      "        random.shuffle(self.cards)\n",
      "\n",
      "\n",
      "    def get_cards(self, num=1):\n",
      "        hand = []\n",
      "\n",
      "        for n in range(num):\n",
      "            hand.append(self.cards.pop())\n",
      "\n",
      "        return hand\n",
      "\n",
      "    \n",
      "    def __str__(self):\n",
      "        string = \"\"\n",
      "        for c in self.cards:\n",
      "            string += str(c) + \" \"\n",
      "        return string"
     ],
     "language": "python",
     "metadata": {},
     "outputs": [],
     "prompt_number": 7
    },
    {
     "cell_type": "raw",
     "metadata": {},
     "source": [
      "let's create a deck, shuffle, and deal a hand (for a poker game)"
     ]
    },
    {
     "cell_type": "code",
     "collapsed": false,
     "input": [
      "mydeck = Deck()\n",
      "print mydeck\n",
      "mydeck.shuffle()\n",
      "\n",
      "hand = mydeck.get_cards(5)\n",
      "for c in sorted(hand): print c"
     ],
     "language": "python",
     "metadata": {},
     "outputs": [
      {
       "output_type": "stream",
       "stream": "stdout",
       "text": [
        "2:\u2660 2:\u2665 2:\u2666 2:\u2663 3:\u2660 3:\u2665 3:\u2666 3:\u2663 4:\u2660 4:\u2665 4:\u2666 4:\u2663 5:\u2660 5:\u2665 5:\u2666 5:\u2663 6:\u2660 6:\u2665 6:\u2666 6:\u2663 7:\u2660 7:\u2665 7:\u2666 7:\u2663 8:\u2660 8:\u2665 8:\u2666 8:\u2663 9:\u2660 9:\u2665 9:\u2666 9:\u2663 10:\u2660 10:\u2665 10:\u2666 10:\u2663 J:\u2660 J:\u2665 J:\u2666 J:\u2663 Q:\u2660 Q:\u2665 Q:\u2666 Q:\u2663 K:\u2660 K:\u2665 K:\u2666 K:\u2663 A:\u2660 A:\u2665 A:\u2666 A:\u2663 \n",
        "2:\u2663\n",
        "4:\u2665\n",
        "6:\u2665\n",
        "K:\u2663\n",
        "A:\u2663\n"
       ]
      }
     ],
     "prompt_number": 8
    },
    {
     "cell_type": "heading",
     "level": 2,
     "metadata": {},
     "source": [
      "Projectiles"
     ]
    },
    {
     "cell_type": "raw",
     "metadata": {},
     "source": [
      "Here we have a class that represents a projectile.  It has member functions for finding the distance and height of the projectile"
     ]
    },
    {
     "cell_type": "code",
     "collapsed": false,
     "input": [
      "import math\n",
      "\n",
      "class Projectile:\n",
      "\n",
      "    # this is called every time a new object is created\n",
      "    def __init__ (self, v=1.0, theta=45, grav=9.81):\n",
      "\n",
      "        self.v = v           # velocity m/s\n",
      "        self.theta = theta   # angle (degrees)\n",
      "        \n",
      "        self.theta_rad = math.radians(theta)\n",
      "        self.vx = v*math.cos(self.theta_rad)\n",
      "        self.vy = v*math.sin(self.theta_rad)\n",
      "\n",
      "        self.g = grav\n",
      "\n",
      "\n",
      "    def height(self):\n",
      "\n",
      "        # how high does this projectile go?\n",
      "        # vf_y^2 = 0 = vi_y^2 - 2 g h\n",
      "        h = self.vy**2/(2.0*self.g)\n",
      "\n",
      "        return h\n",
      "\n",
      "    def distance(self):\n",
      "        \n",
      "        # time of flight up\n",
      "        # vf_y = 0 = vi_y - g t\n",
      "        t = self.vy/self.g\n",
      "\n",
      "        # total time = up + down\n",
      "        t = 2.0*t\n",
      "\n",
      "        d = self.vx*t\n",
      "\n",
      "        return d\n",
      "\n",
      "    def __str__(self):\n",
      "        # a string representation for this class -- so we can print it\n",
      "        str = \" v: %s m/s\\n theta: %s (degrees)\\n height: %s m\\n distance: %s m\\n\" % \\\n",
      "            (`self.v`, `self.theta`, `self.height()`, `self.distance()`)\n",
      "        \n",
      "        return str\n"
     ],
     "language": "python",
     "metadata": {},
     "outputs": [],
     "prompt_number": 9
    },
    {
     "cell_type": "raw",
     "metadata": {},
     "source": [
      "there is a lot going on there.\n",
      "\n",
      "When you instantiate a class, the __init__ method is called.  Note that all method in a class always have \"self\" as the first argument -- this refers to the object that is invoking the method.\n",
      "\n",
      "Here we create a projectile"
     ]
    },
    {
     "cell_type": "code",
     "collapsed": false,
     "input": [
      "p1 = Projectile()"
     ],
     "language": "python",
     "metadata": {},
     "outputs": [],
     "prompt_number": 10
    },
    {
     "cell_type": "raw",
     "metadata": {},
     "source": [
      "The class has a special __str__ function that tells python what it should do if you print an object"
     ]
    },
    {
     "cell_type": "code",
     "collapsed": false,
     "input": [
      "print p1"
     ],
     "language": "python",
     "metadata": {},
     "outputs": [
      {
       "output_type": "stream",
       "stream": "stdout",
       "text": [
        " v: 1.0 m/s\n",
        " theta: 45 (degrees)\n",
        " height: 0.025484199796126393 m\n",
        " distance: 0.1019367991845056 m\n",
        "\n"
       ]
      }
     ],
     "prompt_number": 11
    },
    {
     "cell_type": "raw",
     "metadata": {},
     "source": [
      "We can put objects into a list"
     ]
    },
    {
     "cell_type": "code",
     "collapsed": false,
     "input": [
      "projectiles = []\n",
      "projectiles.append(p1)\n",
      "\n",
      "projectiles.append(Projectile(v = 100, theta = 70))\n",
      "projectiles.append(Projectile(v = 1000, theta = 30))\n",
      "\n",
      "print projectiles"
     ],
     "language": "python",
     "metadata": {},
     "outputs": [
      {
       "output_type": "stream",
       "stream": "stdout",
       "text": [
        "[<__main__.Projectile instance at 0x7f4f7c3669e0>, <__main__.Projectile instance at 0x7f4f7c366b00>, <__main__.Projectile instance at 0x7f4f7c366b90>]\n"
       ]
      }
     ],
     "prompt_number": 12
    },
    {
     "cell_type": "raw",
     "metadata": {},
     "source": [
      "Then we can loop over these and use them, e.g., call the height method"
     ]
    },
    {
     "cell_type": "code",
     "collapsed": false,
     "input": [
      "print \"heights:\"\n",
      "for p in projectiles:\n",
      "    print p.height()\n"
     ],
     "language": "python",
     "metadata": {},
     "outputs": [
      {
       "output_type": "stream",
       "stream": "stdout",
       "text": [
        "heights:\n",
        "0.0254841997961\n",
        "450.062294373\n",
        "12742.0998981\n"
       ]
      }
     ],
     "prompt_number": 13
    },
    {
     "cell_type": "raw",
     "metadata": {},
     "source": [
      "There are advanced features like inheritance -- a class can be built upon other classes and inherit from them.  We'll look at this as needed."
     ]
    },
    {
     "cell_type": "code",
     "collapsed": false,
     "input": [],
     "language": "python",
     "metadata": {},
     "outputs": []
    }
   ],
   "metadata": {}
  }
 ]
}