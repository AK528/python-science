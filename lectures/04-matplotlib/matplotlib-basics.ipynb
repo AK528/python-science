{
 "cells": [
  {
   "cell_type": "markdown",
   "metadata": {},
   "source": [
    "## matplotlib\n",
    "\n",
    "Matplotlib is the core plotting package in scientific python.  There are others to explore as well (which we'll chat about on slack).\n",
    "\n",
    "Note: the latest version of matplotlib (2.0) introduced a number of style changes.  This is the version we use here.\n",
    "\n",
    "Also, there are different interfaces for interacting with matplotlib, an interactive, function-drive commandset and an object-oriented version."
   ]
  },
  {
   "cell_type": "markdown",
   "metadata": {
    "deletable": true,
    "editable": true
   },
   "source": [
    "We want matplotlib to work inline in the notebook."
   ]
  },
  {
   "cell_type": "code",
   "execution_count": null,
   "metadata": {
    "collapsed": false,
    "deletable": true,
    "editable": true
   },
   "outputs": [],
   "source": [
    "%matplotlib inline"
   ]
  },
  {
   "cell_type": "code",
   "execution_count": null,
   "metadata": {
    "collapsed": true,
    "deletable": true,
    "editable": true
   },
   "outputs": [],
   "source": [
    "import numpy as np\n",
    "import matplotlib.pyplot as plt"
   ]
  },
  {
   "cell_type": "markdown",
   "metadata": {},
   "source": [
    "## Matplotlib concepts\n",
    "\n",
    "Matplotlib was designed with the following goals (from mpl docs):\n",
    "\n",
    "* Plots should look great -- publication quality (e.g. antialiased)\n",
    "* Postscript output for inclusion with TeX documents\n",
    "* Embeddable in a graphical user interface for application development\n",
    "* Code should be easy to understand it and extend\n",
    "* Making plots should be easy\n",
    "\n",
    "Matplotlib is mostly for 2-d data, but there are some basic 3-d (surface) interfaces.\n",
    "\n",
    "Volumetric data requires a different approach"
   ]
  },
  {
   "cell_type": "markdown",
   "metadata": {},
   "source": [
    "### Gallery\n",
    "\n",
    "Matplotlib has a great gallery on their webpage -- find something there close to what you are trying to do and use it as a starting point:\n",
    "\n",
    "http://matplotlib.org/gallery.html"
   ]
  },
  {
   "cell_type": "markdown",
   "metadata": {},
   "source": [
    "### Importing\n",
    "\n",
    "There are several different interfaces for matplotlib (see http://matplotlib.org/faq/usage_faq.html)\n",
    "\n",
    "Basic ideas:\n",
    "\n",
    "* `matplotlib` is the entire package\n",
    "* `matplotlib.pyplot` is a module within matplotlib that provides easy access to the core plotting routines\n",
    "* `pylab` combines pyplot and numpy into a single namespace to give a MatLab like interface\n",
    "\n",
    "There are a number of modules that extend its behavior, e.g. `basemap` for plotting on a sphere, `mplot3d` for 3-d surfaces\n"
   ]
  },
  {
   "cell_type": "markdown",
   "metadata": {},
   "source": [
    "### Anatomy of a figure\n",
    "\n",
    "Figures are the highest level obect and can inlcude multiple axes\n",
    "![](anatomy1.png)\n",
    "\n",
    "(figure from: http://matplotlib.org/faq/usage_faq.html#parts-of-a-figure )\n"
   ]
  },
  {
   "cell_type": "markdown",
   "metadata": {},
   "source": [
    "### Backends\n",
    "\n",
    "Interactive backends: pygtk, wxpython, tkinter, ...\n",
    "\n",
    "Hardcopy backends: PNG, PDF, PS, SVG, ...\n",
    "\n"
   ]
  },
  {
   "cell_type": "markdown",
   "metadata": {
    "deletable": true,
    "editable": true
   },
   "source": [
    "# Basic plotting"
   ]
  },
  {
   "cell_type": "markdown",
   "metadata": {
    "deletable": true,
    "editable": true
   },
   "source": [
    "plot() is the most basic command.  Here we also see that we can use LaTeX notation for the axes"
   ]
  },
  {
   "cell_type": "code",
   "execution_count": null,
   "metadata": {
    "collapsed": false,
    "deletable": true,
    "editable": true
   },
   "outputs": [],
   "source": [
    "x = np.linspace(0,2.0*np.pi, num=100)\n",
    "y = np.cos(x)\n",
    "\n",
    "plt.plot(x,y)\n",
    "plt.xlabel(r\"$x$\")\n",
    "plt.ylabel(r\"$\\cos(x)$\", fontsize=\"x-large\")\n",
    "plt.xlim(0, 2.0*np.pi)"
   ]
  },
  {
   "cell_type": "markdown",
   "metadata": {
    "deletable": true,
    "editable": true
   },
   "source": [
    "we can plot multiple lines on a plot and set their colors or linestyle -- the latter come through the third argument.  Here we also tighten up the x range of the plot"
   ]
  },
  {
   "cell_type": "code",
   "execution_count": null,
   "metadata": {
    "collapsed": false,
    "deletable": true,
    "editable": true
   },
   "outputs": [],
   "source": [
    "plt.clf()\n",
    "plt.plot(x, np.sin(x), color=\"r\", linestyle=\":\")\n",
    "plt.plot(x, np.cos(x), \"b-\")\n",
    "plt.xlim(0.0, 2.0*np.pi)\n",
    "plt.show()"
   ]
  },
  {
   "cell_type": "markdown",
   "metadata": {
    "deletable": true,
    "editable": true
   },
   "source": [
    "we can use symbols instead of lines pretty easily too -- and label them"
   ]
  },
  {
   "cell_type": "code",
   "execution_count": null,
   "metadata": {
    "collapsed": false,
    "deletable": true,
    "editable": true
   },
   "outputs": [],
   "source": [
    "plt.plot(x, np.sin(x), \"ro\", label=\"sine\")\n",
    "plt.plot(x, np.cos(x), \"bx\", label=\"cosine\")\n",
    "plt.xlim(0.0, 2.0*np.pi)\n",
    "plt.legend(frameon=False, loc=5)"
   ]
  },
  {
   "cell_type": "markdown",
   "metadata": {
    "deletable": true,
    "editable": true
   },
   "source": [
    "most functions take a number of optional named argumets too"
   ]
  },
  {
   "cell_type": "code",
   "execution_count": null,
   "metadata": {
    "collapsed": false,
    "deletable": true,
    "editable": true
   },
   "outputs": [],
   "source": [
    "plt.plot(x, np.sin(x), \"r--\", linewidth=3.0)\n",
    "plt.plot(x, np.cos(x), \"b-\")\n",
    "plt.xlim(0.0, 2.0*np.pi)"
   ]
  },
  {
   "cell_type": "markdown",
   "metadata": {
    "deletable": true,
    "editable": true
   },
   "source": [
    "there is a command setp() that can also set the properties.  We can get the list of settable properties as"
   ]
  },
  {
   "cell_type": "code",
   "execution_count": null,
   "metadata": {
    "collapsed": false,
    "deletable": true,
    "editable": true
   },
   "outputs": [],
   "source": [
    "line = plt.plot(x, np.sin(x))\n",
    "plt.setp(line)"
   ]
  },
  {
   "cell_type": "markdown",
   "metadata": {
    "deletable": true,
    "editable": true
   },
   "source": [
    "# Multiple axes"
   ]
  },
  {
   "cell_type": "markdown",
   "metadata": {
    "deletable": true,
    "editable": true
   },
   "source": [
    "there are a wide range of methods for putting multiple axes on a grid.  We'll look at the simplest method.  All plotting commands apply to the current set of axes"
   ]
  },
  {
   "cell_type": "code",
   "execution_count": null,
   "metadata": {
    "collapsed": false,
    "deletable": true,
    "editable": true
   },
   "outputs": [],
   "source": [
    "plt.subplot(211)\n",
    "\n",
    "x = np.linspace(0,5,100)\n",
    "plt.plot(x, x**3 - 4*x)\n",
    "plt.xlabel(\"x\")\n",
    "plt.ylabel(r\"$x^3 - 4x$\", fontsize=\"large\")\n",
    "\n",
    "plt.subplot(212)\n",
    "\n",
    "plt.plot(x, np.exp(-x**2))\n",
    "plt.xlabel(\"x\")\n",
    "plt.ylabel(\"Gaussian\")\n",
    "\n",
    "# log scale\n",
    "ax = plt.gca()\n",
    "ax.set_yscale(\"log\")\n",
    "\n",
    "# get the figure and set its size\n",
    "f = plt.gcf()\n",
    "f.set_size_inches(6,8)\n",
    "\n",
    "# tight_layout() makes sure things don't overlap\n",
    "plt.tight_layout()\n",
    "plt.savefig(\"test.png\")"
   ]
  },
  {
   "cell_type": "markdown",
   "metadata": {
    "deletable": true,
    "editable": true
   },
   "source": [
    "# Visualizing 2-d array data"
   ]
  },
  {
   "cell_type": "code",
   "execution_count": null,
   "metadata": {
    "collapsed": false,
    "deletable": true,
    "editable": true
   },
   "outputs": [],
   "source": [
    "def g(x, y):\n",
    "    return np.exp(-((x-0.5)**2)/0.1**2 - ((y-0.5)**2)/0.2**2)\n",
    "\n",
    "N = 100\n",
    "\n",
    "x = np.linspace(0.0,1.0,N)\n",
    "y = x.copy()\n",
    "\n",
    "xv, yv = np.meshgrid(x, y)\n",
    "print(xv.shape)\n",
    "plt.imshow(g(xv,yv), origin=\"lower\")\n",
    "plt.colorbar()\n"
   ]
  },
  {
   "cell_type": "code",
   "execution_count": null,
   "metadata": {
    "collapsed": false,
    "deletable": true,
    "editable": true
   },
   "outputs": [],
   "source": [
    "plt.contour(g(xv,yv))\n",
    "ax = plt.axis(\"scaled\")   # this adjusts the size of image to make x and y lengths equal\n"
   ]
  },
  {
   "cell_type": "markdown",
   "metadata": {
    "deletable": true,
    "editable": true
   },
   "source": [
    "# Error bars"
   ]
  },
  {
   "cell_type": "code",
   "execution_count": null,
   "metadata": {
    "collapsed": false,
    "deletable": true,
    "editable": true
   },
   "outputs": [],
   "source": [
    "def y_experiment(a1, a2, sigma, x):\n",
    "    \"\"\" return the experimental data in a linear + random fashion a1\n",
    "        is the intercept, a2 is the slope, and sigma is the error \"\"\"\n",
    "\n",
    "    N = len(x)\n",
    "\n",
    "    # randn gives samples from the \"standard normal\" distribution\n",
    "    r = np.random.randn(N)\n",
    "    y = a1 + a2*x + sigma*r\n",
    "    return y\n",
    "\n",
    "N = 40\n",
    "x = np.linspace(0.0, 100.0, N)\n",
    "sigma = 25.0*np.ones(N)\n",
    "y = y_experiment(10.0, 3.0, sigma, x)\n",
    "\n",
    "plt.errorbar(x, y, yerr=sigma, fmt=\"o\")"
   ]
  },
  {
   "cell_type": "markdown",
   "metadata": {
    "deletable": true,
    "editable": true
   },
   "source": [
    "# Annotations"
   ]
  },
  {
   "cell_type": "markdown",
   "metadata": {
    "deletable": true,
    "editable": true
   },
   "source": [
    "adding text and annotations is easy"
   ]
  },
  {
   "cell_type": "code",
   "execution_count": null,
   "metadata": {
    "collapsed": false,
    "deletable": true,
    "editable": true
   },
   "outputs": [],
   "source": [
    "xx = np.linspace(0, 2.0*np.pi, 1000)\n",
    "plt.plot(xx, np.sin(xx), color=\"r\")\n",
    "plt.text(np.pi/2, np.sin(np.pi/2), r\"maximum\")\n",
    "ax = plt.gca()\n",
    "ax.spines['right'].set_visible(False)\n",
    "ax.spines['top'].set_visible(False)\n",
    "ax.xaxis.set_ticks_position('bottom')                                           \n",
    "ax.yaxis.set_ticks_position('left') "
   ]
  },
  {
   "cell_type": "code",
   "execution_count": null,
   "metadata": {
    "collapsed": false,
    "deletable": true,
    "editable": true
   },
   "outputs": [],
   "source": [
    "#example from http://matplotlib.org/examples/pylab_examples/annotation_demo.html\n",
    "fig = plt.figure()\n",
    "ax = fig.add_subplot(111, projection='polar')\n",
    "r = np.arange(0, 1, 0.001)\n",
    "theta = 2*2*np.pi*r\n",
    "line, = ax.plot(theta, r, color='#ee8d18', lw=3)\n",
    "\n",
    "ind = 800\n",
    "thisr, thistheta = r[ind], theta[ind]\n",
    "ax.plot([thistheta], [thisr], 'o')\n",
    "ax.annotate('a polar annotation',\n",
    "            xy=(thistheta, thisr),  # theta, radius\n",
    "            xytext=(0.05, 0.05),    # fraction, fraction\n",
    "            textcoords='figure fraction',\n",
    "            arrowprops=dict(facecolor='black', shrink=0.05),\n",
    "            horizontalalignment='left',\n",
    "            verticalalignment='bottom',\n",
    "            )\n"
   ]
  },
  {
   "cell_type": "markdown",
   "metadata": {
    "deletable": true,
    "editable": true
   },
   "source": [
    "The background image for the class advertisement was made using python + matplotlib"
   ]
  },
  {
   "cell_type": "code",
   "execution_count": null,
   "metadata": {
    "collapsed": false,
    "deletable": true,
    "editable": true
   },
   "outputs": [],
   "source": [
    "import random\n",
    "\n",
    "class Gradient(object):\n",
    "    def __init__(self, start_color, end_color, orientation=\"h\"):\n",
    "        self.start_color = start_color\n",
    "        self.end_color = end_color\n",
    "        self.orientation = orientation\n",
    "\n",
    "    def get_img_array(self, W, H):\n",
    "        a = np.zeros((H, W, 3), dtype=np.float64)\n",
    "        r0, g0, b0 = self.start_color\n",
    "        r1, g1, b1 = self.end_color\n",
    "\n",
    "        if self.orientation == \"h\":\n",
    "            for n, r in enumerate([(r0, r1), (g0, g1), (b0, b1)]):\n",
    "                col = np.linspace(r[0], r[1], num=W, endpoint=True)\n",
    "                a[:,:,n] = col[np.newaxis,:]\n",
    "        elif self.orientation == \"v\":\n",
    "            for n, r in enumerate([(r0, r1), (g0, g1), (b0, b1)]):\n",
    "                row = np.linspace(r[0], r[1], num=H, endpoint=True)\n",
    "                a[:,:,n] = row[:,np.newaxis]\n",
    "            \n",
    "        return a/256.0\n",
    "\n",
    "class RandomBinary(object):\n",
    "    def __init__(self):\n",
    "        ONE = \"1\"\n",
    "        ZERO = \"0\"\n",
    "        self.len = random.randrange(0,24)\n",
    "\n",
    "        self.str = \"\"\n",
    "        for n in range(self.len):\n",
    "            self.str += random.choice([ONE, ZERO])\n",
    "\n",
    "        self.size = int(random.lognormvariate(3, 0.6))  # 3 here makes the average e**3 ~ 20\n",
    "\n",
    "        self.color = str(random.uniform(0.1, 0.4))\n",
    "\n",
    "        self.x = random.uniform(0.0, 1.0)\n",
    "        self.y = random.uniform(0.0, 1.0)\n",
    "\n",
    "\n",
    "g = Gradient((51,51,204), (102,0,204), orientation=\"v\")\n",
    "\n",
    "W = 850\n",
    "H = 1100\n",
    "i = g.get_img_array(W, H)\n",
    "\n",
    "f = plt.gcf()\n",
    "\n",
    "plt.imshow(i)\n",
    "\n",
    "# random drawing of binary text\n",
    "N = 100\n",
    "for n in range(N):\n",
    "    b = RandomBinary()\n",
    "    plt.text(b.x, b.y, b.str, transform=f.transFigure, fontsize=b.size, color=b.\n",
    "color, alpha=0.4)\n",
    "\n",
    "\n",
    "plt.axis(\"off\")\n",
    "plt.subplots_adjust(left=0.0, right=1.0, bottom=0.0, top=1.0)\n",
    "\n",
    "\n",
    "f.set_size_inches(W/100., H/100.)\n",
    "\n",
    "plt.show()"
   ]
  },
  {
   "cell_type": "markdown",
   "metadata": {
    "deletable": true,
    "editable": true
   },
   "source": [
    "# Surface plots"
   ]
  },
  {
   "cell_type": "markdown",
   "metadata": {
    "deletable": true,
    "editable": true
   },
   "source": [
    "matplotlib can't deal with true 3-d data (i.e., x,y,z + a value), but it can plot 2-d surfaces and lines in 3-d."
   ]
  },
  {
   "cell_type": "code",
   "execution_count": null,
   "metadata": {
    "collapsed": false,
    "deletable": true,
    "editable": true
   },
   "outputs": [],
   "source": [
    "from mpl_toolkits.mplot3d import Axes3D\n",
    "fig = plt.figure()\n",
    "ax = fig.gca(projection=\"3d\")\n",
    "\n",
    "# parametric curves\n",
    "N = 100\n",
    "theta = np.linspace(-4*np.pi, 4*np.pi, N)\n",
    "z = np.linspace(-2, 2, N)\n",
    "r = z**2 + 1\n",
    "\n",
    "x = r*np.sin(theta)\n",
    "y = r*np.cos(theta)\n",
    "\n",
    "ax.plot(x,y,z)"
   ]
  },
  {
   "cell_type": "code",
   "execution_count": null,
   "metadata": {
    "collapsed": false,
    "deletable": true,
    "editable": true
   },
   "outputs": [],
   "source": [
    "fig = plt.figure()\n",
    "ax = fig.gca(projection=\"3d\")\n",
    "X = np.arange(-5,5, 0.25)\n",
    "Y = np.arange(-5,5, 0.25)\n",
    "X, Y = np.meshgrid(X, Y)\n",
    "R = np.sqrt(X**2 + Y**2)\n",
    "Z = np.sin(R)\n",
    "\n",
    "surf = ax.plot_surface(X, Y, Z, rstride=1, cstride=1, cmap=\"coolwarm\")\n",
    "\n",
    "# we can use setp to investigate and set options here too\n",
    "plt.setp(surf)\n",
    "plt.setp(surf,lw=0)\n",
    "plt.setp(surf, facecolor=\"red\")\n",
    "\n",
    "\n",
    "# and the view (note: most interactive backends will allow you to rotate this freely)\n",
    "ax = plt.gca()\n",
    "ax.azim = 90\n",
    "ax.elev = 40"
   ]
  },
  {
   "cell_type": "markdown",
   "metadata": {
    "deletable": true,
    "editable": true
   },
   "source": [
    "# Plotting on a sphere"
   ]
  },
  {
   "cell_type": "markdown",
   "metadata": {
    "deletable": true,
    "editable": true
   },
   "source": [
    "the map funcationality expects stuff in longitude and latitude, so if you want to plot x,y,z on the surface of a sphere using the idea of spherical coordinates, remember that the spherical angle from z (theta) is co-latitude\n",
    "\n",
    "note: you need the python-basemap package installed for this to work\n",
    "\n",
    "This also illustrates getting access to a matplotlib toolkit"
   ]
  },
  {
   "cell_type": "code",
   "execution_count": null,
   "metadata": {
    "collapsed": false,
    "deletable": true,
    "editable": true
   },
   "outputs": [],
   "source": [
    "def to_lonlat(x,y,z):\n",
    "    SMALL = 1.e-100\n",
    "    rho = np.sqrt((x + SMALL)**2 + (y + SMALL)**2)\n",
    "    R = np.sqrt(rho**2 + (z + SMALL)**2)\n",
    "    \n",
    "    theta = np.degrees(np.arctan2(rho, z + SMALL))\n",
    "    phi = np.degrees(np.arctan2(y + SMALL, x + SMALL))\n",
    "    \n",
    "    # latitude is 90 - the spherical theta\n",
    "    return (phi, 90-theta)\n",
    "\n",
    "\n",
    "from mpl_toolkits.basemap import Basemap\n",
    "\n",
    "# other projections are allowed, e.g. \"ortho\", moll\"\n",
    "map = Basemap(projection='moll', lat_0 = 45, lon_0 = 45,\n",
    "              resolution = 'l', area_thresh = 1000.)\n",
    "\n",
    "map.drawmapboundary()\n",
    "\n",
    "map.drawmeridians(np.arange(0, 360, 15), color=\"0.5\", latmax=90)\n",
    "map.drawparallels(np.arange(-90, 90, 15), color=\"0.5\", latmax=90) #, labels=[1,0,0,1])\n",
    "\n",
    "# unit vectors (+x, +y, +z)\n",
    "points = [(1,0,0), (0,1,0), (0,0,1)]\n",
    "labels = [\"+x\", \"+y\", \"+z\"]\n",
    "\n",
    "for i in range(len(points)):\n",
    "    p = points[i]\n",
    "    print(p)\n",
    "    lon, lat = to_lonlat(p[0], p[1], p[2])\n",
    "    xp, yp = map(lon, lat)\n",
    "    s = plt.text(xp, yp, labels[i], color=\"b\", zorder=10)\n",
    "\n",
    "# draw a great circle arc between two points\n",
    "lats = [0, 0]\n",
    "lons = [0, 90]\n",
    "\n",
    "map.drawgreatcircle(lons[0], lats[0], lons[1], lats[1], linewidth=2, color=\"r\")\n",
    "\n"
   ]
  },
  {
   "cell_type": "raw",
   "metadata": {
    "deletable": true,
    "editable": true
   },
   "source": [
    "also, if you really are interested in earth..."
   ]
  },
  {
   "cell_type": "code",
   "execution_count": null,
   "metadata": {
    "collapsed": false,
    "deletable": true,
    "editable": true
   },
   "outputs": [],
   "source": [
    "map = Basemap(projection='ortho', lat_0 = 45, lon_0 = 45,\n",
    "              resolution = 'l', area_thresh = 1000.)\n",
    "\n",
    "map.drawcoastlines()\n",
    "map.drawmapboundary()"
   ]
  },
  {
   "cell_type": "markdown",
   "metadata": {
    "deletable": true,
    "editable": true
   },
   "source": [
    "# Histograms"
   ]
  },
  {
   "cell_type": "markdown",
   "metadata": {
    "deletable": true,
    "editable": true
   },
   "source": [
    "here we generate a bunch of gaussian-normalized random numbers and make a histogram.  The probability distribution should match\n",
    "$$y(x) = \\frac{1}{\\sigma \\sqrt{2\\pi}} e^{-x^2/(2\\sigma^2)}$$"
   ]
  },
  {
   "cell_type": "code",
   "execution_count": null,
   "metadata": {
    "collapsed": false,
    "deletable": true,
    "editable": true
   },
   "outputs": [],
   "source": [
    "N = 10000\n",
    "r = np.random.randn(N)\n",
    "plt.hist(r, normed=True, bins=20)\n",
    "\n",
    "x = np.linspace(-5,5,200)\n",
    "sigma = 1.0\n",
    "plt.plot(x, np.exp(-x**2/(2*sigma**2))/(sigma*np.sqrt(2.0*np.pi)),\n",
    "         c=\"r\", lw=2)\n",
    "plt.xlabel(\"x\")\n"
   ]
  },
  {
   "cell_type": "markdown",
   "metadata": {
    "deletable": true,
    "editable": true
   },
   "source": [
    "# Plotting data from a file"
   ]
  },
  {
   "cell_type": "markdown",
   "metadata": {
    "deletable": true,
    "editable": true
   },
   "source": [
    "numpy.loadtxt() provides an easy way to read columns of data from an ASCII file"
   ]
  },
  {
   "cell_type": "code",
   "execution_count": null,
   "metadata": {
    "collapsed": false,
    "deletable": true,
    "editable": true
   },
   "outputs": [],
   "source": [
    "data = np.loadtxt(\"test1.exact.128.out\")\n",
    "print(data.shape)"
   ]
  },
  {
   "cell_type": "code",
   "execution_count": null,
   "metadata": {
    "collapsed": false,
    "deletable": true,
    "editable": true
   },
   "outputs": [],
   "source": [
    "plt.plot(data[:,1], data[:,2]/np.max(data[:,2]), label=r\"$\\rho$\")\n",
    "plt.plot(data[:,1], data[:,3]/np.max(data[:,3]), label=r\"$u$\")\n",
    "plt.plot(data[:,1], data[:,4]/np.max(data[:,4]), label=r\"$p$\")\n",
    "plt.plot(data[:,1], data[:,5]/np.max(data[:,5]), label=r\"$T$\")\n",
    "plt.ylim(0,1.1)\n",
    "plt.legend(frameon=False, loc=\"best\", fontsize=12)"
   ]
  },
  {
   "cell_type": "markdown",
   "metadata": {
    "deletable": true,
    "editable": true
   },
   "source": [
    "# Interactivity"
   ]
  },
  {
   "cell_type": "markdown",
   "metadata": {
    "deletable": true,
    "editable": true
   },
   "source": [
    "matplotlib has it's own set of widgets that you can use, but recently, Jupyter / Ipython gained the interact() function\n",
    "(see http://ipywidgets.readthedocs.io/en/latest/examples/Using%20Interact.html )"
   ]
  },
  {
   "cell_type": "code",
   "execution_count": null,
   "metadata": {
    "collapsed": false,
    "deletable": true,
    "editable": true
   },
   "outputs": [],
   "source": [
    "from IPython.html.widgets import *\n",
    "from IPython.display import display"
   ]
  },
  {
   "cell_type": "code",
   "execution_count": null,
   "metadata": {
    "collapsed": false,
    "deletable": true,
    "editable": true
   },
   "outputs": [],
   "source": [
    "x = np.linspace(0,1,100)\n",
    "def plotsin(f):\n",
    "    plt.plot(x, np.sin(2*np.pi*x*f))"
   ]
  },
  {
   "cell_type": "code",
   "execution_count": null,
   "metadata": {
    "collapsed": false,
    "deletable": true,
    "editable": true
   },
   "outputs": [],
   "source": [
    "interact(plotsin, f=(1,10,0.1))"
   ]
  },
  {
   "cell_type": "code",
   "execution_count": null,
   "metadata": {
    "collapsed": false,
    "deletable": true,
    "editable": true
   },
   "outputs": [],
   "source": [
    "# interactive histogram\n",
    "def hist(N, sigma):\n",
    "    r = sigma*np.random.randn(N)\n",
    "    plt.hist(r, normed=True, bins=20)\n",
    "\n",
    "    x = np.linspace(-5,5,200)\n",
    "    \n",
    "    plt.plot(x, np.exp(-x**2/(2*sigma**2))/(sigma*np.sqrt(2.0*np.pi)),\n",
    "             c=\"r\", lw=2)\n",
    "    plt.xlabel(\"x\")\n",
    "    \n",
    "interact(hist, N=(100,10000,10), sigma=(0.5,5,0.1))"
   ]
  },
  {
   "cell_type": "code",
   "execution_count": null,
   "metadata": {
    "collapsed": false,
    "deletable": true,
    "editable": true
   },
   "outputs": [],
   "source": [
    "# based on http://nbviewer.ipython.org/github/adrn/ipython/blob/2.x/examples/Interactive%20Widgets/Widget%20Events.ipynb\n",
    "def update_button(button):\n",
    "    button.clicks += 1\n",
    "    button.description = \"%d\" % button.clicks\n",
    "\n",
    "button = Button(description = \"Start\")\n",
    "button.clicks = 0\n",
    "display(button)\n",
    "button.on_click(update_button)"
   ]
  },
  {
   "cell_type": "markdown",
   "metadata": {
    "deletable": true,
    "editable": true
   },
   "source": [
    "see: https://github.com/ipython/ipywidgets"
   ]
  },
  {
   "cell_type": "markdown",
   "metadata": {
    "deletable": true,
    "editable": true
   },
   "source": [
    "# Final fun"
   ]
  },
  {
   "cell_type": "markdown",
   "metadata": {
    "deletable": true,
    "editable": true
   },
   "source": [
    "if you want to make things look hand-drawn in the style of xkcd, rerun these examples after doing\n",
    "plt.xkcd()"
   ]
  },
  {
   "cell_type": "code",
   "execution_count": null,
   "metadata": {
    "collapsed": false,
    "deletable": true,
    "editable": true
   },
   "outputs": [],
   "source": [
    "plt.xkcd()"
   ]
  },
  {
   "cell_type": "markdown",
   "metadata": {
    "collapsed": false,
    "deletable": true,
    "editable": true
   },
   "source": [
    "# Exercises"
   ]
  },
  {
   "cell_type": "markdown",
   "metadata": {},
   "source": [
    "### Q1: subplots\n",
    "\n",
    "matplotlib has a number of ways to create multiple axes in a figure -- look at `plt.subplot()` (http://matplotlib.org/api/pyplot_api.html#matplotlib.pyplot.subplot)\n",
    "\n",
    "Create an `x` array using NumPy with a number of points, spanning from $[0, 2\\pi]$.  \n",
    "\n",
    "Create 3 axes vertically, and do the following:\n",
    "\n",
    "* Define a new numpy array `f` initialized to a function of your choice.\n",
    "* Plot f in the top axes\n",
    "* Compute a numerical derivative of `f`,\n",
    "   $$ f' = \\frac{f_{i+1} - f_i}{\\Delta x}$$\n",
    "  and plot this in the middle axes\n",
    "* Do this again, this time on $f'$ to compute the second derivative and plot that in the bottom axes\n"
   ]
  },
  {
   "cell_type": "code",
   "execution_count": null,
   "metadata": {
    "collapsed": false
   },
   "outputs": [],
   "source": []
  },
  {
   "cell_type": "markdown",
   "metadata": {},
   "source": [
    "### Q2: make a plot related to your discipline\n",
    "\n",
    "You now should know enough to read in some data (or compute it yourself) and plot it.  Take a look at the gallery and find a plot type that is related to your discipline and make a plot following it."
   ]
  },
  {
   "cell_type": "code",
   "execution_count": null,
   "metadata": {
    "collapsed": true
   },
   "outputs": [],
   "source": []
  }
 ],
 "metadata": {
  "kernelspec": {
   "display_name": "Python 3",
   "language": "python",
   "name": "python3"
  },
  "language_info": {
   "codemirror_mode": {
    "name": "ipython",
    "version": 3
   },
   "file_extension": ".py",
   "mimetype": "text/x-python",
   "name": "python",
   "nbconvert_exporter": "python",
   "pygments_lexer": "ipython3",
   "version": "3.5.2"
  }
 },
 "nbformat": 4,
 "nbformat_minor": 0
}
