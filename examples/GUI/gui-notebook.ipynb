{
 "metadata": {
  "name": "",
  "signature": "sha256:13bb20ee6fa431fa266e65f4dfa60b5a7c70b0da56d99994abc24512c5792d65"
 },
 "nbformat": 3,
 "nbformat_minor": 0,
 "worksheets": [
  {
   "cells": [
    {
     "cell_type": "raw",
     "metadata": {},
     "source": [
      "Depending of the version of python, the tkinter module has a different name"
     ]
    },
    {
     "cell_type": "code",
     "collapsed": false,
     "input": [
      "import sys\n",
      "if sys.version_info[0] < 3:\n",
      "    import Tkinter as Tk\n",
      "else:\n",
      "    import tkinter as Tk\n"
     ],
     "language": "python",
     "metadata": {},
     "outputs": [],
     "prompt_number": 1
    },
    {
     "cell_type": "heading",
     "level": 1,
     "metadata": {},
     "source": [
      "A simple GUI"
     ]
    },
    {
     "cell_type": "raw",
     "metadata": {},
     "source": [
      "Here we create a very simply GUI that allows you to enter a string, and outputs the value when you click \"show\".\n",
      "\n",
      "Notice that we create the GUI as a class -- this makes it easy to deal with all the interactions, since the different\n",
      "widget objects and methods they expose (e.g. to get data from the field) are all together in the object's namespace.\n",
      "\n",
      "Some people have the class itself inherit from Tk.Frame, see, e.g., http://stackoverflow.com/questions/17466561/best-way-to-structure-a-tkinter-application"
     ]
    },
    {
     "cell_type": "code",
     "collapsed": false,
     "input": [
      "class MyGUI:\n",
      "    def __init__(self, parent):\n",
      "        self.parent = parent\n",
      "        \n",
      "        self.frame_a = Tk.Frame(self.parent)\n",
      "        self.frame_a.pack(fill=Tk.BOTH, expand=1)                                                                        \n",
      "        \n",
      "        self.label_a = Tk.Label(self.frame_a, text=\"enter some text here: \")\n",
      "        self.label_a.grid(row=0, column=0, sticky=Tk.W)\n",
      "        \n",
      "        self.label_str = Tk.StringVar()\n",
      "        \n",
      "        self.field_a = Tk.Entry(self.frame_a, textvariable=self.label_str)\n",
      "        self.field_a.grid(row=0, column=1, sticky=Tk.W)\n",
      "        \n",
      "        self.frame_buttons = Tk.Frame(self.parent)\n",
      "        self.frame_buttons.pack(fill=Tk.BOTH, expand=1)\n",
      "\n",
      "        self.ok_button = Tk.Button(self.frame_buttons, text=\"show\", command=self._show)\n",
      "        self.ok_button.pack(side=Tk.RIGHT, padx=5, pady=5)\n",
      "        \n",
      "    def _show(self):\n",
      "        str = self.field_a.get()\n",
      "        print \"you entered {}\".format(str)      "
     ],
     "language": "python",
     "metadata": {},
     "outputs": [],
     "prompt_number": 36
    },
    {
     "cell_type": "code",
     "collapsed": false,
     "input": [
      "root = Tk.Tk()\n",
      "root.wm_title(\"my simple GUI\")\n",
      "\n",
      "gui_test = MyGUI(root)\n",
      "\n",
      "root.mainloop()"
     ],
     "language": "python",
     "metadata": {},
     "outputs": [
      {
       "output_type": "stream",
       "stream": "stdout",
       "text": [
        "you entered a\n",
        "you entered a"
       ]
      },
      {
       "output_type": "stream",
       "stream": "stdout",
       "text": [
        "\n"
       ]
      }
     ],
     "prompt_number": 37
    },
    {
     "cell_type": "heading",
     "level": 1,
     "metadata": {},
     "source": [
      "Windows Popping Out Windows"
     ]
    },
    {
     "cell_type": "raw",
     "metadata": {},
     "source": [
      "Now we can try to make it more complex -- let's have the show button pop up a new window.  We'll define a new class to manage that.  It will take the parent widget and also the MyGUI object itself, so we can access that data"
     ]
    },
    {
     "cell_type": "code",
     "collapsed": false,
     "input": [
      "class Response:\n",
      "    def __init__(self, parent, main_obj):\n",
      "        self.parent = parent\n",
      "        self.main_obj = main_obj\n",
      "        \n",
      "        self.frame = Tk.Frame(self.parent)\n",
      "        self.frame.pack(fill=Tk.BOTH, expand=1)\n",
      "        \n",
      "        str = self.main_obj.field_a.get()\n",
      "        self.label = Tk.Label(self.frame, text=\"You entered {}\".format(str))\n",
      "        self.label.grid(row=0, column=0, sticky=Tk.W)\n",
      "\n",
      "        self.frame_buttons = Tk.Frame(self.parent)\n",
      "        self.frame_buttons.pack(fill=Tk.BOTH, expand=1)\n",
      "        \n",
      "        self.ok_button = Tk.Button(self.frame_buttons, text=\"Ok\", command=self._ok)\n",
      "        self.ok_button.pack(side=Tk.RIGHT, padx=5, pady=5)\n",
      "        \n",
      "    def _ok(self):\n",
      "        self.parent.destroy()"
     ],
     "language": "python",
     "metadata": {},
     "outputs": [],
     "prompt_number": 30
    },
    {
     "cell_type": "raw",
     "metadata": {},
     "source": [
      "we'll need to modify the show() function in our previous class"
     ]
    },
    {
     "cell_type": "code",
     "collapsed": false,
     "input": [
      "class MyGUI2:\n",
      "    def __init__(self, parent):\n",
      "        self.parent = parent\n",
      "        \n",
      "        self.frame_a = Tk.Frame(self.parent)\n",
      "        self.frame_a.pack(fill=Tk.BOTH, expand=1)                                                                        \n",
      "        \n",
      "        self.label_a = Tk.Label(self.frame_a, text=\"enter some text here: \")\n",
      "        self.label_a.grid(row=0, column=0, sticky=Tk.W)\n",
      "        \n",
      "        self.label_str = Tk.StringVar()\n",
      "        \n",
      "        self.field_a = Tk.Entry(self.frame_a, textvariable=self.label_str)\n",
      "        self.field_a.grid(row=0, column=1, sticky=Tk.W)\n",
      "        \n",
      "        self.frame_buttons = Tk.Frame(self.parent)\n",
      "        self.frame_buttons.pack(fill=Tk.BOTH, expand=1)\n",
      "\n",
      "        self.show_button = Tk.Button(self.frame_buttons, text=\"show\", command=self._show)\n",
      "        self.show_button.pack(side=Tk.RIGHT, padx=5, pady=5)\n",
      "        \n",
      "    def _show(self):\n",
      "        self.new_window = Tk.Toplevel(self.parent)\n",
      "        self.show = Response(self.new_window, self)"
     ],
     "language": "python",
     "metadata": {},
     "outputs": [],
     "prompt_number": 31
    },
    {
     "cell_type": "code",
     "collapsed": false,
     "input": [
      "root = Tk.Tk()\n",
      "root.wm_title(\"my simple GUI\")\n",
      "\n",
      "gui_test = MyGUI2(root)\n",
      "\n",
      "root.mainloop()"
     ],
     "language": "python",
     "metadata": {},
     "outputs": [],
     "prompt_number": 32
    },
    {
     "cell_type": "code",
     "collapsed": false,
     "input": [],
     "language": "python",
     "metadata": {},
     "outputs": []
    }
   ],
   "metadata": {}
  }
 ]
}